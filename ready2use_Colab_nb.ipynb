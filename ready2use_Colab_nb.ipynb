{
  "nbformat": 4,
  "nbformat_minor": 0,
  "metadata": {
    "colab": {
      "name": "ready2use_Colab_nb.ipynb",
      "provenance": [],
      "authorship_tag": "ABX9TyNFzAKGJoHmj1l/2ZnUOJgB",
      "include_colab_link": true
    },
    "kernelspec": {
      "name": "python3",
      "display_name": "Python 3"
    },
    "language_info": {
      "name": "python"
    }
  },
  "cells": [
    {
      "cell_type": "markdown",
      "metadata": {
        "id": "view-in-github",
        "colab_type": "text"
      },
      "source": [
        "<a href=\"https://colab.research.google.com/github/yilmazgencc/Recommender_System/blob/main/ready2use_Colab_nb.ipynb\" target=\"_parent\"><img src=\"https://colab.research.google.com/assets/colab-badge.svg\" alt=\"Open In Colab\"/></a>"
      ]
    },
    {
      "cell_type": "code",
      "execution_count": null,
      "metadata": {
        "id": "ZwOL4h2wZSfp"
      },
      "outputs": [],
      "source": [
        "!git clone https://github.com/yilmazgencc/Recommender_System.git"
      ]
    },
    {
      "cell_type": "code",
      "source": [
        "cd /content/Recommender_System"
      ],
      "metadata": {
        "id": "0Ts3-ynRZvL6"
      },
      "execution_count": null,
      "outputs": []
    },
    {
      "cell_type": "code",
      "source": [
        "!python train.p"
      ],
      "metadata": {
        "id": "DynKqjUTZ0ET"
      },
      "execution_count": null,
      "outputs": []
    }
  ]
}