{
  "nbformat": 4,
  "nbformat_minor": 0,
  "metadata": {
    "colab": {
      "name": "recommender tf NN.ipynb",
      "provenance": [],
      "authorship_tag": "ABX9TyN40cNrwffr2RZhQ7+IbP2W",
      "include_colab_link": true
    },
    "kernelspec": {
      "name": "python3",
      "display_name": "Python 3"
    },
    "language_info": {
      "name": "python"
    }
  },
  "cells": [
    {
      "cell_type": "markdown",
      "metadata": {
        "id": "view-in-github",
        "colab_type": "text"
      },
      "source": [
        "<a href=\"https://colab.research.google.com/github/yilmazgencc/recomender_system/blob/main/recommender_tf_NN.ipynb\" target=\"_parent\"><img src=\"https://colab.research.google.com/assets/colab-badge.svg\" alt=\"Open In Colab\"/></a>"
      ]
    },
    {
      "cell_type": "code",
      "execution_count": 1,
      "metadata": {
        "id": "CoswTxNDOWcI"
      },
      "outputs": [],
      "source": [
        "import os\n",
        "import math\n",
        "from zipfile import ZipFile\n",
        "from urllib.request import urlretrieve\n",
        "import numpy as np\n",
        "import pandas as pd\n",
        "import tensorflow as tf\n",
        "from tensorflow import keras\n",
        "from tensorflow.keras import layers\n",
        "from tensorflow.keras.layers import StringLookup\n",
        "import matplotlib.pyplot as plt\n",
        "\n",
        "from keras.models import Model"
      ]
    },
    {
      "cell_type": "code",
      "source": [
        "urlretrieve(\"http://files.grouplens.org/datasets/movielens/ml-1m.zip\", \"movielens.zip\")\n",
        "ZipFile(\"movielens.zip\", \"r\").extractall()\n",
        "\n",
        "ratings_data = pd.read_csv(\n",
        "    \"ml-1m/ratings.dat\",\n",
        "    sep=\"::\",\n",
        "    names=[\"user_id\", \"movie_id\", \"rating\", \"unix_timestamp\"],\n",
        ")\n",
        "\n",
        "ratings_data[\"movie_id\"] = ratings_data[\"movie_id\"].apply(lambda x: f\"movie_{x}\")\n",
        "ratings_data[\"user_id\"] = ratings_data[\"user_id\"].apply(lambda x: f\"user_{x}\")\n",
        "ratings_data[\"rating\"] = ratings_data[\"rating\"].apply(lambda x: float(x))\n",
        "del ratings_data[\"unix_timestamp\"]\n",
        "\n",
        "print(f\"Number of users: {len(ratings_data.user_id.unique())}\")\n",
        "print(f\"Number of movies: {len(ratings_data.movie_id.unique())}\")\n",
        "print(f\"Number of ratings: {len(ratings_data.index)}\")\n"
      ],
      "metadata": {
        "colab": {
          "base_uri": "https://localhost:8080/"
        },
        "id": "fPndaAoxOmNM",
        "outputId": "3573ff4f-6918-465a-f3b1-4522865cf85c"
      },
      "execution_count": 2,
      "outputs": [
        {
          "output_type": "stream",
          "name": "stderr",
          "text": [
            "/usr/local/lib/python3.7/dist-packages/pandas/util/_decorators.py:311: ParserWarning: Falling back to the 'python' engine because the 'c' engine does not support regex separators (separators > 1 char and different from '\\s+' are interpreted as regex); you can avoid this warning by specifying engine='python'.\n",
            "  return func(*args, **kwargs)\n"
          ]
        },
        {
          "output_type": "stream",
          "name": "stdout",
          "text": [
            "Number of users: 6040\n",
            "Number of movies: 3706\n",
            "Number of ratings: 1000209\n"
          ]
        }
      ]
    },
    {
      "cell_type": "code",
      "source": [
        "random_selection = np.random.rand(len(ratings_data.index)) <= 0.85\n",
        "train_data = ratings_data[random_selection]\n",
        "eval_data = ratings_data[~random_selection]\n",
        "\n",
        "train_data.to_csv(\"train_data.csv\", index=False, sep=\"|\", header=False)\n",
        "eval_data.to_csv(\"eval_data.csv\", index=False, sep=\"|\", header=False)\n",
        "print(f\"Train data split: {len(train_data.index)}\")\n",
        "print(f\"Eval data split: {len(eval_data.index)}\")\n",
        "print(\"Train and eval data files are saved.\")"
      ],
      "metadata": {
        "colab": {
          "base_uri": "https://localhost:8080/"
        },
        "id": "_NQn16TJOoyH",
        "outputId": "7aa835b6-0a02-43c1-d633-43d81eebf282"
      },
      "execution_count": 3,
      "outputs": [
        {
          "output_type": "stream",
          "name": "stdout",
          "text": [
            "Train data split: 849134\n",
            "Eval data split: 151075\n",
            "Train and eval data files are saved.\n"
          ]
        }
      ]
    },
    {
      "cell_type": "code",
      "source": [
        "csv_header = list(ratings_data.columns)\n",
        "user_vocabulary = list(ratings_data.user_id.unique())\n",
        "movie_vocabulary = list(ratings_data.movie_id.unique())\n",
        "target_feature_name = \"rating\"\n",
        "base_embedding_dim = 64"
      ],
      "metadata": {
        "id": "qMqeQ5m_OrZU"
      },
      "execution_count": 4,
      "outputs": []
    },
    {
      "cell_type": "code",
      "source": [
        "def get_dataset_from_csv(csv_file_path, batch_size=128, shuffle=True):\n",
        "    return tf.data.experimental.make_csv_dataset(\n",
        "        csv_file_path,\n",
        "        batch_size=batch_size,\n",
        "        column_names=csv_header,\n",
        "        label_name=target_feature_name,\n",
        "        num_epochs=1,\n",
        "        header=False,\n",
        "        field_delim=\"|\",\n",
        "        shuffle=shuffle,\n",
        "    )\n",
        "\n",
        "\n",
        "def run_experiment(model, learning_rate, batch_size, num_epochs):\n",
        "    # Compile the model.\n",
        "    model.compile(\n",
        "        optimizer=keras.optimizers.Adam(learning_rate),\n",
        "        loss=tf.keras.losses.MeanSquaredError(),\n",
        "        #loss=tf.keras.losses.BinaryCrossentropy(),\n",
        "        #metrics=[keras.metrics.MeanAbsoluteError(name=\"mae\")],\n",
        "        metrics=['accuracy', tf.keras.metrics.RootMeanSquaredError(name=\"rmse\")]\n",
        "    )\n",
        "    # Read the training data.\n",
        "    train_dataset = get_dataset_from_csv(\"train_data.csv\", batch_size)\n",
        "    # Read the test data.\n",
        "    eval_dataset = get_dataset_from_csv(\"eval_data.csv\", batch_size, shuffle=False)\n",
        "    # Fit the model with the training data.\n",
        "    history = model.fit(train_dataset, epochs=num_epochs, validation_data=eval_dataset,)\n",
        "    return history\n",
        "\n",
        "def embedding_encoder(vocabulary, embedding_dim, num_oov_indices=0, name=None):\n",
        "    return keras.Sequential(\n",
        "        [\n",
        "            StringLookup(\n",
        "                vocabulary=vocabulary, mask_token=None, num_oov_indices=num_oov_indices\n",
        "            ),\n",
        "            layers.Embedding(\n",
        "                input_dim=len(vocabulary) + num_oov_indices, output_dim=embedding_dim\n",
        "            ),\n",
        "        ],\n",
        "        name=f\"{name}_embedding\" if name else None,\n",
        "    )\n"
      ],
      "metadata": {
        "id": "kGIRMAjLPMh_"
      },
      "execution_count": 5,
      "outputs": []
    },
    {
      "cell_type": "code",
      "source": [
        "def MyModel():\n",
        "    user_input = layers.Input(name=\"user_id\", shape=(), dtype=tf.string)\n",
        "    # Get user embedding.\n",
        "    user_embedding = embedding_encoder(\n",
        "        vocabulary=user_vocabulary, embedding_dim=base_embedding_dim, name=\"user\"\n",
        "    )(user_input)\n",
        "\n",
        "    # Receive the movie as an input.\n",
        "    movie_input = layers.Input(name=\"movie_id\", shape=(), dtype=tf.string)\n",
        "    # Get embedding.\n",
        "    movie_embedding = embedding_encoder(\n",
        "        vocabulary=movie_vocabulary, embedding_dim=base_embedding_dim, name=\"movie\"\n",
        "    )(movie_input)\n",
        "\n",
        "    d=layers.Concatenate(axis=1)([user_embedding, movie_embedding])\n",
        "    d=layers.Dense(256, activation=\"relu\")(d)\n",
        "    d=layers.Dense(64, activation=\"relu\")(d)\n",
        "    d=tf.keras.layers.Dense(1, activation=\"sigmoid\")(d)\n",
        "    output = d * 5\n",
        "\n",
        "    model = Model(inputs=[user_input, movie_input], outputs=output, name=\"nn_model\")\n",
        "    #model.compile(loss='mse', optimizer=Adam(lr=0.0002, beta_1=0.5), loss_weights=[0.5])\n",
        "    return model\n",
        "mymodel=MyModel()\n",
        "mymodel.summary()"
      ],
      "metadata": {
        "colab": {
          "base_uri": "https://localhost:8080/"
        },
        "id": "T0wFl8NfO29b",
        "outputId": "7e614877-cd2b-4add-dff4-c8302ff24c01"
      },
      "execution_count": 6,
      "outputs": [
        {
          "output_type": "stream",
          "name": "stderr",
          "text": [
            "/usr/local/lib/python3.7/dist-packages/numpy/core/numeric.py:2446: FutureWarning: elementwise comparison failed; returning scalar instead, but in the future will perform elementwise comparison\n",
            "  return bool(asarray(a1 == a2).all())\n"
          ]
        },
        {
          "output_type": "stream",
          "name": "stdout",
          "text": [
            "Model: \"nn_model\"\n",
            "__________________________________________________________________________________________________\n",
            " Layer (type)                   Output Shape         Param #     Connected to                     \n",
            "==================================================================================================\n",
            " user_id (InputLayer)           [(None,)]            0           []                               \n",
            "                                                                                                  \n",
            " movie_id (InputLayer)          [(None,)]            0           []                               \n",
            "                                                                                                  \n",
            " user_embedding (Sequential)    (None, 64)           386560      ['user_id[0][0]']                \n",
            "                                                                                                  \n",
            " movie_embedding (Sequential)   (None, 64)           237184      ['movie_id[0][0]']               \n",
            "                                                                                                  \n",
            " concatenate (Concatenate)      (None, 128)          0           ['user_embedding[0][0]',         \n",
            "                                                                  'movie_embedding[0][0]']        \n",
            "                                                                                                  \n",
            " dense (Dense)                  (None, 256)          33024       ['concatenate[0][0]']            \n",
            "                                                                                                  \n",
            " dense_1 (Dense)                (None, 64)           16448       ['dense[0][0]']                  \n",
            "                                                                                                  \n",
            " dense_2 (Dense)                (None, 1)            65          ['dense_1[0][0]']                \n",
            "                                                                                                  \n",
            " tf.math.sigmoid (TFOpLambda)   (None, 1)            0           ['dense_2[0][0]']                \n",
            "                                                                                                  \n",
            " tf.math.multiply (TFOpLambda)  (None, 1)            0           ['tf.math.sigmoid[0][0]']        \n",
            "                                                                                                  \n",
            "==================================================================================================\n",
            "Total params: 673,281\n",
            "Trainable params: 673,281\n",
            "Non-trainable params: 0\n",
            "__________________________________________________________________________________________________\n"
          ]
        }
      ]
    },
    {
      "cell_type": "code",
      "source": [
        "history = run_experiment(mymodel, learning_rate=0.0003, batch_size=1024, num_epochs=25 )\n",
        "#history = run_experiment(baseline_model, learning_rate=0.0003, batch_size=1024, num_epochs=25)\n",
        "plt.plot(history.history[\"loss\"])\n",
        "plt.plot(history.history[\"val_loss\"])\n",
        "plt.title(\"model loss\")\n",
        "plt.ylabel(\"loss\")\n",
        "plt.xlabel(\"epoch\")\n",
        "plt.legend([\"train\", \"eval\"], loc=\"upper left\")\n",
        "plt.show()"
      ],
      "metadata": {
        "colab": {
          "base_uri": "https://localhost:8080/",
          "height": 1000
        },
        "id": "gnI571zWP5X-",
        "outputId": "21febaf8-8441-4c78-9a82-ef23e3bba078"
      },
      "execution_count": 7,
      "outputs": [
        {
          "output_type": "stream",
          "name": "stdout",
          "text": [
            "Epoch 1/25\n",
            "830/830 [==============================] - 37s 43ms/step - loss: 1.1560 - accuracy: 0.0561 - rmse: 1.0752 - val_loss: 0.9107 - val_accuracy: 0.0567 - val_rmse: 0.9543\n",
            "Epoch 2/25\n",
            "830/830 [==============================] - 41s 50ms/step - loss: 0.8585 - accuracy: 0.0561 - rmse: 0.9266 - val_loss: 0.8412 - val_accuracy: 0.0567 - val_rmse: 0.9172\n",
            "Epoch 3/25\n",
            "830/830 [==============================] - 35s 42ms/step - loss: 0.8145 - accuracy: 0.0561 - rmse: 0.9025 - val_loss: 0.8325 - val_accuracy: 0.0567 - val_rmse: 0.9124\n",
            "Epoch 4/25\n",
            "830/830 [==============================] - 33s 40ms/step - loss: 0.8042 - accuracy: 0.0561 - rmse: 0.8968 - val_loss: 0.8253 - val_accuracy: 0.0567 - val_rmse: 0.9085\n",
            "Epoch 5/25\n",
            "830/830 [==============================] - 33s 40ms/step - loss: 0.7964 - accuracy: 0.0561 - rmse: 0.8924 - val_loss: 0.8184 - val_accuracy: 0.0567 - val_rmse: 0.9047\n",
            "Epoch 6/25\n",
            "830/830 [==============================] - 33s 40ms/step - loss: 0.7883 - accuracy: 0.0561 - rmse: 0.8879 - val_loss: 0.8130 - val_accuracy: 0.0567 - val_rmse: 0.9017\n",
            "Epoch 7/25\n",
            "830/830 [==============================] - 33s 40ms/step - loss: 0.7811 - accuracy: 0.0561 - rmse: 0.8838 - val_loss: 0.8091 - val_accuracy: 0.0567 - val_rmse: 0.8995\n",
            "Epoch 8/25\n",
            "830/830 [==============================] - 33s 40ms/step - loss: 0.7747 - accuracy: 0.0561 - rmse: 0.8802 - val_loss: 0.8058 - val_accuracy: 0.0567 - val_rmse: 0.8977\n",
            "Epoch 9/25\n",
            "830/830 [==============================] - 33s 40ms/step - loss: 0.7684 - accuracy: 0.0561 - rmse: 0.8766 - val_loss: 0.8022 - val_accuracy: 0.0567 - val_rmse: 0.8957\n",
            "Epoch 10/25\n",
            "830/830 [==============================] - 33s 40ms/step - loss: 0.7618 - accuracy: 0.0561 - rmse: 0.8728 - val_loss: 0.7979 - val_accuracy: 0.0567 - val_rmse: 0.8932\n",
            "Epoch 11/25\n",
            "830/830 [==============================] - 34s 40ms/step - loss: 0.7550 - accuracy: 0.0561 - rmse: 0.8689 - val_loss: 0.7951 - val_accuracy: 0.0567 - val_rmse: 0.8917\n",
            "Epoch 12/25\n",
            "830/830 [==============================] - 53s 64ms/step - loss: 0.7483 - accuracy: 0.0561 - rmse: 0.8650 - val_loss: 0.7912 - val_accuracy: 0.0567 - val_rmse: 0.8895\n",
            "Epoch 13/25\n",
            "830/830 [==============================] - 33s 40ms/step - loss: 0.7411 - accuracy: 0.0561 - rmse: 0.8609 - val_loss: 0.7881 - val_accuracy: 0.0567 - val_rmse: 0.8878\n",
            "Epoch 14/25\n",
            "830/830 [==============================] - 34s 40ms/step - loss: 0.7331 - accuracy: 0.0561 - rmse: 0.8562 - val_loss: 0.7857 - val_accuracy: 0.0567 - val_rmse: 0.8864\n",
            "Epoch 15/25\n",
            "830/830 [==============================] - 52s 63ms/step - loss: 0.7243 - accuracy: 0.0561 - rmse: 0.8511 - val_loss: 0.7838 - val_accuracy: 0.0567 - val_rmse: 0.8853\n",
            "Epoch 16/25\n",
            "830/830 [==============================] - 34s 41ms/step - loss: 0.7143 - accuracy: 0.0561 - rmse: 0.8452 - val_loss: 0.7842 - val_accuracy: 0.0567 - val_rmse: 0.8855\n",
            "Epoch 17/25\n",
            "830/830 [==============================] - 33s 39ms/step - loss: 0.7037 - accuracy: 0.0561 - rmse: 0.8388 - val_loss: 0.7850 - val_accuracy: 0.0567 - val_rmse: 0.8860\n",
            "Epoch 18/25\n",
            "830/830 [==============================] - 37s 44ms/step - loss: 0.6920 - accuracy: 0.0560 - rmse: 0.8319 - val_loss: 0.7876 - val_accuracy: 0.0567 - val_rmse: 0.8875\n",
            "Epoch 19/25\n",
            "830/830 [==============================] - 33s 39ms/step - loss: 0.6792 - accuracy: 0.0560 - rmse: 0.8242 - val_loss: 0.7934 - val_accuracy: 0.0567 - val_rmse: 0.8907\n",
            "Epoch 20/25\n",
            "830/830 [==============================] - 36s 44ms/step - loss: 0.6657 - accuracy: 0.0560 - rmse: 0.8159 - val_loss: 0.7983 - val_accuracy: 0.0567 - val_rmse: 0.8935\n",
            "Epoch 21/25\n",
            "830/830 [==============================] - 34s 41ms/step - loss: 0.6512 - accuracy: 0.0560 - rmse: 0.8069 - val_loss: 0.8053 - val_accuracy: 0.0566 - val_rmse: 0.8974\n",
            "Epoch 22/25\n",
            "830/830 [==============================] - 33s 39ms/step - loss: 0.6361 - accuracy: 0.0560 - rmse: 0.7975 - val_loss: 0.8129 - val_accuracy: 0.0566 - val_rmse: 0.9016\n",
            "Epoch 23/25\n",
            "830/830 [==============================] - 33s 40ms/step - loss: 0.6206 - accuracy: 0.0560 - rmse: 0.7878 - val_loss: 0.8216 - val_accuracy: 0.0566 - val_rmse: 0.9064\n",
            "Epoch 24/25\n",
            "830/830 [==============================] - 38s 46ms/step - loss: 0.6053 - accuracy: 0.0560 - rmse: 0.7780 - val_loss: 0.8301 - val_accuracy: 0.0566 - val_rmse: 0.9111\n",
            "Epoch 25/25\n",
            "830/830 [==============================] - 42s 51ms/step - loss: 0.5901 - accuracy: 0.0560 - rmse: 0.7682 - val_loss: 0.8389 - val_accuracy: 0.0566 - val_rmse: 0.9159\n"
          ]
        },
        {
          "output_type": "display_data",
          "data": {
            "image/png": "[encoded data removed]",
            "text/plain": [
              "<Figure size 432x288 with 1 Axes>"
            ]
          },
          "metadata": {
            "needs_background": "light"
          }
        }
      ]
    },
    {
      "cell_type": "code",
      "source": [
        "plt.plot(history.history[\"loss\"])\n",
        "plt.plot(history.history[\"val_loss\"])\n",
        "plt.title(\"model loss\")\n",
        "plt.ylabel(\"loss\")\n",
        "plt.xlabel(\"epoch\")\n",
        "plt.legend([\"train\", \"eval\"], loc=\"upper left\")\n",
        "plt.show()\n",
        "plt.plot(history.history[\"rmse\"])\n",
        "plt.plot(history.history[\"val_rmse\"])\n",
        "plt.title(\"model loss\")\n",
        "plt.ylabel(\"rmse\")\n",
        "plt.xlabel(\"epoch\")\n",
        "plt.legend([\"train\", \"eval\"], loc=\"upper left\")\n",
        "plt.show()"
      ],
      "metadata": {
        "colab": {
          "base_uri": "https://localhost:8080/",
          "height": 573
        },
        "id": "RNmAHFj2P_I7",
        "outputId": "ee54a238-5276-4d44-b0ca-e7849224eeb7"
      },
      "execution_count": 11,
      "outputs": [
        {
          "output_type": "display_data",
          "data": {
            "image/png": "[encoded data removed]",
            "text/plain": [
              "<Figure size 432x288 with 1 Axes>"
            ]
          },
          "metadata": {
            "needs_background": "light"
          }
        },
        {
          "output_type": "display_data",
          "data": {
            "image/png": "[encoded data removed]",
            "text/plain": [
              "<Figure size 432x288 with 1 Axes>"
            ]
          },
          "metadata": {
            "needs_background": "light"
          }
        }
      ]
    }
  ]
}