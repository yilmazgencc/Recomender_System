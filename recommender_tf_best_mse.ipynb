{
  "nbformat": 4,
  "nbformat_minor": 0,
  "metadata": {
    "colab": {
      "name": "recommender tf v7.ipynb",
      "provenance": [],
      "collapsed_sections": [],
      "authorship_tag": "ABX9TyOO4+8QeV/0X93FMqV0pH8B",
      "include_colab_link": true
    },
    "kernelspec": {
      "name": "python3",
      "display_name": "Python 3"
    },
    "language_info": {
      "name": "python"
    }
  },
  "cells": [
    {
      "cell_type": "markdown",
      "metadata": {
        "id": "view-in-github",
        "colab_type": "text"
      },
      "source": [
        "<a href=\"https://colab.research.google.com/github/yilmazgencc/recomender_system/blob/main/recommender_tf_best_mse.ipynb\" target=\"_parent\"><img src=\"https://colab.research.google.com/assets/colab-badge.svg\" alt=\"Open In Colab\"/></a>"
      ]
    },
    {
      "cell_type": "code",
      "execution_count": 12,
      "metadata": {
        "id": "uu9RHQWYZbBj"
      },
      "outputs": [],
      "source": [
        "import os\n",
        "import math\n",
        "from zipfile import ZipFile\n",
        "from urllib.request import urlretrieve\n",
        "import numpy as np\n",
        "import pandas as pd\n",
        "import tensorflow as tf\n",
        "from tensorflow import keras\n",
        "from tensorflow.keras import layers\n",
        "from tensorflow.keras.layers import StringLookup\n",
        "import matplotlib.pyplot as plt"
      ]
    },
    {
      "cell_type": "code",
      "source": [
        "urlretrieve(\"http://files.grouplens.org/datasets/movielens/ml-1m.zip\", \"movielens.zip\")\n",
        "ZipFile(\"movielens.zip\", \"r\").extractall()\n",
        "\n",
        "ratings_data = pd.read_csv(\n",
        "    \"ml-1m/ratings.dat\",\n",
        "    sep=\"::\",\n",
        "    names=[\"user_id\", \"movie_id\", \"rating\", \"unix_timestamp\"],\n",
        ")\n",
        "\n",
        "ratings_data[\"movie_id\"] = ratings_data[\"movie_id\"].apply(lambda x: f\"movie_{x}\")\n",
        "ratings_data[\"user_id\"] = ratings_data[\"user_id\"].apply(lambda x: f\"user_{x}\")\n",
        "ratings_data[\"rating\"] = ratings_data[\"rating\"].apply(lambda x: float(x))\n",
        "del ratings_data[\"unix_timestamp\"]\n",
        "\n",
        "print(f\"Number of users: {len(ratings_data.user_id.unique())}\")\n",
        "print(f\"Number of movies: {len(ratings_data.movie_id.unique())}\")\n",
        "print(f\"Number of ratings: {len(ratings_data.index)}\")\n"
      ],
      "metadata": {
        "colab": {
          "base_uri": "https://localhost:8080/"
        },
        "id": "3fFyra5LZphZ",
        "outputId": "ddf7e3da-a272-4270-e69e-181ec077e03d"
      },
      "execution_count": 2,
      "outputs": [
        {
          "output_type": "stream",
          "name": "stderr",
          "text": [
            "/usr/local/lib/python3.7/dist-packages/pandas/util/_decorators.py:311: ParserWarning: Falling back to the 'python' engine because the 'c' engine does not support regex separators (separators > 1 char and different from '\\s+' are interpreted as regex); you can avoid this warning by specifying engine='python'.\n",
            "  return func(*args, **kwargs)\n"
          ]
        },
        {
          "output_type": "stream",
          "name": "stdout",
          "text": [
            "Number of users: 6040\n",
            "Number of movies: 3706\n",
            "Number of ratings: 1000209\n"
          ]
        }
      ]
    },
    {
      "cell_type": "code",
      "source": [
        "ratings_data[\"movie_id\"].min()"
      ],
      "metadata": {
        "colab": {
          "base_uri": "https://localhost:8080/",
          "height": 35
        },
        "id": "lCqBY2Sxy6bQ",
        "outputId": "3470ee84-93ba-43ae-bd4c-fe51c708aefa"
      },
      "execution_count": 16,
      "outputs": [
        {
          "output_type": "execute_result",
          "data": {
            "application/vnd.google.colaboratory.intrinsic+json": {
              "type": "string"
            },
            "text/plain": [
              "'movie_1'"
            ]
          },
          "metadata": {},
          "execution_count": 16
        }
      ]
    },
    {
      "cell_type": "code",
      "source": [
        "random_selection = np.random.rand(len(ratings_data.index)) <= 0.85\n",
        "train_data = ratings_data[random_selection]\n",
        "eval_data = ratings_data[~random_selection]\n",
        "\n",
        "train_data.to_csv(\"train_data.csv\", index=False, sep=\"|\", header=False)\n",
        "eval_data.to_csv(\"eval_data.csv\", index=False, sep=\"|\", header=False)\n",
        "print(f\"Train data split: {len(train_data.index)}\")\n",
        "print(f\"Eval data split: {len(eval_data.index)}\")\n",
        "print(\"Train and eval data files are saved.\")"
      ],
      "metadata": {
        "colab": {
          "base_uri": "https://localhost:8080/"
        },
        "id": "Ey6cbif-Zyhu",
        "outputId": "94060ac4-ac5a-443f-fe23-3c17caba5e27"
      },
      "execution_count": 3,
      "outputs": [
        {
          "output_type": "stream",
          "name": "stdout",
          "text": [
            "Train data split: 849610\n",
            "Eval data split: 150599\n",
            "Train and eval data files are saved.\n"
          ]
        }
      ]
    },
    {
      "cell_type": "code",
      "source": [
        "csv_header = list(ratings_data.columns)\n",
        "user_vocabulary = list(ratings_data.user_id.unique())\n",
        "movie_vocabulary = list(ratings_data.movie_id.unique())\n",
        "target_feature_name = \"rating\"\n",
        "learning_rate = 0.0003\n",
        "batch_size = 1024\n",
        "num_epochs = 25\n",
        "base_embedding_dim = 64"
      ],
      "metadata": {
        "id": "EP90joSzZ-82"
      },
      "execution_count": 10,
      "outputs": []
    },
    {
      "cell_type": "code",
      "source": [
        "def get_dataset_from_csv(csv_file_path, batch_size=128, shuffle=True):\n",
        "    return tf.data.experimental.make_csv_dataset(\n",
        "        csv_file_path,\n",
        "        batch_size=batch_size,\n",
        "        column_names=csv_header,\n",
        "        label_name=target_feature_name,\n",
        "        num_epochs=1,\n",
        "        header=False,\n",
        "        field_delim=\"|\",\n",
        "        shuffle=shuffle,\n",
        "    )\n",
        "\n",
        "\n",
        "def run_experiment(model):\n",
        "    # Compile the model.\n",
        "    model.compile(\n",
        "        optimizer=keras.optimizers.Adam(learning_rate),\n",
        "        #loss=tf.keras.losses.MeanSquaredError(),\n",
        "        loss=tf.keras.losses.BinaryCrossentropy(),\n",
        "        #metrics=[keras.metrics.MeanAbsoluteError(name=\"mae\")],\n",
        "        metrics=['accuracy', tf.keras.metrics.RootMeanSquaredError(name=\"rmse\")]\n",
        "    )\n",
        "    # Read the training data.\n",
        "    train_dataset = get_dataset_from_csv(\"train_data.csv\", batch_size)\n",
        "    # Read the test data.\n",
        "    eval_dataset = get_dataset_from_csv(\"eval_data.csv\", batch_size, shuffle=False)\n",
        "    # Fit the model with the training data.\n",
        "    history = model.fit(train_dataset, epochs=num_epochs, validation_data=eval_dataset,)\n",
        "    return history"
      ],
      "metadata": {
        "id": "LWh4fn4IaOg4"
      },
      "execution_count": 17,
      "outputs": []
    },
    {
      "cell_type": "code",
      "source": [
        "def embedding_encoder(vocabulary, embedding_dim, num_oov_indices=0, name=None):\n",
        "    return keras.Sequential(\n",
        "        [\n",
        "            StringLookup(\n",
        "                vocabulary=vocabulary, mask_token=None, num_oov_indices=num_oov_indices\n",
        "            ),\n",
        "            layers.Embedding(\n",
        "                input_dim=len(vocabulary) + num_oov_indices, output_dim=embedding_dim\n",
        "            ),\n",
        "        ],\n",
        "        name=f\"{name}_embedding\" if name else None,\n",
        "    )"
      ],
      "metadata": {
        "id": "MzMgeP51aZkJ"
      },
      "execution_count": 6,
      "outputs": []
    },
    {
      "cell_type": "code",
      "source": [
        "def create_baseline_model():\n",
        "    # Receive the user as an input.\n",
        "    user_input = layers.Input(name=\"user_id\", shape=(), dtype=tf.string)\n",
        "    # Get user embedding.\n",
        "    user_embedding = embedding_encoder(\n",
        "        vocabulary=user_vocabulary, embedding_dim=base_embedding_dim, name=\"user\"\n",
        "    )(user_input)\n",
        "\n",
        "    # Receive the movie as an input.\n",
        "    movie_input = layers.Input(name=\"movie_id\", shape=(), dtype=tf.string)\n",
        "    # Get embedding.\n",
        "    movie_embedding = embedding_encoder(\n",
        "        vocabulary=movie_vocabulary, embedding_dim=base_embedding_dim, name=\"movie\"\n",
        "    )(movie_input)\n",
        "\n",
        "    # Compute dot product similarity between user and movie embeddings.\n",
        "    logits = layers.Dot(axes=1, name=\"dot_similarity\")(\n",
        "        [user_embedding, movie_embedding]\n",
        "    )\n",
        "    # Convert to rating scale.\n",
        "    prediction = keras.activations.sigmoid(logits) * 5\n",
        "    # Create the model.\n",
        "    model = keras.Model(\n",
        "        inputs=[user_input, movie_input], outputs=prediction, name=\"baseline_model\"\n",
        "    )\n",
        "    return model\n",
        "\n",
        "\n",
        "baseline_model = create_baseline_model()\n",
        "baseline_model.summary()"
      ],
      "metadata": {
        "colab": {
          "base_uri": "https://localhost:8080/"
        },
        "id": "V7NlPUIUadNg",
        "outputId": "03f66905-2fd7-405d-a868-c16867d2734d"
      },
      "execution_count": 7,
      "outputs": [
        {
          "output_type": "stream",
          "name": "stderr",
          "text": [
            "/usr/local/lib/python3.7/dist-packages/numpy/core/numeric.py:2446: FutureWarning: elementwise comparison failed; returning scalar instead, but in the future will perform elementwise comparison\n",
            "  return bool(asarray(a1 == a2).all())\n"
          ]
        },
        {
          "output_type": "stream",
          "name": "stdout",
          "text": [
            "Model: \"baseline_model\"\n",
            "__________________________________________________________________________________________________\n",
            " Layer (type)                   Output Shape         Param #     Connected to                     \n",
            "==================================================================================================\n",
            " user_id (InputLayer)           [(None,)]            0           []                               \n",
            "                                                                                                  \n",
            " movie_id (InputLayer)          [(None,)]            0           []                               \n",
            "                                                                                                  \n",
            " user_embedding (Sequential)    (None, 64)           386560      ['user_id[0][0]']                \n",
            "                                                                                                  \n",
            " movie_embedding (Sequential)   (None, 64)           237184      ['movie_id[0][0]']               \n",
            "                                                                                                  \n",
            " dot_similarity (Dot)           (None, 1)            0           ['user_embedding[0][0]',         \n",
            "                                                                  'movie_embedding[0][0]']        \n",
            "                                                                                                  \n",
            " tf.math.sigmoid (TFOpLambda)   (None, 1)            0           ['dot_similarity[0][0]']         \n",
            "                                                                                                  \n",
            " tf.math.multiply (TFOpLambda)  (None, 1)            0           ['tf.math.sigmoid[0][0]']        \n",
            "                                                                                                  \n",
            "==================================================================================================\n",
            "Total params: 623,744\n",
            "Trainable params: 623,744\n",
            "Non-trainable params: 0\n",
            "__________________________________________________________________________________________________\n"
          ]
        }
      ]
    },
    {
      "cell_type": "code",
      "source": [
        "history = run_experiment(baseline_model)\n",
        "\n",
        "plt.plot(history.history[\"loss\"])\n",
        "plt.plot(history.history[\"val_loss\"])\n",
        "plt.title(\"model loss\")\n",
        "plt.ylabel(\"loss\")\n",
        "plt.xlabel(\"epoch\")\n",
        "plt.legend([\"train\", \"eval\"], loc=\"upper left\")\n",
        "plt.show()"
      ],
      "metadata": {
        "colab": {
          "base_uri": "https://localhost:8080/",
          "height": 1000
        },
        "id": "QGxWV8IZapRP",
        "outputId": "df44a6ed-6d54-4d7e-ca9b-2b59e4e191fc"
      },
      "execution_count": 11,
      "outputs": [
        {
          "output_type": "stream",
          "name": "stdout",
          "text": [
            "Epoch 1/25\n",
            "830/830 [==============================] - 29s 34ms/step - loss: 2.1946 - accuracy: 0.0561 - rmse: 1.4814 - val_loss: 1.8510 - val_accuracy: 0.0567 - val_rmse: 1.3605\n",
            "Epoch 2/25\n",
            "830/830 [==============================] - 27s 32ms/step - loss: 1.4980 - accuracy: 0.0561 - rmse: 1.2239 - val_loss: 1.0964 - val_accuracy: 0.0567 - val_rmse: 1.0471\n",
            "Epoch 3/25\n",
            "830/830 [==============================] - 26s 32ms/step - loss: 0.9933 - accuracy: 0.0561 - rmse: 0.9967 - val_loss: 0.9135 - val_accuracy: 0.0567 - val_rmse: 0.9558\n",
            "Epoch 4/25\n",
            "830/830 [==============================] - 26s 31ms/step - loss: 0.8791 - accuracy: 0.0561 - rmse: 0.9376 - val_loss: 0.8724 - val_accuracy: 0.0567 - val_rmse: 0.9340\n",
            "Epoch 5/25\n",
            "830/830 [==============================] - 26s 32ms/step - loss: 0.8454 - accuracy: 0.0561 - rmse: 0.9195 - val_loss: 0.8541 - val_accuracy: 0.0567 - val_rmse: 0.9242\n",
            "Epoch 6/25\n",
            "830/830 [==============================] - 27s 32ms/step - loss: 0.8261 - accuracy: 0.0561 - rmse: 0.9089 - val_loss: 0.8406 - val_accuracy: 0.0567 - val_rmse: 0.9169\n",
            "Epoch 7/25\n",
            "830/830 [==============================] - 26s 32ms/step - loss: 0.8096 - accuracy: 0.0561 - rmse: 0.8998 - val_loss: 0.8281 - val_accuracy: 0.0567 - val_rmse: 0.9100\n",
            "Epoch 8/25\n",
            "830/830 [==============================] - 26s 32ms/step - loss: 0.7932 - accuracy: 0.0561 - rmse: 0.8906 - val_loss: 0.8157 - val_accuracy: 0.0567 - val_rmse: 0.9032\n",
            "Epoch 9/25\n",
            "830/830 [==============================] - 27s 32ms/step - loss: 0.7768 - accuracy: 0.0561 - rmse: 0.8814 - val_loss: 0.8045 - val_accuracy: 0.0567 - val_rmse: 0.8969\n",
            "Epoch 10/25\n",
            "830/830 [==============================] - 27s 32ms/step - loss: 0.7612 - accuracy: 0.0561 - rmse: 0.8725 - val_loss: 0.7946 - val_accuracy: 0.0567 - val_rmse: 0.8914\n",
            "Epoch 11/25\n",
            "830/830 [==============================] - 27s 33ms/step - loss: 0.7466 - accuracy: 0.0561 - rmse: 0.8640 - val_loss: 0.7864 - val_accuracy: 0.0567 - val_rmse: 0.8868\n",
            "Epoch 12/25\n",
            "830/830 [==============================] - 27s 33ms/step - loss: 0.7326 - accuracy: 0.0561 - rmse: 0.8559 - val_loss: 0.7792 - val_accuracy: 0.0567 - val_rmse: 0.8827\n",
            "Epoch 13/25\n",
            "830/830 [==============================] - 27s 33ms/step - loss: 0.7188 - accuracy: 0.0561 - rmse: 0.8478 - val_loss: 0.7728 - val_accuracy: 0.0567 - val_rmse: 0.8791\n",
            "Epoch 14/25\n",
            "830/830 [==============================] - 27s 33ms/step - loss: 0.7048 - accuracy: 0.0561 - rmse: 0.8395 - val_loss: 0.7669 - val_accuracy: 0.0567 - val_rmse: 0.8757\n",
            "Epoch 15/25\n",
            "830/830 [==============================] - 27s 33ms/step - loss: 0.6902 - accuracy: 0.0561 - rmse: 0.8308 - val_loss: 0.7611 - val_accuracy: 0.0567 - val_rmse: 0.8724\n",
            "Epoch 16/25\n",
            "830/830 [==============================] - 27s 33ms/step - loss: 0.6753 - accuracy: 0.0561 - rmse: 0.8218 - val_loss: 0.7559 - val_accuracy: 0.0567 - val_rmse: 0.8694\n",
            "Epoch 17/25\n",
            "830/830 [==============================] - 28s 33ms/step - loss: 0.6598 - accuracy: 0.0561 - rmse: 0.8123 - val_loss: 0.7511 - val_accuracy: 0.0567 - val_rmse: 0.8667\n",
            "Epoch 18/25\n",
            "830/830 [==============================] - 29s 35ms/step - loss: 0.6440 - accuracy: 0.0561 - rmse: 0.8025 - val_loss: 0.7466 - val_accuracy: 0.0567 - val_rmse: 0.8641\n",
            "Epoch 19/25\n",
            "830/830 [==============================] - 27s 33ms/step - loss: 0.6280 - accuracy: 0.0561 - rmse: 0.7924 - val_loss: 0.7429 - val_accuracy: 0.0567 - val_rmse: 0.8619\n",
            "Epoch 20/25\n",
            "830/830 [==============================] - 26s 32ms/step - loss: 0.6118 - accuracy: 0.0560 - rmse: 0.7821 - val_loss: 0.7398 - val_accuracy: 0.0567 - val_rmse: 0.8601\n",
            "Epoch 21/25\n",
            "830/830 [==============================] - 27s 33ms/step - loss: 0.5956 - accuracy: 0.0560 - rmse: 0.7717 - val_loss: 0.7373 - val_accuracy: 0.0567 - val_rmse: 0.8587\n",
            "Epoch 22/25\n",
            "830/830 [==============================] - 27s 33ms/step - loss: 0.5795 - accuracy: 0.0560 - rmse: 0.7613 - val_loss: 0.7355 - val_accuracy: 0.0567 - val_rmse: 0.8576\n",
            "Epoch 23/25\n",
            "830/830 [==============================] - 27s 33ms/step - loss: 0.5637 - accuracy: 0.0560 - rmse: 0.7508 - val_loss: 0.7344 - val_accuracy: 0.0567 - val_rmse: 0.8570\n",
            "Epoch 24/25\n",
            "830/830 [==============================] - 27s 33ms/step - loss: 0.5481 - accuracy: 0.0560 - rmse: 0.7403 - val_loss: 0.7338 - val_accuracy: 0.0567 - val_rmse: 0.8566\n",
            "Epoch 25/25\n",
            "830/830 [==============================] - 27s 33ms/step - loss: 0.5329 - accuracy: 0.0560 - rmse: 0.7300 - val_loss: 0.7341 - val_accuracy: 0.0567 - val_rmse: 0.8568\n"
          ]
        },
        {
          "output_type": "display_data",
          "data": {
            "image/png": "[encoded data removed]",
            "text/plain": [
              "<Figure size 432x288 with 1 Axes>"
            ]
          },
          "metadata": {
            "needs_background": "light"
          }
        }
      ]
    },
    {
      "cell_type": "code",
      "source": [
        "plt.plot(history.history[\"loss\"])\n",
        "plt.plot(history.history[\"val_loss\"])\n",
        "plt.title(\"model loss\")\n",
        "plt.ylabel(\"loss\")\n",
        "plt.xlabel(\"epoch\")\n",
        "plt.legend([\"train\", \"eval\"], loc=\"upper left\")\n",
        "plt.show()"
      ],
      "metadata": {
        "colab": {
          "base_uri": "https://localhost:8080/",
          "height": 295
        },
        "id": "OmvQhsR0yhGf",
        "outputId": "86d887a7-4105-45b0-d950-21f702a75cad"
      },
      "execution_count": 13,
      "outputs": [
        {
          "output_type": "display_data",
          "data": {
            "image/png": "[encoded data removed]",
            "text/plain": [
              "<Figure size 432x288 with 1 Axes>"
            ]
          },
          "metadata": {
            "needs_background": "light"
          }
        }
      ]
    }
  ]
}