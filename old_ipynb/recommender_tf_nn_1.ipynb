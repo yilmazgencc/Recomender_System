{
  "cells": [
    {
      "cell_type": "markdown",
      "metadata": {
        "id": "view-in-github",
        "colab_type": "text"
      },
      "source": [
        "<a href=\"https://colab.research.google.com/github/yilmazgencc/recomender_system/blob/main/recommender_tf_nn_1.ipynb\" target=\"_parent\"><img src=\"https://colab.research.google.com/assets/colab-badge.svg\" alt=\"Open In Colab\"/></a>"
      ]
    },
    {
      "cell_type": "code",
      "execution_count": 20,
      "metadata": {
        "id": "PEiRqjESDROU"
      },
      "outputs": [],
      "source": [
        "import pandas as pd\n",
        "import numpy as np\n",
        "from zipfile import ZipFile\n",
        "import tensorflow as tf\n",
        "from tensorflow import keras\n",
        "from tensorflow.keras import layers\n",
        "from pathlib import Path\n",
        "import matplotlib.pyplot as plt\n",
        "import os"
      ]
    },
    {
      "cell_type": "code",
      "execution_count": 21,
      "metadata": {
        "colab": {
          "base_uri": "https://localhost:8080/"
        },
        "id": "dBCdKSaUGxaj",
        "outputId": "a1031982-ebb8-4cbd-fba1-d80112770296"
      },
      "outputs": [
        {
          "output_type": "stream",
          "name": "stdout",
          "text": [
            "Num GPUs Available:  0\n"
          ]
        }
      ],
      "source": [
        "print(\"Num GPUs Available: \", len(tf.config.list_physical_devices('GPU')))\n",
        "#tf.debugging.set_log_device_placement(True)"
      ]
    },
    {
      "cell_type": "code",
      "execution_count": 22,
      "metadata": {
        "id": "uEofxZhxFFOK"
      },
      "outputs": [],
      "source": [
        "def dataset_prep(df):\n",
        "    user_ids = df[\"userId\"].unique().tolist()\n",
        "    user2user_encoded = {x: i for i, x in enumerate(user_ids)}\n",
        "    userencoded2user = {i: x for i, x in enumerate(user_ids)}\n",
        "    movie_ids = df[\"movieId\"].unique().tolist()\n",
        "    movie2movie_encoded = {x: i for i, x in enumerate(movie_ids)}\n",
        "    movie_encoded2movie = {i: x for i, x in enumerate(movie_ids)}\n",
        "    df[\"user\"] = df[\"userId\"].map(user2user_encoded)\n",
        "    df[\"movie\"] = df[\"movieId\"].map(movie2movie_encoded)\n",
        "\n",
        "    num_users = len(user2user_encoded)\n",
        "    num_movies = len(movie_encoded2movie)\n",
        "    df[\"rating\"] = df[\"rating\"].values.astype(np.float32)\n",
        "    # min and max ratings will be used to normalize the ratings later\n",
        "    min_rating = min(df[\"rating\"])\n",
        "    max_rating = max(df[\"rating\"])\n",
        "\n",
        "    print(\n",
        "        \"Number of users: {}, Number of Movies: {}, Min rating: {}, Max rating: {}\".format(\n",
        "            num_users, num_movies, min_rating, max_rating\n",
        "        )\n",
        "    )\n",
        "    return num_users, num_movies, df ,min_rating, max_rating"
      ]
    },
    {
      "cell_type": "code",
      "execution_count": 23,
      "metadata": {
        "colab": {
          "base_uri": "https://localhost:8080/"
        },
        "id": "vcQfKjKyEkuQ",
        "outputId": "49a7a713-cd28-456d-c1a5-c5c776ef0621"
      },
      "outputs": [
        {
          "output_type": "stream",
          "name": "stdout",
          "text": [
            "Number of users: 6040, Number of Movies: 3706, Min rating: 1.0, Max rating: 5.0\n"
          ]
        }
      ],
      "source": [
        "movielens_zipped_file=\"/content/drive/MyDrive/ml-1m.zip\"\n",
        "movielens_dir=movielens_zipped_file[:-4]\n",
        "if not os.path.isdir(movielens_dir):\n",
        "    with ZipFile(movielens_zipped_file, \"r\") as zip:\n",
        "        # Extract files\n",
        "        print(\"Extracting all the files now...\")\n",
        "        zip.extractall(Path(movielens_dir).parents[0])\n",
        "        print(\"Done!\")\n",
        "\n",
        "pd.options.display.max_rows = 10\n",
        "# unames = ['userId', 'gender', 'age', 'occupation', 'zip']\n",
        "# users = pd.read_table(os.path.join(movielens_dir, \"users.dat\"), sep='::', header=None, names=unames, engine='python')\n",
        "rnames = ['userId', 'movieId', 'rating', 'timestamp']\n",
        "df = pd.read_table(os.path.join(movielens_dir, \"ratings.dat\"), sep='::', header=None, names=rnames, engine='python')\n",
        "#ratings\n",
        "# mnames = ['movieId', 'title', 'genres']\n",
        "# movies = pd.read_table(os.path.join(movielens_dir, \"movies.dat\"), sep='::', header=None, names=mnames, engine='python')\n",
        "\n",
        "num_users, num_movies, df, min_rating, max_rating=dataset_prep(df)"
      ]
    },
    {
      "cell_type": "code",
      "execution_count": 66,
      "metadata": {
        "id": "5YHyWOTgFRl0"
      },
      "outputs": [],
      "source": [
        "df = df.sample(frac=1, random_state=42)\n",
        "x = df[[\"user\", \"movie\"]].values\n",
        "# Normalize the targets between 0 and 1. Makes it easy to train. Neglect normalization\n",
        "y= df[\"rating\"].apply(lambda x: (x - min_rating) / (max_rating - min_rating)).values\n",
        "#y= df[\"rating\"].apply(lambda x: x).values\n",
        "# Assuming training on 80% of the data and validating on 10%.\n",
        "train_indices = int(0.8 * df.shape[0])\n",
        "x_train, x_val, y_train, y_val = (\n",
        "    x[:train_indices],\n",
        "    x[train_indices:],\n",
        "    y[:train_indices],\n",
        "    y[train_indices:],\n",
        ")"
      ]
    },
    {
      "cell_type": "code",
      "execution_count": 46,
      "metadata": {
        "id": "ldpG2n7aFVQK"
      },
      "outputs": [],
      "source": [
        "EMBEDDING_SIZE = 100\n",
        "class RecommenderNet(keras.Model):\n",
        "    def __init__(self, num_users, num_movies, embedding_size, **kwargs):\n",
        "        super(RecommenderNet, self).__init__(**kwargs)\n",
        "        self.num_users = num_users\n",
        "        self.num_movies = num_movies\n",
        "        self.embedding_size = embedding_size\n",
        "        self.user_embedding = layers.Embedding(\n",
        "            num_users,\n",
        "            embedding_size,\n",
        "            \n",
        "        )\n",
        "        self.user_bias = layers.Embedding(num_users, 1)\n",
        "        self.movie_embedding = layers.Embedding(\n",
        "            num_movies,\n",
        "            embedding_size,\n",
        "            #embeddings_initializer=\"he_normal\",\n",
        "            #embeddings_regularizer=keras.regularizers.l2(1e-6),\n",
        "        )\n",
        "        self.movie_bias = layers.Embedding(num_movies, 1)\n",
        "\n",
        "    def call(self, inputs):\n",
        "        user_vector = self.user_embedding(inputs[:, 0])\n",
        "        user_bias = self.user_bias(inputs[:, 0])\n",
        "        movie_vector = self.movie_embedding(inputs[:, 1])\n",
        "        movie_bias = self.movie_bias(inputs[:, 1])\n",
        "        dot_user_movie = tf.tensordot(user_vector, movie_vector, 2)\n",
        "        # Add all the components (including bias)\n",
        "        x = dot_user_movie + user_bias + movie_bias\n",
        "        # The sigmoid activation forces the rating to between 0 and 1\n",
        "        #print(tf.nn.sigmoid(x)*4 +1)\n",
        "        return tf.nn.sigmoid(x)"
      ]
    },
    {
      "cell_type": "code",
      "source": [
        "EMBEDDING_SIZE = 100\n",
        "class RecommenderNet_withNN(keras.Model):\n",
        "    def __init__(self, num_users, num_movies, embedding_size, H1=50, D_out=1, **kwargs):\n",
        "        super(RecommenderNet_withNN, self).__init__(**kwargs)\n",
        "        self.num_users = num_users\n",
        "        self.num_movies = num_movies\n",
        "        self.embedding_size = embedding_size\n",
        "        self.user_embedding = layers.Embedding(\n",
        "            num_users,\n",
        "            embedding_size,\n",
        "            #embeddings_initializer=\"he_normal\",\n",
        "            #embeddings_regularizer=keras.regularizers.l2(1e-6),\n",
        "        )\n",
        "        self.user_bias = layers.Embedding(num_users, 1)\n",
        "        self.movie_embedding = layers.Embedding(\n",
        "            num_movies,\n",
        "            embedding_size,\n",
        "            #embeddings_initializer=\"he_normal\",\n",
        "            #embeddings_regularizer=keras.regularizers.l2(1e-6),\n",
        "        )\n",
        "        self.movie_bias = layers.Embedding(num_movies, 1)\n",
        "\n",
        "        #linear layer adding\n",
        "\n",
        "        self.linear1=layers.Dense(embedding_size*2, activation='relu')\n",
        "        self.linear2=layers.Dense(H1,activation='relu' )\n",
        "        self.linear3=layers.Dense(D_out,activation='softmax')\n",
        "\n",
        "    def call(self, inputs):\n",
        "        user_vector = self.user_embedding(inputs[:, 0])\n",
        "        user_bias = self.user_bias(inputs[:, 0])\n",
        "        movie_vector = self.movie_embedding(inputs[:, 1])\n",
        "        movie_bias = self.movie_bias(inputs[:, 1])\n",
        "\n",
        "        x=layers.Concatenate(axis=1)([user_vector, movie_vector])\n",
        "        x_relu=self.linear1(x)\n",
        "        h_relu=self.linear2(x_relu)\n",
        "        output_scores=self.linear3(h_relu)\n",
        "\n",
        "        #dot_user_movie = tf.tensordot(user_vector, movie_vector, 2)\n",
        "        # Add all the components (including bias)\n",
        "        x = output_scores + user_bias + movie_bias\n",
        "        # The sigmoid activation forces the rating to between 0 and 1\n",
        "        #tf.nn.sigmoid(x)\n",
        "        return x\n",
        "\n",
        "\n",
        "#model = RecommenderNet(num_users, num_movies, EMBEDDING_SIZE)\n",
        "model = RecommenderNet_withNN(num_users, num_movies, EMBEDDING_SIZE)\n",
        "\n",
        "model.compile(\n",
        "    loss=tf.keras.losses.BinaryCrossentropy(), optimizer=keras.optimizers.Adam(lr=0.0001) , metrics=['accuracy', tf.keras.metrics.RootMeanSquaredError()]\n",
        ")\n",
        "\n"
      ],
      "metadata": {
        "colab": {
          "base_uri": "https://localhost:8080/"
        },
        "id": "a_XZ51IrigpB",
        "outputId": "1f7877c6-5f42-4f14-e882-db6a1015e8ce"
      },
      "execution_count": 67,
      "outputs": [
        {
          "output_type": "stream",
          "name": "stderr",
          "text": [
            "/usr/local/lib/python3.7/dist-packages/keras/optimizer_v2/adam.py:105: UserWarning: The `lr` argument is deprecated, use `learning_rate` instead.\n",
            "  super(Adam, self).__init__(name, **kwargs)\n"
          ]
        }
      ]
    },
    {
      "cell_type": "code",
      "source": [
        "from keras.models import Sequential\n",
        "from keras.layers import Dense\n",
        "from keras.utils.vis_utils import plot_model\n",
        "\n",
        "print(model.summary())\n",
        "plot_model(model, to_file='model_plot.png', show_shapes=True, show_layer_names=True)"
      ],
      "metadata": {
        "colab": {
          "base_uri": "https://localhost:8080/",
          "height": 505
        },
        "id": "3TIS6r9FgVOU",
        "outputId": "38934db6-492b-440a-a328-bb328262dbde"
      },
      "execution_count": 57,
      "outputs": [
        {
          "output_type": "stream",
          "name": "stdout",
          "text": [
            "Model: \"recommender_net_with_nn_5\"\n",
            "_________________________________________________________________\n",
            " Layer (type)                Output Shape              Param #   \n",
            "=================================================================\n",
            " embedding_56 (Embedding)    multiple                  604000    \n",
            "                                                                 \n",
            " embedding_57 (Embedding)    multiple                  6040      \n",
            "                                                                 \n",
            " embedding_58 (Embedding)    multiple                  370600    \n",
            "                                                                 \n",
            " embedding_59 (Embedding)    multiple                  3706      \n",
            "                                                                 \n",
            " dense_15 (Dense)            multiple                  40200     \n",
            "                                                                 \n",
            " dense_16 (Dense)            multiple                  10050     \n",
            "                                                                 \n",
            " dense_17 (Dense)            multiple                  51        \n",
            "                                                                 \n",
            "=================================================================\n",
            "Total params: 1,034,647\n",
            "Trainable params: 1,034,647\n",
            "Non-trainable params: 0\n",
            "_________________________________________________________________\n",
            "None\n"
          ]
        },
        {
          "output_type": "execute_result",
          "data": {
            "image/png": "[encoded data removed]",
            "text/plain": [
              "<IPython.core.display.Image object>"
            ]
          },
          "metadata": {},
          "execution_count": 57
        }
      ]
    },
    {
      "cell_type": "code",
      "execution_count": 69,
      "metadata": {
        "colab": {
          "base_uri": "https://localhost:8080/",
          "height": 1000
        },
        "id": "E-2Qyd3_FdLM",
        "outputId": "3b30c3fd-d7b2-4a3b-c124-7c879985394f"
      },
      "outputs": [
        {
          "output_type": "stream",
          "name": "stdout",
          "text": [
            "Epoch 1/100\n",
            "196/196 - 16s - loss: 1.5157 - accuracy: 0.2268 - root_mean_squared_error: 0.4086 - val_loss: 1.4839 - val_accuracy: 0.2240 - val_root_mean_squared_error: 0.4079 - 16s/epoch - 81ms/step\n",
            "Epoch 2/100\n",
            "196/196 - 9s - loss: 1.4447 - accuracy: 0.2268 - root_mean_squared_error: 0.4059 - val_loss: 1.4169 - val_accuracy: 0.2240 - val_root_mean_squared_error: 0.4052 - 9s/epoch - 48ms/step\n",
            "Epoch 3/100\n",
            "196/196 - 9s - loss: 1.3815 - accuracy: 0.2268 - root_mean_squared_error: 0.4033 - val_loss: 1.3565 - val_accuracy: 0.2240 - val_root_mean_squared_error: 0.4026 - 9s/epoch - 47ms/step\n",
            "Epoch 4/100\n",
            "196/196 - 9s - loss: 1.3249 - accuracy: 0.2268 - root_mean_squared_error: 0.4007 - val_loss: 1.3033 - val_accuracy: 0.2240 - val_root_mean_squared_error: 0.4001 - 9s/epoch - 47ms/step\n",
            "Epoch 5/100\n",
            "196/196 - 9s - loss: 1.2765 - accuracy: 0.2268 - root_mean_squared_error: 0.3982 - val_loss: 1.2578 - val_accuracy: 0.2240 - val_root_mean_squared_error: 0.3976 - 9s/epoch - 45ms/step\n",
            "Epoch 6/100\n",
            "196/196 - 9s - loss: 1.2332 - accuracy: 0.2268 - root_mean_squared_error: 0.3958 - val_loss: 1.2168 - val_accuracy: 0.2240 - val_root_mean_squared_error: 0.3952 - 9s/epoch - 48ms/step\n",
            "Epoch 7/100\n",
            "196/196 - 9s - loss: 1.1931 - accuracy: 0.2268 - root_mean_squared_error: 0.3934 - val_loss: 1.1796 - val_accuracy: 0.2240 - val_root_mean_squared_error: 0.3928 - 9s/epoch - 46ms/step\n",
            "Epoch 8/100\n",
            "196/196 - 9s - loss: 1.1570 - accuracy: 0.2268 - root_mean_squared_error: 0.3910 - val_loss: 1.1462 - val_accuracy: 0.2240 - val_root_mean_squared_error: 0.3904 - 9s/epoch - 46ms/step\n",
            "Epoch 9/100\n",
            "196/196 - 9s - loss: 1.1252 - accuracy: 0.2268 - root_mean_squared_error: 0.3887 - val_loss: 1.1165 - val_accuracy: 0.2240 - val_root_mean_squared_error: 0.3881 - 9s/epoch - 45ms/step\n",
            "Epoch 10/100\n",
            "196/196 - 9s - loss: 1.0968 - accuracy: 0.2268 - root_mean_squared_error: 0.3863 - val_loss: 1.0893 - val_accuracy: 0.2240 - val_root_mean_squared_error: 0.3857 - 9s/epoch - 45ms/step\n",
            "Epoch 11/100\n",
            "196/196 - 9s - loss: 1.0703 - accuracy: 0.2268 - root_mean_squared_error: 0.3840 - val_loss: 1.0632 - val_accuracy: 0.2240 - val_root_mean_squared_error: 0.3834 - 9s/epoch - 47ms/step\n",
            "Epoch 12/100\n",
            "196/196 - 10s - loss: 1.0465 - accuracy: 0.2268 - root_mean_squared_error: 0.3817 - val_loss: 1.0402 - val_accuracy: 0.2240 - val_root_mean_squared_error: 0.3810 - 10s/epoch - 51ms/step\n",
            "Epoch 13/100\n",
            "196/196 - 9s - loss: 1.0250 - accuracy: 0.2268 - root_mean_squared_error: 0.3793 - val_loss: 1.0190 - val_accuracy: 0.2240 - val_root_mean_squared_error: 0.3787 - 9s/epoch - 47ms/step\n",
            "Epoch 14/100\n",
            "196/196 - 9s - loss: 1.0048 - accuracy: 0.2268 - root_mean_squared_error: 0.3770 - val_loss: 0.9995 - val_accuracy: 0.2240 - val_root_mean_squared_error: 0.3763 - 9s/epoch - 46ms/step\n",
            "Epoch 15/100\n",
            "196/196 - 9s - loss: 0.9864 - accuracy: 0.2268 - root_mean_squared_error: 0.3746 - val_loss: 0.9817 - val_accuracy: 0.2240 - val_root_mean_squared_error: 0.3739 - 9s/epoch - 47ms/step\n",
            "Epoch 16/100\n",
            "196/196 - 9s - loss: 0.9690 - accuracy: 0.2268 - root_mean_squared_error: 0.3723 - val_loss: 0.9648 - val_accuracy: 0.2240 - val_root_mean_squared_error: 0.3716 - 9s/epoch - 46ms/step\n",
            "Epoch 17/100\n",
            "196/196 - 9s - loss: 0.9531 - accuracy: 0.2268 - root_mean_squared_error: 0.3699 - val_loss: 0.9488 - val_accuracy: 0.2240 - val_root_mean_squared_error: 0.3692 - 9s/epoch - 46ms/step\n",
            "Epoch 18/100\n",
            "196/196 - 9s - loss: 0.9379 - accuracy: 0.2268 - root_mean_squared_error: 0.3675 - val_loss: 0.9338 - val_accuracy: 0.2240 - val_root_mean_squared_error: 0.3667 - 9s/epoch - 46ms/step\n",
            "Epoch 19/100\n",
            "196/196 - 9s - loss: 0.9234 - accuracy: 0.2269 - root_mean_squared_error: 0.3651 - val_loss: 0.9192 - val_accuracy: 0.2240 - val_root_mean_squared_error: 0.3643 - 9s/epoch - 47ms/step\n",
            "Epoch 20/100\n",
            "196/196 - 9s - loss: 0.9092 - accuracy: 0.2269 - root_mean_squared_error: 0.3626 - val_loss: 0.9054 - val_accuracy: 0.2241 - val_root_mean_squared_error: 0.3618 - 9s/epoch - 46ms/step\n",
            "Epoch 21/100\n",
            "196/196 - 9s - loss: 0.8960 - accuracy: 0.2269 - root_mean_squared_error: 0.3602 - val_loss: 0.8927 - val_accuracy: 0.2241 - val_root_mean_squared_error: 0.3594 - 9s/epoch - 45ms/step\n",
            "Epoch 22/100\n",
            "196/196 - 9s - loss: 0.8832 - accuracy: 0.2269 - root_mean_squared_error: 0.3577 - val_loss: 0.8807 - val_accuracy: 0.2241 - val_root_mean_squared_error: 0.3569 - 9s/epoch - 45ms/step\n",
            "Epoch 23/100\n",
            "196/196 - 9s - loss: 0.8715 - accuracy: 0.2269 - root_mean_squared_error: 0.3552 - val_loss: 0.8694 - val_accuracy: 0.2241 - val_root_mean_squared_error: 0.3544 - 9s/epoch - 45ms/step\n",
            "Epoch 24/100\n",
            "196/196 - 10s - loss: 0.8602 - accuracy: 0.2270 - root_mean_squared_error: 0.3527 - val_loss: 0.8581 - val_accuracy: 0.2242 - val_root_mean_squared_error: 0.3519 - 10s/epoch - 49ms/step\n",
            "Epoch 25/100\n",
            "196/196 - 9s - loss: 0.8494 - accuracy: 0.2270 - root_mean_squared_error: 0.3502 - val_loss: 0.8474 - val_accuracy: 0.2242 - val_root_mean_squared_error: 0.3493 - 9s/epoch - 47ms/step\n",
            "Epoch 26/100\n",
            "196/196 - 9s - loss: 0.8389 - accuracy: 0.2270 - root_mean_squared_error: 0.3477 - val_loss: 0.8374 - val_accuracy: 0.2243 - val_root_mean_squared_error: 0.3468 - 9s/epoch - 45ms/step\n",
            "Epoch 27/100\n",
            "196/196 - 9s - loss: 0.8289 - accuracy: 0.2271 - root_mean_squared_error: 0.3452 - val_loss: 0.8274 - val_accuracy: 0.2243 - val_root_mean_squared_error: 0.3443 - 9s/epoch - 46ms/step\n",
            "Epoch 28/100\n",
            "196/196 - 9s - loss: 0.8193 - accuracy: 0.2271 - root_mean_squared_error: 0.3426 - val_loss: 0.8176 - val_accuracy: 0.2243 - val_root_mean_squared_error: 0.3417 - 9s/epoch - 46ms/step\n",
            "Epoch 29/100\n",
            "196/196 - 9s - loss: 0.8099 - accuracy: 0.2272 - root_mean_squared_error: 0.3401 - val_loss: 0.8087 - val_accuracy: 0.2244 - val_root_mean_squared_error: 0.3392 - 9s/epoch - 45ms/step\n",
            "Epoch 30/100\n",
            "196/196 - 9s - loss: 0.8010 - accuracy: 0.2273 - root_mean_squared_error: 0.3375 - val_loss: 0.7997 - val_accuracy: 0.2245 - val_root_mean_squared_error: 0.3366 - 9s/epoch - 45ms/step\n",
            "Epoch 31/100\n",
            "196/196 - 9s - loss: 0.7924 - accuracy: 0.2274 - root_mean_squared_error: 0.3350 - val_loss: 0.7913 - val_accuracy: 0.2245 - val_root_mean_squared_error: 0.3341 - 9s/epoch - 45ms/step\n",
            "Epoch 32/100\n",
            "196/196 - 9s - loss: 0.7843 - accuracy: 0.2275 - root_mean_squared_error: 0.3325 - val_loss: 0.7834 - val_accuracy: 0.2246 - val_root_mean_squared_error: 0.3315 - 9s/epoch - 47ms/step\n",
            "Epoch 33/100\n",
            "196/196 - 9s - loss: 0.7765 - accuracy: 0.2276 - root_mean_squared_error: 0.3299 - val_loss: 0.7756 - val_accuracy: 0.2248 - val_root_mean_squared_error: 0.3290 - 9s/epoch - 47ms/step\n",
            "Epoch 34/100\n",
            "196/196 - 9s - loss: 0.7688 - accuracy: 0.2277 - root_mean_squared_error: 0.3274 - val_loss: 0.7679 - val_accuracy: 0.2249 - val_root_mean_squared_error: 0.3264 - 9s/epoch - 46ms/step\n",
            "Epoch 35/100\n",
            "196/196 - 9s - loss: 0.7615 - accuracy: 0.2279 - root_mean_squared_error: 0.3249 - val_loss: 0.7605 - val_accuracy: 0.2250 - val_root_mean_squared_error: 0.3239 - 9s/epoch - 46ms/step\n",
            "Epoch 36/100\n",
            "196/196 - 9s - loss: 0.7544 - accuracy: 0.2280 - root_mean_squared_error: 0.3223 - val_loss: 0.7535 - val_accuracy: 0.2251 - val_root_mean_squared_error: 0.3214 - 9s/epoch - 46ms/step\n",
            "Epoch 37/100\n",
            "196/196 - 9s - loss: 0.7475 - accuracy: 0.2282 - root_mean_squared_error: 0.3198 - val_loss: 0.7468 - val_accuracy: 0.2254 - val_root_mean_squared_error: 0.3189 - 9s/epoch - 45ms/step\n",
            "Epoch 38/100\n",
            "196/196 - 9s - loss: 0.7408 - accuracy: 0.2284 - root_mean_squared_error: 0.3173 - val_loss: 0.7404 - val_accuracy: 0.2256 - val_root_mean_squared_error: 0.3164 - 9s/epoch - 45ms/step\n",
            "Epoch 39/100\n",
            "196/196 - 9s - loss: 0.7344 - accuracy: 0.2286 - root_mean_squared_error: 0.3149 - val_loss: 0.7342 - val_accuracy: 0.2258 - val_root_mean_squared_error: 0.3139 - 9s/epoch - 45ms/step\n",
            "Epoch 40/100\n",
            "196/196 - 9s - loss: 0.7283 - accuracy: 0.2288 - root_mean_squared_error: 0.3124 - val_loss: 0.7283 - val_accuracy: 0.2261 - val_root_mean_squared_error: 0.3115 - 9s/epoch - 45ms/step\n",
            "Epoch 41/100\n",
            "196/196 - 9s - loss: 0.7224 - accuracy: 0.2291 - root_mean_squared_error: 0.3100 - val_loss: 0.7226 - val_accuracy: 0.2263 - val_root_mean_squared_error: 0.3091 - 9s/epoch - 45ms/step\n",
            "Epoch 42/100\n",
            "196/196 - 9s - loss: 0.7167 - accuracy: 0.2293 - root_mean_squared_error: 0.3076 - val_loss: 0.7171 - val_accuracy: 0.2266 - val_root_mean_squared_error: 0.3067 - 9s/epoch - 45ms/step\n",
            "Epoch 43/100\n",
            "196/196 - 9s - loss: 0.7112 - accuracy: 0.2296 - root_mean_squared_error: 0.3052 - val_loss: 0.7118 - val_accuracy: 0.2268 - val_root_mean_squared_error: 0.3043 - 9s/epoch - 45ms/step\n",
            "Epoch 44/100\n",
            "196/196 - 9s - loss: 0.7059 - accuracy: 0.2299 - root_mean_squared_error: 0.3028 - val_loss: 0.7067 - val_accuracy: 0.2272 - val_root_mean_squared_error: 0.3020 - 9s/epoch - 44ms/step\n",
            "Epoch 45/100\n",
            "196/196 - 9s - loss: 0.7010 - accuracy: 0.2302 - root_mean_squared_error: 0.3005 - val_loss: 0.7018 - val_accuracy: 0.2275 - val_root_mean_squared_error: 0.2997 - 9s/epoch - 45ms/step\n",
            "Epoch 46/100\n",
            "196/196 - 9s - loss: 0.6961 - accuracy: 0.2305 - root_mean_squared_error: 0.2982 - val_loss: 0.6971 - val_accuracy: 0.2279 - val_root_mean_squared_error: 0.2974 - 9s/epoch - 47ms/step\n",
            "Epoch 47/100\n",
            "196/196 - 9s - loss: 0.6915 - accuracy: 0.2309 - root_mean_squared_error: 0.2959 - val_loss: 0.6926 - val_accuracy: 0.2282 - val_root_mean_squared_error: 0.2952 - 9s/epoch - 46ms/step\n",
            "Epoch 48/100\n",
            "196/196 - 9s - loss: 0.6870 - accuracy: 0.2312 - root_mean_squared_error: 0.2937 - val_loss: 0.6881 - val_accuracy: 0.2286 - val_root_mean_squared_error: 0.2930 - 9s/epoch - 45ms/step\n",
            "Epoch 49/100\n",
            "196/196 - 9s - loss: 0.6827 - accuracy: 0.2316 - root_mean_squared_error: 0.2915 - val_loss: 0.6839 - val_accuracy: 0.2290 - val_root_mean_squared_error: 0.2908 - 9s/epoch - 45ms/step\n",
            "Epoch 50/100\n",
            "196/196 - 9s - loss: 0.6785 - accuracy: 0.2320 - root_mean_squared_error: 0.2893 - val_loss: 0.6798 - val_accuracy: 0.2294 - val_root_mean_squared_error: 0.2887 - 9s/epoch - 45ms/step\n",
            "Epoch 51/100\n",
            "196/196 - 9s - loss: 0.6746 - accuracy: 0.2323 - root_mean_squared_error: 0.2872 - val_loss: 0.6759 - val_accuracy: 0.2298 - val_root_mean_squared_error: 0.2866 - 9s/epoch - 45ms/step\n",
            "Epoch 52/100\n",
            "196/196 - 9s - loss: 0.6707 - accuracy: 0.2327 - root_mean_squared_error: 0.2851 - val_loss: 0.6721 - val_accuracy: 0.2303 - val_root_mean_squared_error: 0.2846 - 9s/epoch - 45ms/step\n",
            "Epoch 53/100\n",
            "196/196 - 9s - loss: 0.6670 - accuracy: 0.2332 - root_mean_squared_error: 0.2830 - val_loss: 0.6685 - val_accuracy: 0.2308 - val_root_mean_squared_error: 0.2826 - 9s/epoch - 45ms/step\n",
            "Epoch 54/100\n",
            "196/196 - 9s - loss: 0.6635 - accuracy: 0.2337 - root_mean_squared_error: 0.2810 - val_loss: 0.6651 - val_accuracy: 0.2313 - val_root_mean_squared_error: 0.2806 - 9s/epoch - 45ms/step\n",
            "Epoch 55/100\n",
            "196/196 - 9s - loss: 0.6601 - accuracy: 0.2341 - root_mean_squared_error: 0.2790 - val_loss: 0.6617 - val_accuracy: 0.2318 - val_root_mean_squared_error: 0.2787 - 9s/epoch - 45ms/step\n",
            "Epoch 56/100\n",
            "196/196 - 9s - loss: 0.6568 - accuracy: 0.2347 - root_mean_squared_error: 0.2771 - val_loss: 0.6585 - val_accuracy: 0.2323 - val_root_mean_squared_error: 0.2768 - 9s/epoch - 45ms/step\n",
            "Epoch 57/100\n",
            "196/196 - 9s - loss: 0.6537 - accuracy: 0.2352 - root_mean_squared_error: 0.2752 - val_loss: 0.6554 - val_accuracy: 0.2327 - val_root_mean_squared_error: 0.2749 - 9s/epoch - 45ms/step\n",
            "Epoch 58/100\n",
            "196/196 - 9s - loss: 0.6507 - accuracy: 0.2357 - root_mean_squared_error: 0.2733 - val_loss: 0.6524 - val_accuracy: 0.2331 - val_root_mean_squared_error: 0.2731 - 9s/epoch - 45ms/step\n",
            "Epoch 59/100\n",
            "196/196 - 9s - loss: 0.6478 - accuracy: 0.2363 - root_mean_squared_error: 0.2715 - val_loss: 0.6496 - val_accuracy: 0.2336 - val_root_mean_squared_error: 0.2713 - 9s/epoch - 45ms/step\n",
            "Epoch 60/100\n",
            "196/196 - 9s - loss: 0.6450 - accuracy: 0.2368 - root_mean_squared_error: 0.2698 - val_loss: 0.6470 - val_accuracy: 0.2341 - val_root_mean_squared_error: 0.2696 - 9s/epoch - 45ms/step\n",
            "Epoch 61/100\n",
            "196/196 - 9s - loss: 0.6423 - accuracy: 0.2373 - root_mean_squared_error: 0.2680 - val_loss: 0.6443 - val_accuracy: 0.2346 - val_root_mean_squared_error: 0.2679 - 9s/epoch - 45ms/step\n",
            "Epoch 62/100\n",
            "196/196 - 9s - loss: 0.6397 - accuracy: 0.2379 - root_mean_squared_error: 0.2663 - val_loss: 0.6417 - val_accuracy: 0.2352 - val_root_mean_squared_error: 0.2663 - 9s/epoch - 45ms/step\n",
            "Epoch 63/100\n",
            "196/196 - 9s - loss: 0.6372 - accuracy: 0.2384 - root_mean_squared_error: 0.2647 - val_loss: 0.6394 - val_accuracy: 0.2357 - val_root_mean_squared_error: 0.2647 - 9s/epoch - 45ms/step\n",
            "Epoch 64/100\n",
            "196/196 - 9s - loss: 0.6348 - accuracy: 0.2389 - root_mean_squared_error: 0.2631 - val_loss: 0.6371 - val_accuracy: 0.2362 - val_root_mean_squared_error: 0.2631 - 9s/epoch - 44ms/step\n",
            "Epoch 65/100\n",
            "196/196 - 9s - loss: 0.6326 - accuracy: 0.2395 - root_mean_squared_error: 0.2615 - val_loss: 0.6349 - val_accuracy: 0.2368 - val_root_mean_squared_error: 0.2616 - 9s/epoch - 45ms/step\n",
            "Epoch 66/100\n",
            "196/196 - 9s - loss: 0.6304 - accuracy: 0.2401 - root_mean_squared_error: 0.2599 - val_loss: 0.6328 - val_accuracy: 0.2373 - val_root_mean_squared_error: 0.2601 - 9s/epoch - 45ms/step\n",
            "Epoch 67/100\n",
            "196/196 - 9s - loss: 0.6283 - accuracy: 0.2406 - root_mean_squared_error: 0.2585 - val_loss: 0.6308 - val_accuracy: 0.2377 - val_root_mean_squared_error: 0.2587 - 9s/epoch - 45ms/step\n",
            "Epoch 68/100\n",
            "196/196 - 9s - loss: 0.6263 - accuracy: 0.2412 - root_mean_squared_error: 0.2570 - val_loss: 0.6289 - val_accuracy: 0.2382 - val_root_mean_squared_error: 0.2573 - 9s/epoch - 46ms/step\n",
            "Epoch 69/100\n",
            "196/196 - 9s - loss: 0.6244 - accuracy: 0.2418 - root_mean_squared_error: 0.2556 - val_loss: 0.6271 - val_accuracy: 0.2388 - val_root_mean_squared_error: 0.2559 - 9s/epoch - 45ms/step\n",
            "Epoch 70/100\n",
            "196/196 - 9s - loss: 0.6226 - accuracy: 0.2423 - root_mean_squared_error: 0.2542 - val_loss: 0.6253 - val_accuracy: 0.2394 - val_root_mean_squared_error: 0.2546 - 9s/epoch - 45ms/step\n",
            "Epoch 71/100\n",
            "196/196 - 9s - loss: 0.6208 - accuracy: 0.2429 - root_mean_squared_error: 0.2529 - val_loss: 0.6236 - val_accuracy: 0.2399 - val_root_mean_squared_error: 0.2533 - 9s/epoch - 46ms/step\n",
            "Epoch 72/100\n",
            "196/196 - 9s - loss: 0.6191 - accuracy: 0.2435 - root_mean_squared_error: 0.2516 - val_loss: 0.6219 - val_accuracy: 0.2405 - val_root_mean_squared_error: 0.2520 - 9s/epoch - 45ms/step\n",
            "Epoch 73/100\n",
            "196/196 - 9s - loss: 0.6175 - accuracy: 0.2440 - root_mean_squared_error: 0.2503 - val_loss: 0.6203 - val_accuracy: 0.2410 - val_root_mean_squared_error: 0.2508 - 9s/epoch - 45ms/step\n",
            "Epoch 74/100\n",
            "196/196 - 9s - loss: 0.6159 - accuracy: 0.2446 - root_mean_squared_error: 0.2491 - val_loss: 0.6188 - val_accuracy: 0.2416 - val_root_mean_squared_error: 0.2497 - 9s/epoch - 45ms/step\n",
            "Epoch 75/100\n",
            "196/196 - 9s - loss: 0.6144 - accuracy: 0.2451 - root_mean_squared_error: 0.2479 - val_loss: 0.6174 - val_accuracy: 0.2422 - val_root_mean_squared_error: 0.2485 - 9s/epoch - 45ms/step\n",
            "Epoch 76/100\n",
            "196/196 - 9s - loss: 0.6130 - accuracy: 0.2456 - root_mean_squared_error: 0.2468 - val_loss: 0.6160 - val_accuracy: 0.2428 - val_root_mean_squared_error: 0.2474 - 9s/epoch - 45ms/step\n",
            "Epoch 77/100\n",
            "196/196 - 9s - loss: 0.6116 - accuracy: 0.2461 - root_mean_squared_error: 0.2457 - val_loss: 0.6148 - val_accuracy: 0.2434 - val_root_mean_squared_error: 0.2464 - 9s/epoch - 45ms/step\n",
            "Epoch 78/100\n",
            "196/196 - 9s - loss: 0.6103 - accuracy: 0.2466 - root_mean_squared_error: 0.2446 - val_loss: 0.6135 - val_accuracy: 0.2438 - val_root_mean_squared_error: 0.2454 - 9s/epoch - 45ms/step\n",
            "Epoch 79/100\n",
            "196/196 - 9s - loss: 0.6091 - accuracy: 0.2472 - root_mean_squared_error: 0.2436 - val_loss: 0.6124 - val_accuracy: 0.2443 - val_root_mean_squared_error: 0.2444 - 9s/epoch - 45ms/step\n",
            "Epoch 80/100\n",
            "196/196 - 9s - loss: 0.6079 - accuracy: 0.2477 - root_mean_squared_error: 0.2426 - val_loss: 0.6112 - val_accuracy: 0.2448 - val_root_mean_squared_error: 0.2435 - 9s/epoch - 45ms/step\n",
            "Epoch 81/100\n",
            "196/196 - 9s - loss: 0.6068 - accuracy: 0.2482 - root_mean_squared_error: 0.2417 - val_loss: 0.6101 - val_accuracy: 0.2453 - val_root_mean_squared_error: 0.2425 - 9s/epoch - 45ms/step\n",
            "Epoch 82/100\n",
            "196/196 - 9s - loss: 0.6057 - accuracy: 0.2487 - root_mean_squared_error: 0.2408 - val_loss: 0.6091 - val_accuracy: 0.2458 - val_root_mean_squared_error: 0.2417 - 9s/epoch - 45ms/step\n",
            "Epoch 83/100\n",
            "196/196 - 9s - loss: 0.6047 - accuracy: 0.2493 - root_mean_squared_error: 0.2399 - val_loss: 0.6082 - val_accuracy: 0.2463 - val_root_mean_squared_error: 0.2409 - 9s/epoch - 45ms/step\n",
            "Epoch 84/100\n",
            "196/196 - 9s - loss: 0.6037 - accuracy: 0.2498 - root_mean_squared_error: 0.2391 - val_loss: 0.6072 - val_accuracy: 0.2468 - val_root_mean_squared_error: 0.2401 - 9s/epoch - 45ms/step\n",
            "Epoch 85/100\n",
            "196/196 - 9s - loss: 0.6028 - accuracy: 0.2502 - root_mean_squared_error: 0.2383 - val_loss: 0.6063 - val_accuracy: 0.2473 - val_root_mean_squared_error: 0.2393 - 9s/epoch - 45ms/step\n",
            "Epoch 86/100\n",
            "196/196 - 9s - loss: 0.6019 - accuracy: 0.2507 - root_mean_squared_error: 0.2375 - val_loss: 0.6055 - val_accuracy: 0.2477 - val_root_mean_squared_error: 0.2386 - 9s/epoch - 45ms/step\n",
            "Epoch 87/100\n",
            "196/196 - 9s - loss: 0.6011 - accuracy: 0.2511 - root_mean_squared_error: 0.2368 - val_loss: 0.6047 - val_accuracy: 0.2481 - val_root_mean_squared_error: 0.2379 - 9s/epoch - 46ms/step\n",
            "Epoch 88/100\n",
            "196/196 - 9s - loss: 0.6003 - accuracy: 0.2516 - root_mean_squared_error: 0.2361 - val_loss: 0.6040 - val_accuracy: 0.2486 - val_root_mean_squared_error: 0.2372 - 9s/epoch - 46ms/step\n",
            "Epoch 89/100\n",
            "196/196 - 9s - loss: 0.5995 - accuracy: 0.2520 - root_mean_squared_error: 0.2355 - val_loss: 0.6033 - val_accuracy: 0.2490 - val_root_mean_squared_error: 0.2366 - 9s/epoch - 45ms/step\n",
            "Epoch 90/100\n",
            "196/196 - 9s - loss: 0.5988 - accuracy: 0.2524 - root_mean_squared_error: 0.2348 - val_loss: 0.6026 - val_accuracy: 0.2493 - val_root_mean_squared_error: 0.2360 - 9s/epoch - 45ms/step\n",
            "Epoch 91/100\n",
            "196/196 - 9s - loss: 0.5981 - accuracy: 0.2528 - root_mean_squared_error: 0.2342 - val_loss: 0.6020 - val_accuracy: 0.2497 - val_root_mean_squared_error: 0.2355 - 9s/epoch - 45ms/step\n",
            "Epoch 92/100\n",
            "196/196 - 9s - loss: 0.5975 - accuracy: 0.2532 - root_mean_squared_error: 0.2337 - val_loss: 0.6014 - val_accuracy: 0.2500 - val_root_mean_squared_error: 0.2349 - 9s/epoch - 45ms/step\n",
            "Epoch 93/100\n",
            "196/196 - 9s - loss: 0.5969 - accuracy: 0.2536 - root_mean_squared_error: 0.2332 - val_loss: 0.6009 - val_accuracy: 0.2503 - val_root_mean_squared_error: 0.2344 - 9s/epoch - 45ms/step\n",
            "Epoch 94/100\n",
            "196/196 - 9s - loss: 0.5964 - accuracy: 0.2539 - root_mean_squared_error: 0.2327 - val_loss: 0.6004 - val_accuracy: 0.2506 - val_root_mean_squared_error: 0.2340 - 9s/epoch - 45ms/step\n",
            "Epoch 95/100\n",
            "196/196 - 9s - loss: 0.5959 - accuracy: 0.2542 - root_mean_squared_error: 0.2322 - val_loss: 0.5999 - val_accuracy: 0.2509 - val_root_mean_squared_error: 0.2335 - 9s/epoch - 45ms/step\n",
            "Epoch 96/100\n",
            "196/196 - 9s - loss: 0.5954 - accuracy: 0.2545 - root_mean_squared_error: 0.2317 - val_loss: 0.5995 - val_accuracy: 0.2512 - val_root_mean_squared_error: 0.2331 - 9s/epoch - 45ms/step\n",
            "Epoch 97/100\n",
            "196/196 - 9s - loss: 0.5949 - accuracy: 0.2548 - root_mean_squared_error: 0.2313 - val_loss: 0.5990 - val_accuracy: 0.2514 - val_root_mean_squared_error: 0.2327 - 9s/epoch - 45ms/step\n",
            "Epoch 98/100\n",
            "196/196 - 9s - loss: 0.5945 - accuracy: 0.2550 - root_mean_squared_error: 0.2309 - val_loss: 0.5987 - val_accuracy: 0.2517 - val_root_mean_squared_error: 0.2323 - 9s/epoch - 45ms/step\n",
            "Epoch 99/100\n",
            "196/196 - 9s - loss: 0.5941 - accuracy: 0.2553 - root_mean_squared_error: 0.2306 - val_loss: 0.5983 - val_accuracy: 0.2518 - val_root_mean_squared_error: 0.2320 - 9s/epoch - 45ms/step\n",
            "Epoch 100/100\n",
            "196/196 - 9s - loss: 0.5937 - accuracy: 0.2555 - root_mean_squared_error: 0.2302 - val_loss: 0.5980 - val_accuracy: 0.2521 - val_root_mean_squared_error: 0.2317 - 9s/epoch - 45ms/step\n",
            "dict_keys(['loss', 'accuracy', 'root_mean_squared_error', 'val_loss', 'val_accuracy', 'val_root_mean_squared_error'])\n"
          ]
        },
        {
          "output_type": "display_data",
          "data": {
            "image/png": "[encoded data removed]",
            "text/plain": [
              "<Figure size 432x288 with 1 Axes>"
            ]
          },
          "metadata": {
            "needs_background": "light"
          }
        },
        {
          "output_type": "display_data",
          "data": {
            "image/png": "[encoded data removed]",
            "text/plain": [
              "<Figure size 432x288 with 1 Axes>"
            ]
          },
          "metadata": {
            "needs_background": "light"
          }
        },
        {
          "output_type": "display_data",
          "data": {
            "image/png": "[encoded data removed]",
            "text/plain": [
              "<Figure size 432x288 with 1 Axes>"
            ]
          },
          "metadata": {
            "needs_background": "light"
          }
        }
      ],
      "source": [
        "history = model.fit(\n",
        "    x=x_train,\n",
        "    y=y_train,\n",
        "    batch_size=4096,\n",
        "    epochs=100,\n",
        "    verbose=2,\n",
        "    validation_data=(x_val, y_val),\n",
        ")\n",
        "print(history.history.keys())\n",
        "# summarize history for accuracy\n",
        "plt.plot(history.history['accuracy'])\n",
        "plt.plot(history.history['val_accuracy'])\n",
        "plt.title('model accuracy')\n",
        "plt.ylabel('accuracy')\n",
        "plt.xlabel('epoch')\n",
        "plt.legend(['train', 'test'], loc='upper left')\n",
        "plt.show()\n",
        "# summarize history for loss\n",
        "plt.plot(history.history['loss'])\n",
        "plt.plot(history.history['val_loss'])\n",
        "plt.title('model loss')\n",
        "plt.ylabel('loss')\n",
        "plt.xlabel('epoch')\n",
        "plt.legend(['train', 'test'], loc='upper left')\n",
        "plt.show()\n",
        "# summarize history for loss\n",
        "plt.plot(history.history['root_mean_squared_error'])\n",
        "plt.plot(history.history['val_root_mean_squared_error'])\n",
        "plt.title('model root_mean_squared_error')\n",
        "plt.ylabel('root_mean_squared_error')\n",
        "plt.xlabel('epoch')\n",
        "plt.legend(['train', 'test'], loc='upper left')\n",
        "plt.show()"
      ]
    },
    {
      "cell_type": "code",
      "execution_count": null,
      "metadata": {
        "id": "-2aEjsivTNFB"
      },
      "outputs": [],
      "source": [
        "print(history.history.keys())\n",
        "# summarize history for accuracy\n",
        "plt.plot(history.history['accuracy'])\n",
        "plt.plot(history.history['val_accuracy'])\n",
        "plt.title('model accuracy')\n",
        "plt.ylabel('accuracy')\n",
        "plt.xlabel('epoch')\n",
        "plt.legend(['train', 'test'], loc='upper left')\n",
        "plt.show()\n",
        "# summarize history for loss\n",
        "plt.plot(history.history['loss'])\n",
        "plt.plot(history.history['val_loss'])\n",
        "plt.title('model loss')\n",
        "plt.ylabel('loss')\n",
        "plt.xlabel('epoch')\n",
        "plt.legend(['train', 'test'], loc='upper left')\n",
        "plt.show()\n",
        "# summarize history for loss\n",
        "plt.plot(history.history['root_mean_squared_error'])\n",
        "plt.plot(history.history['val_root_mean_squared_error'])\n",
        "plt.title('model root_mean_squared_error')\n",
        "plt.ylabel('root_mean_squared_error')\n",
        "plt.xlabel('epoch')\n",
        "plt.legend(['train', 'test'], loc='upper left')\n",
        "plt.show()"
      ]
    }
  ],
  "metadata": {
    "colab": {
      "name": "recommender-tf.ipynb",
      "provenance": [],
      "collapsed_sections": [],
      "mount_file_id": "13PUtIc02yNHhD3-G4ltfLz1fk9_Yajoc",
      "authorship_tag": "ABX9TyO3HFbCRKk3g21CCT/0MGQx",
      "include_colab_link": true
    },
    "kernelspec": {
      "display_name": "Python 3",
      "name": "python3"
    },
    "language_info": {
      "name": "python"
    }
  },
  "nbformat": 4,
  "nbformat_minor": 0
}
