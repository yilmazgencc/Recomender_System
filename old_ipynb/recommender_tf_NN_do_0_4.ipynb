{
  "nbformat": 4,
  "nbformat_minor": 0,
  "metadata": {
    "colab": {
      "name": "recommender tf NN.ipynb",
      "provenance": [],
      "authorship_tag": "ABX9TyM4W+ywP2IjTqTmgtrtJpJG",
      "include_colab_link": true
    },
    "kernelspec": {
      "name": "python3",
      "display_name": "Python 3"
    },
    "language_info": {
      "name": "python"
    }
  },
  "cells": [
    {
      "cell_type": "markdown",
      "metadata": {
        "id": "view-in-github",
        "colab_type": "text"
      },
      "source": [
        "<a href=\"https://colab.research.google.com/github/yilmazgencc/recomender_system/blob/main/recommender_tf_NN_do_0_4.ipynb\" target=\"_parent\"><img src=\"https://colab.research.google.com/assets/colab-badge.svg\" alt=\"Open In Colab\"/></a>"
      ]
    },
    {
      "cell_type": "code",
      "execution_count": 1,
      "metadata": {
        "id": "CoswTxNDOWcI"
      },
      "outputs": [],
      "source": [
        "import os\n",
        "import math\n",
        "from zipfile import ZipFile\n",
        "from urllib.request import urlretrieve\n",
        "import numpy as np\n",
        "import pandas as pd\n",
        "import tensorflow as tf\n",
        "from tensorflow import keras\n",
        "from tensorflow.keras import layers\n",
        "from tensorflow.keras.layers import StringLookup\n",
        "import matplotlib.pyplot as plt\n",
        "\n",
        "from keras.models import Model"
      ]
    },
    {
      "cell_type": "code",
      "source": [
        "urlretrieve(\"http://files.grouplens.org/datasets/movielens/ml-1m.zip\", \"movielens.zip\")\n",
        "ZipFile(\"movielens.zip\", \"r\").extractall()\n",
        "\n",
        "ratings_data = pd.read_csv(\n",
        "    \"ml-1m/ratings.dat\",\n",
        "    sep=\"::\",\n",
        "    names=[\"user_id\", \"movie_id\", \"rating\", \"unix_timestamp\"],\n",
        ")\n",
        "\n",
        "ratings_data[\"movie_id\"] = ratings_data[\"movie_id\"].apply(lambda x: f\"movie_{x}\")\n",
        "ratings_data[\"user_id\"] = ratings_data[\"user_id\"].apply(lambda x: f\"user_{x}\")\n",
        "ratings_data[\"rating\"] = ratings_data[\"rating\"].apply(lambda x: float(x))\n",
        "del ratings_data[\"unix_timestamp\"]\n",
        "\n",
        "print(f\"Number of users: {len(ratings_data.user_id.unique())}\")\n",
        "print(f\"Number of movies: {len(ratings_data.movie_id.unique())}\")\n",
        "print(f\"Number of ratings: {len(ratings_data.index)}\")\n"
      ],
      "metadata": {
        "colab": {
          "base_uri": "https://localhost:8080/"
        },
        "id": "fPndaAoxOmNM",
        "outputId": "b39566c9-b0d6-4952-a566-91cc8c1aaf58"
      },
      "execution_count": 2,
      "outputs": [
        {
          "output_type": "stream",
          "name": "stderr",
          "text": [
            "/usr/local/lib/python3.7/dist-packages/pandas/util/_decorators.py:311: ParserWarning: Falling back to the 'python' engine because the 'c' engine does not support regex separators (separators > 1 char and different from '\\s+' are interpreted as regex); you can avoid this warning by specifying engine='python'.\n",
            "  return func(*args, **kwargs)\n"
          ]
        },
        {
          "output_type": "stream",
          "name": "stdout",
          "text": [
            "Number of users: 6040\n",
            "Number of movies: 3706\n",
            "Number of ratings: 1000209\n"
          ]
        }
      ]
    },
    {
      "cell_type": "code",
      "source": [
        "random_selection = np.random.rand(len(ratings_data.index)) <= 0.85\n",
        "train_data = ratings_data[random_selection]\n",
        "eval_data = ratings_data[~random_selection]\n",
        "\n",
        "train_data.to_csv(\"train_data.csv\", index=False, sep=\"|\", header=False)\n",
        "eval_data.to_csv(\"eval_data.csv\", index=False, sep=\"|\", header=False)\n",
        "print(f\"Train data split: {len(train_data.index)}\")\n",
        "print(f\"Eval data split: {len(eval_data.index)}\")\n",
        "print(\"Train and eval data files are saved.\")"
      ],
      "metadata": {
        "colab": {
          "base_uri": "https://localhost:8080/"
        },
        "id": "_NQn16TJOoyH",
        "outputId": "6ea6090e-602d-4109-ab1c-c64c8120f555"
      },
      "execution_count": 3,
      "outputs": [
        {
          "output_type": "stream",
          "name": "stdout",
          "text": [
            "Train data split: 850238\n",
            "Eval data split: 149971\n",
            "Train and eval data files are saved.\n"
          ]
        }
      ]
    },
    {
      "cell_type": "code",
      "source": [
        "csv_header = list(ratings_data.columns)\n",
        "user_vocabulary = list(ratings_data.user_id.unique())\n",
        "movie_vocabulary = list(ratings_data.movie_id.unique())\n",
        "target_feature_name = \"rating\"\n",
        "base_embedding_dim = 64"
      ],
      "metadata": {
        "id": "qMqeQ5m_OrZU"
      },
      "execution_count": 4,
      "outputs": []
    },
    {
      "cell_type": "code",
      "source": [
        "def get_dataset_from_csv(csv_file_path, batch_size=128, shuffle=True):\n",
        "    return tf.data.experimental.make_csv_dataset(\n",
        "        csv_file_path,\n",
        "        batch_size=batch_size,\n",
        "        column_names=csv_header,\n",
        "        label_name=target_feature_name,\n",
        "        num_epochs=1,\n",
        "        header=False,\n",
        "        field_delim=\"|\",\n",
        "        shuffle=shuffle,\n",
        "    )\n",
        "\n",
        "\n",
        "def run_experiment(model, learning_rate, batch_size, num_epochs):\n",
        "    # Compile the model.\n",
        "    model.compile(\n",
        "        optimizer=keras.optimizers.Adam(learning_rate),\n",
        "        loss=tf.keras.losses.MeanSquaredError(),\n",
        "        #loss=tf.keras.losses.BinaryCrossentropy(),\n",
        "        #metrics=[keras.metrics.MeanAbsoluteError(name=\"mae\")],\n",
        "        metrics=['accuracy', tf.keras.metrics.RootMeanSquaredError(name=\"rmse\")]\n",
        "    )\n",
        "    # Read the training data.\n",
        "    train_dataset = get_dataset_from_csv(\"train_data.csv\", batch_size)\n",
        "    # Read the test data.\n",
        "    eval_dataset = get_dataset_from_csv(\"eval_data.csv\", batch_size, shuffle=False)\n",
        "    # Fit the model with the training data.\n",
        "    history = model.fit(train_dataset, epochs=num_epochs, validation_data=eval_dataset,)\n",
        "    return history\n",
        "\n",
        "def embedding_encoder(vocabulary, embedding_dim, num_oov_indices=0, name=None):\n",
        "    return keras.Sequential(\n",
        "        [\n",
        "            StringLookup(\n",
        "                vocabulary=vocabulary, mask_token=None, num_oov_indices=num_oov_indices\n",
        "            ),\n",
        "            layers.Embedding(\n",
        "                input_dim=len(vocabulary) + num_oov_indices, output_dim=embedding_dim\n",
        "            ),\n",
        "        ],\n",
        "        name=f\"{name}_embedding\" if name else None,\n",
        "    )\n"
      ],
      "metadata": {
        "id": "kGIRMAjLPMh_"
      },
      "execution_count": 5,
      "outputs": []
    },
    {
      "cell_type": "code",
      "source": [
        "def MyModel():\n",
        "    user_input = layers.Input(name=\"user_id\", shape=(), dtype=tf.string)\n",
        "    # Get user embedding.\n",
        "    user_embedding = embedding_encoder(\n",
        "        vocabulary=user_vocabulary, embedding_dim=base_embedding_dim, name=\"user\"\n",
        "    )(user_input)\n",
        "\n",
        "    # Receive the movie as an input.\n",
        "    movie_input = layers.Input(name=\"movie_id\", shape=(), dtype=tf.string)\n",
        "    # Get embedding.\n",
        "    movie_embedding = embedding_encoder(\n",
        "        vocabulary=movie_vocabulary, embedding_dim=base_embedding_dim, name=\"movie\"\n",
        "    )(movie_input)\n",
        "\n",
        "    d=layers.Concatenate(axis=1)([user_embedding, movie_embedding])\n",
        "    d=layers.Dense(512, activation=\"relu\")(d)\n",
        "    d=layers.Dropout(0.4)(d)\n",
        "    d=layers.Dense(256, activation=\"relu\")(d)\n",
        "    d=layers.Dropout(0.4)(d)\n",
        "    d=tf.keras.layers.Dense(1, activation=\"sigmoid\")(d)\n",
        "    output = d * 5\n",
        "\n",
        "    model = Model(inputs=[user_input, movie_input], outputs=output, name=\"nn_model\")\n",
        "    #model.compile(loss='mse', optimizer=Adam(lr=0.0002, beta_1=0.5), loss_weights=[0.5])\n",
        "    return model\n",
        "mymodel=MyModel()\n",
        "mymodel.summary()"
      ],
      "metadata": {
        "colab": {
          "base_uri": "https://localhost:8080/"
        },
        "id": "T0wFl8NfO29b",
        "outputId": "50efd334-829d-473f-d725-196360d60e6a"
      },
      "execution_count": 6,
      "outputs": [
        {
          "output_type": "stream",
          "name": "stderr",
          "text": [
            "/usr/local/lib/python3.7/dist-packages/numpy/core/numeric.py:2446: FutureWarning: elementwise comparison failed; returning scalar instead, but in the future will perform elementwise comparison\n",
            "  return bool(asarray(a1 == a2).all())\n"
          ]
        },
        {
          "output_type": "stream",
          "name": "stdout",
          "text": [
            "Model: \"nn_model\"\n",
            "__________________________________________________________________________________________________\n",
            " Layer (type)                   Output Shape         Param #     Connected to                     \n",
            "==================================================================================================\n",
            " user_id (InputLayer)           [(None,)]            0           []                               \n",
            "                                                                                                  \n",
            " movie_id (InputLayer)          [(None,)]            0           []                               \n",
            "                                                                                                  \n",
            " user_embedding (Sequential)    (None, 64)           386560      ['user_id[0][0]']                \n",
            "                                                                                                  \n",
            " movie_embedding (Sequential)   (None, 64)           237184      ['movie_id[0][0]']               \n",
            "                                                                                                  \n",
            " concatenate (Concatenate)      (None, 128)          0           ['user_embedding[0][0]',         \n",
            "                                                                  'movie_embedding[0][0]']        \n",
            "                                                                                                  \n",
            " dense (Dense)                  (None, 256)          33024       ['concatenate[0][0]']            \n",
            "                                                                                                  \n",
            " dropout (Dropout)              (None, 256)          0           ['dense[0][0]']                  \n",
            "                                                                                                  \n",
            " dense_1 (Dense)                (None, 64)           16448       ['dropout[0][0]']                \n",
            "                                                                                                  \n",
            " dropout_1 (Dropout)            (None, 64)           0           ['dense_1[0][0]']                \n",
            "                                                                                                  \n",
            " dense_2 (Dense)                (None, 1)            65          ['dropout_1[0][0]']              \n",
            "                                                                                                  \n",
            " tf.math.multiply (TFOpLambda)  (None, 1)            0           ['dense_2[0][0]']                \n",
            "                                                                                                  \n",
            "==================================================================================================\n",
            "Total params: 673,281\n",
            "Trainable params: 673,281\n",
            "Non-trainable params: 0\n",
            "__________________________________________________________________________________________________\n"
          ]
        }
      ]
    },
    {
      "cell_type": "code",
      "source": [
        "history = run_experiment(mymodel, learning_rate=0.0003, batch_size=1024, num_epochs=25 )\n",
        "#history = run_experiment(baseline_model, learning_rate=0.0003, batch_size=1024, num_epochs=25)\n",
        "plt.plot(history.history[\"loss\"])\n",
        "plt.plot(history.history[\"val_loss\"])\n",
        "plt.title(\"model loss\")\n",
        "plt.ylabel(\"loss\")\n",
        "plt.xlabel(\"epoch\")\n",
        "plt.legend([\"train\", \"eval\"], loc=\"upper left\")\n",
        "plt.show()"
      ],
      "metadata": {
        "colab": {
          "base_uri": "https://localhost:8080/",
          "height": 1000
        },
        "id": "gnI571zWP5X-",
        "outputId": "597b5cc8-f244-46db-eef7-b6eb47068ab5"
      },
      "execution_count": 7,
      "outputs": [
        {
          "output_type": "stream",
          "name": "stdout",
          "text": [
            "Epoch 1/25\n",
            "831/831 [==============================] - 43s 48ms/step - loss: 1.0283 - accuracy: 0.0560 - rmse: 1.0140 - val_loss: 0.8587 - val_accuracy: 0.0570 - val_rmse: 0.9266\n",
            "Epoch 2/25\n",
            "831/831 [==============================] - 37s 44ms/step - loss: 0.8508 - accuracy: 0.0560 - rmse: 0.9224 - val_loss: 0.8247 - val_accuracy: 0.0570 - val_rmse: 0.9081\n",
            "Epoch 3/25\n",
            "831/831 [==============================] - 49s 59ms/step - loss: 0.8261 - accuracy: 0.0560 - rmse: 0.9089 - val_loss: 0.8130 - val_accuracy: 0.0570 - val_rmse: 0.9017\n",
            "Epoch 4/25\n",
            "831/831 [==============================] - 36s 43ms/step - loss: 0.8108 - accuracy: 0.0560 - rmse: 0.9004 - val_loss: 0.8055 - val_accuracy: 0.0570 - val_rmse: 0.8975\n",
            "Epoch 5/25\n",
            "831/831 [==============================] - 35s 42ms/step - loss: 0.7977 - accuracy: 0.0560 - rmse: 0.8932 - val_loss: 0.7988 - val_accuracy: 0.0570 - val_rmse: 0.8938\n",
            "Epoch 6/25\n",
            "831/831 [==============================] - 34s 41ms/step - loss: 0.7853 - accuracy: 0.0560 - rmse: 0.8862 - val_loss: 0.7911 - val_accuracy: 0.0570 - val_rmse: 0.8894\n",
            "Epoch 7/25\n",
            "831/831 [==============================] - 35s 43ms/step - loss: 0.7724 - accuracy: 0.0560 - rmse: 0.8789 - val_loss: 0.7849 - val_accuracy: 0.0570 - val_rmse: 0.8860\n",
            "Epoch 8/25\n",
            "831/831 [==============================] - 37s 44ms/step - loss: 0.7588 - accuracy: 0.0560 - rmse: 0.8711 - val_loss: 0.7798 - val_accuracy: 0.0570 - val_rmse: 0.8831\n",
            "Epoch 9/25\n",
            "831/831 [==============================] - 37s 44ms/step - loss: 0.7469 - accuracy: 0.0559 - rmse: 0.8643 - val_loss: 0.7797 - val_accuracy: 0.0570 - val_rmse: 0.8830\n",
            "Epoch 10/25\n",
            "831/831 [==============================] - 34s 41ms/step - loss: 0.7352 - accuracy: 0.0559 - rmse: 0.8574 - val_loss: 0.7792 - val_accuracy: 0.0570 - val_rmse: 0.8827\n",
            "Epoch 11/25\n",
            "831/831 [==============================] - 36s 43ms/step - loss: 0.7225 - accuracy: 0.0559 - rmse: 0.8500 - val_loss: 0.7817 - val_accuracy: 0.0570 - val_rmse: 0.8841\n",
            "Epoch 12/25\n",
            "831/831 [==============================] - 35s 42ms/step - loss: 0.7083 - accuracy: 0.0558 - rmse: 0.8416 - val_loss: 0.7854 - val_accuracy: 0.0569 - val_rmse: 0.8862\n",
            "Epoch 13/25\n",
            "831/831 [==============================] - 36s 43ms/step - loss: 0.6926 - accuracy: 0.0558 - rmse: 0.8322 - val_loss: 0.7857 - val_accuracy: 0.0569 - val_rmse: 0.8864\n",
            "Epoch 14/25\n",
            "831/831 [==============================] - 36s 43ms/step - loss: 0.6777 - accuracy: 0.0557 - rmse: 0.8232 - val_loss: 0.7870 - val_accuracy: 0.0569 - val_rmse: 0.8871\n",
            "Epoch 15/25\n",
            "831/831 [==============================] - 35s 42ms/step - loss: 0.6620 - accuracy: 0.0557 - rmse: 0.8137 - val_loss: 0.7875 - val_accuracy: 0.0569 - val_rmse: 0.8874\n",
            "Epoch 16/25\n",
            "831/831 [==============================] - 37s 44ms/step - loss: 0.6474 - accuracy: 0.0556 - rmse: 0.8046 - val_loss: 0.7874 - val_accuracy: 0.0568 - val_rmse: 0.8873\n",
            "Epoch 17/25\n",
            "831/831 [==============================] - 35s 42ms/step - loss: 0.6347 - accuracy: 0.0556 - rmse: 0.7967 - val_loss: 0.7884 - val_accuracy: 0.0568 - val_rmse: 0.8879\n",
            "Epoch 18/25\n",
            "831/831 [==============================] - 35s 42ms/step - loss: 0.6233 - accuracy: 0.0556 - rmse: 0.7895 - val_loss: 0.7887 - val_accuracy: 0.0568 - val_rmse: 0.8881\n",
            "Epoch 19/25\n",
            "831/831 [==============================] - 39s 46ms/step - loss: 0.6120 - accuracy: 0.0556 - rmse: 0.7823 - val_loss: 0.7917 - val_accuracy: 0.0568 - val_rmse: 0.8898\n",
            "Epoch 20/25\n",
            "831/831 [==============================] - 38s 46ms/step - loss: 0.6025 - accuracy: 0.0556 - rmse: 0.7762 - val_loss: 0.7923 - val_accuracy: 0.0568 - val_rmse: 0.8901\n",
            "Epoch 21/25\n",
            "831/831 [==============================] - 38s 45ms/step - loss: 0.5935 - accuracy: 0.0555 - rmse: 0.7704 - val_loss: 0.7944 - val_accuracy: 0.0568 - val_rmse: 0.8913\n",
            "Epoch 22/25\n",
            "831/831 [==============================] - 44s 52ms/step - loss: 0.5856 - accuracy: 0.0555 - rmse: 0.7652 - val_loss: 0.7955 - val_accuracy: 0.0568 - val_rmse: 0.8919\n",
            "Epoch 23/25\n",
            "831/831 [==============================] - 37s 45ms/step - loss: 0.5783 - accuracy: 0.0555 - rmse: 0.7605 - val_loss: 0.7948 - val_accuracy: 0.0568 - val_rmse: 0.8915\n",
            "Epoch 24/25\n",
            "831/831 [==============================] - 37s 45ms/step - loss: 0.5708 - accuracy: 0.0555 - rmse: 0.7555 - val_loss: 0.7989 - val_accuracy: 0.0569 - val_rmse: 0.8938\n",
            "Epoch 25/25\n",
            "831/831 [==============================] - 36s 43ms/step - loss: 0.5645 - accuracy: 0.0554 - rmse: 0.7513 - val_loss: 0.7982 - val_accuracy: 0.0568 - val_rmse: 0.8934\n"
          ]
        },
        {
          "output_type": "display_data",
          "data": {
            "image/png": "[encoded data removed]",
            "text/plain": [
              "<Figure size 432x288 with 1 Axes>"
            ]
          },
          "metadata": {
            "needs_background": "light"
          }
        }
      ]
    },
    {
      "cell_type": "code",
      "source": [
        "plt.plot(history.history[\"loss\"])\n",
        "plt.plot(history.history[\"val_loss\"])\n",
        "plt.title(\"model loss\")\n",
        "plt.ylabel(\"loss\")\n",
        "plt.xlabel(\"epoch\")\n",
        "plt.legend([\"train\", \"eval\"], loc=\"upper left\")\n",
        "plt.show()\n",
        "plt.plot(history.history[\"rmse\"])\n",
        "plt.plot(history.history[\"val_rmse\"])\n",
        "plt.title(\"model loss\")\n",
        "plt.ylabel(\"rmse\")\n",
        "plt.xlabel(\"epoch\")\n",
        "plt.legend([\"train\", \"eval\"], loc=\"upper left\")\n",
        "plt.show()"
      ],
      "metadata": {
        "colab": {
          "base_uri": "https://localhost:8080/",
          "height": 573
        },
        "id": "RNmAHFj2P_I7",
        "outputId": "610c54cb-6f78-448e-f643-8baba281d79a"
      },
      "execution_count": 8,
      "outputs": [
        {
          "output_type": "display_data",
          "data": {
            "image/png": "[encoded data removed]",
            "text/plain": [
              "<Figure size 432x288 with 1 Axes>"
            ]
          },
          "metadata": {
            "needs_background": "light"
          }
        },
        {
          "output_type": "display_data",
          "data": {
            "image/png": "[encoded data removed]",
            "text/plain": [
              "<Figure size 432x288 with 1 Axes>"
            ]
          },
          "metadata": {
            "needs_background": "light"
          }
        }
      ]
    }
  ]
}
