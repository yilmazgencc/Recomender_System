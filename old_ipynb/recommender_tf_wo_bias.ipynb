{
  "cells": [
    {
      "cell_type": "markdown",
      "metadata": {
        "id": "view-in-github",
        "colab_type": "text"
      },
      "source": [
        "<a href=\"https://colab.research.google.com/github/yilmazgencc/recomender_system/blob/main/recommender_tf_wo_bias.ipynb\" target=\"_parent\"><img src=\"https://colab.research.google.com/assets/colab-badge.svg\" alt=\"Open In Colab\"/></a>"
      ]
    },
    {
      "cell_type": "code",
      "execution_count": 12,
      "metadata": {
        "id": "PEiRqjESDROU"
      },
      "outputs": [],
      "source": [
        "import pandas as pd\n",
        "import numpy as np\n",
        "from zipfile import ZipFile\n",
        "import tensorflow as tf\n",
        "from tensorflow import keras\n",
        "from tensorflow.keras import layers\n",
        "from pathlib import Path\n",
        "import matplotlib.pyplot as plt\n",
        "import os"
      ]
    },
    {
      "cell_type": "code",
      "execution_count": 13,
      "metadata": {
        "colab": {
          "base_uri": "https://localhost:8080/"
        },
        "id": "dBCdKSaUGxaj",
        "outputId": "6e662e57-7347-4600-81d1-69b7868e6f06"
      },
      "outputs": [
        {
          "output_type": "stream",
          "name": "stdout",
          "text": [
            "Num GPUs Available:  1\n"
          ]
        }
      ],
      "source": [
        "print(\"Num GPUs Available: \", len(tf.config.list_physical_devices('GPU')))\n",
        "#tf.debugging.set_log_device_placement(True)"
      ]
    },
    {
      "cell_type": "code",
      "execution_count": 14,
      "metadata": {
        "id": "uEofxZhxFFOK"
      },
      "outputs": [],
      "source": [
        "def dataset_prep(df):\n",
        "    user_ids = df[\"userId\"].unique().tolist()\n",
        "    user2user_encoded = {x: i for i, x in enumerate(user_ids)}\n",
        "    userencoded2user = {i: x for i, x in enumerate(user_ids)}\n",
        "    movie_ids = df[\"movieId\"].unique().tolist()\n",
        "    movie2movie_encoded = {x: i for i, x in enumerate(movie_ids)}\n",
        "    movie_encoded2movie = {i: x for i, x in enumerate(movie_ids)}\n",
        "    df[\"user\"] = df[\"userId\"].map(user2user_encoded)\n",
        "    df[\"movie\"] = df[\"movieId\"].map(movie2movie_encoded)\n",
        "\n",
        "    num_users = len(user2user_encoded)\n",
        "    num_movies = len(movie_encoded2movie)\n",
        "    df[\"rating\"] = df[\"rating\"].values.astype(np.float32)\n",
        "    # min and max ratings will be used to normalize the ratings later\n",
        "    min_rating = min(df[\"rating\"])\n",
        "    max_rating = max(df[\"rating\"])\n",
        "\n",
        "    print(\n",
        "        \"Number of users: {}, Number of Movies: {}, Min rating: {}, Max rating: {}\".format(\n",
        "            num_users, num_movies, min_rating, max_rating\n",
        "        )\n",
        "    )\n",
        "    return num_users, num_movies, df ,min_rating, max_rating"
      ]
    },
    {
      "cell_type": "code",
      "execution_count": 15,
      "metadata": {
        "colab": {
          "base_uri": "https://localhost:8080/"
        },
        "id": "vcQfKjKyEkuQ",
        "outputId": "60274eb7-2015-4e20-ae85-78cc8334ab39"
      },
      "outputs": [
        {
          "output_type": "stream",
          "name": "stdout",
          "text": [
            "Number of users: 6040, Number of Movies: 3706, Min rating: 1.0, Max rating: 5.0\n"
          ]
        }
      ],
      "source": [
        "movielens_zipped_file=\"/content/drive/MyDrive/ml-1m.zip\"\n",
        "movielens_dir=movielens_zipped_file[:-4]\n",
        "if not os.path.isdir(movielens_dir):\n",
        "    with ZipFile(movielens_zipped_file, \"r\") as zip:\n",
        "        # Extract files\n",
        "        print(\"Extracting all the files now...\")\n",
        "        zip.extractall(Path(movielens_dir).parents[0])\n",
        "        print(\"Done!\")\n",
        "\n",
        "pd.options.display.max_rows = 10\n",
        "# unames = ['userId', 'gender', 'age', 'occupation', 'zip']\n",
        "# users = pd.read_table(os.path.join(movielens_dir, \"users.dat\"), sep='::', header=None, names=unames, engine='python')\n",
        "rnames = ['userId', 'movieId', 'rating', 'timestamp']\n",
        "df = pd.read_table(os.path.join(movielens_dir, \"ratings.dat\"), sep='::', header=None, names=rnames, engine='python')\n",
        "#ratings\n",
        "# mnames = ['movieId', 'title', 'genres']\n",
        "# movies = pd.read_table(os.path.join(movielens_dir, \"movies.dat\"), sep='::', header=None, names=mnames, engine='python')\n",
        "\n",
        "num_users, num_movies, df, min_rating, max_rating=dataset_prep(df)"
      ]
    },
    {
      "cell_type": "code",
      "execution_count": 16,
      "metadata": {
        "id": "5YHyWOTgFRl0"
      },
      "outputs": [],
      "source": [
        "df = df.sample(frac=1, random_state=42)\n",
        "x = df[[\"user\", \"movie\"]].values\n",
        "# Normalize the targets between 0 and 1. Makes it easy to train. Neglect normalization\n",
        "y = df[\"rating\"].apply(lambda x: (x - min_rating) / (max_rating - min_rating)).values\n",
        "#y = df[\"rating\"].apply(lambda x: (x - 0) ).values\n",
        "# Assuming training on 80% of the data and validating on 10%.\n",
        "train_indices = int(0.8 * df.shape[0])\n",
        "x_train, x_val, y_train, y_val = (\n",
        "    x[:train_indices],\n",
        "    x[train_indices:],\n",
        "    y[:train_indices],\n",
        "    y[train_indices:],\n",
        ")"
      ]
    },
    {
      "cell_type": "code",
      "source": [
        ""
      ],
      "metadata": {
        "id": "jPChSwZsdDcI"
      },
      "execution_count": 16,
      "outputs": []
    },
    {
      "cell_type": "code",
      "execution_count": 17,
      "metadata": {
        "id": "ldpG2n7aFVQK"
      },
      "outputs": [],
      "source": [
        "EMBEDDING_SIZE = 100\n",
        "class RecommenderNet(keras.Model):\n",
        "    def __init__(self, num_users, num_movies, embedding_size, **kwargs):\n",
        "        super(RecommenderNet, self).__init__(**kwargs)\n",
        "        self.num_users = num_users\n",
        "        self.num_movies = num_movies\n",
        "        self.embedding_size = embedding_size\n",
        "        self.user_embedding = layers.Embedding(\n",
        "            num_users,\n",
        "            embedding_size,\n",
        "            embeddings_initializer=\"he_normal\",\n",
        "            embeddings_regularizer=keras.regularizers.l2(1e-6),\n",
        "        )\n",
        "        self.user_bias = layers.Embedding(num_users, 1)\n",
        "        self.movie_embedding = layers.Embedding(\n",
        "            num_movies,\n",
        "            embedding_size,\n",
        "            embeddings_initializer=\"he_normal\",\n",
        "            embeddings_regularizer=keras.regularizers.l2(1e-6),\n",
        "        )\n",
        "        self.movie_bias = layers.Embedding(num_movies, 1)\n",
        "\n",
        "    def call(self, inputs):\n",
        "        user_vector = self.user_embedding(inputs[:, 0])\n",
        "        user_bias = self.user_bias(inputs[:, 0])\n",
        "        movie_vector = self.movie_embedding(inputs[:, 1])\n",
        "        movie_bias = self.movie_bias(inputs[:, 1])\n",
        "        dot_user_movie = tf.tensordot(user_vector, movie_vector, 2)\n",
        "        # Add all the components (including bias)\n",
        "        x = dot_user_movie + user_bias + movie_bias\n",
        "        # The sigmoid activation forces the rating to between 0 and 1\n",
        "        return tf.nn.sigmoid(x)"
      ]
    },
    {
      "cell_type": "code",
      "source": [
        "EMBEDDING_SIZE = 100\n",
        "class RecommenderNet_withNN(keras.Model):\n",
        "    def __init__(self, num_users, num_movies, embedding_size, H1=50, D_out=1, **kwargs):\n",
        "        super(RecommenderNet_withNN, self).__init__(**kwargs)\n",
        "        self.num_users = num_users\n",
        "        self.num_movies = num_movies\n",
        "        self.embedding_size = embedding_size\n",
        "        self.user_embedding = layers.Embedding(\n",
        "            num_users,\n",
        "            embedding_size,\n",
        "            embeddings_initializer=\"he_normal\",\n",
        "            embeddings_regularizer=keras.regularizers.l2(1e-6),\n",
        "        )\n",
        "        self.user_bias = layers.Embedding(num_users, 1)\n",
        "        self.movie_embedding = layers.Embedding(\n",
        "            num_movies,\n",
        "            embedding_size,\n",
        "            embeddings_initializer=\"he_normal\",\n",
        "            embeddings_regularizer=keras.regularizers.l2(1e-6),\n",
        "        )\n",
        "        self.movie_bias = layers.Embedding(num_movies, 1)\n",
        "\n",
        "        #linear layer adding\n",
        "\n",
        "        self.linear1=layers.Dense(embedding_size*2, H1, activation='relu')\n",
        "        self.linear2=layers.Dense(H1, D_out)\n",
        "        \n",
        "    def call(self, inputs):\n",
        "        user_vector = self.user_embedding(inputs[:, 0])\n",
        "        user_bias = self.user_bias(inputs[:, 0])\n",
        "        movie_vector = self.movie_embedding(inputs[:, 1])\n",
        "        movie_bias = self.movie_bias(inputs[:, 1])\n",
        "\n",
        "        x=layers.Concatenate(axis=1)([user_vector, movie_vector])\n",
        "        h1_relu=self.linear1(x)\n",
        "        output_scores=self.linear2(h1_relu)\n",
        "        #dot_user_movie = tf.tensordot(user_vector, movie_vector, 2)\n",
        "        # Add all the components (including bias)\n",
        "        x = dot_user_movie #+ user_bias + movie_bias\n",
        "        # The sigmoid activation forces the rating to between 0 and 1\n",
        "        return tf.nn.sigmoid(x)\n",
        "\n",
        "\n",
        "#model = RecommenderNet(num_users, num_movies, EMBEDDING_SIZE)\n",
        "model = RecommenderNet(num_users, num_movies, EMBEDDING_SIZE)\n",
        "model.compile(\n",
        "    loss=tf.keras.losses.BinaryCrossentropy(), optimizer=keras.optimizers.Adam(lr=0.0001) , metrics=['accuracy', tf.keras.metrics.RootMeanSquaredError()]\n",
        ")"
      ],
      "metadata": {
        "colab": {
          "base_uri": "https://localhost:8080/"
        },
        "id": "a_XZ51IrigpB",
        "outputId": "e037c78a-66ed-49c8-b397-0ca27d207b26"
      },
      "execution_count": 20,
      "outputs": [
        {
          "output_type": "stream",
          "name": "stderr",
          "text": [
            "/usr/local/lib/python3.7/dist-packages/keras/optimizer_v2/adam.py:105: UserWarning: The `lr` argument is deprecated, use `learning_rate` instead.\n",
            "  super(Adam, self).__init__(name, **kwargs)\n"
          ]
        }
      ]
    },
    {
      "cell_type": "code",
      "execution_count": 22,
      "metadata": {
        "colab": {
          "base_uri": "https://localhost:8080/",
          "height": 1000
        },
        "id": "E-2Qyd3_FdLM",
        "outputId": "13cdf135-3845-4d14-8b63-c388b7fa4a7a"
      },
      "outputs": [
        {
          "output_type": "stream",
          "name": "stdout",
          "text": [
            "Epoch 1/100\n",
            "1563/1563 - 7s - loss: 0.6437 - accuracy: 0.2263 - root_mean_squared_error: 0.2735 - val_loss: 0.6550 - val_accuracy: 0.2307 - val_root_mean_squared_error: 0.2828 - 7s/epoch - 4ms/step\n",
            "Epoch 2/100\n",
            "1563/1563 - 6s - loss: 0.6377 - accuracy: 0.2263 - root_mean_squared_error: 0.2684 - val_loss: 0.6459 - val_accuracy: 0.2326 - val_root_mean_squared_error: 0.2749 - 6s/epoch - 4ms/step\n",
            "Epoch 3/100\n",
            "1563/1563 - 6s - loss: 0.6328 - accuracy: 0.2264 - root_mean_squared_error: 0.2643 - val_loss: 0.6413 - val_accuracy: 0.2378 - val_root_mean_squared_error: 0.2709 - 6s/epoch - 4ms/step\n",
            "Epoch 4/100\n",
            "1563/1563 - 7s - loss: 0.6284 - accuracy: 0.2268 - root_mean_squared_error: 0.2605 - val_loss: 0.6375 - val_accuracy: 0.2423 - val_root_mean_squared_error: 0.2676 - 7s/epoch - 4ms/step\n",
            "Epoch 5/100\n",
            "1563/1563 - 7s - loss: 0.6246 - accuracy: 0.2282 - root_mean_squared_error: 0.2571 - val_loss: 0.6317 - val_accuracy: 0.2438 - val_root_mean_squared_error: 0.2625 - 7s/epoch - 4ms/step\n",
            "Epoch 6/100\n",
            "1563/1563 - 6s - loss: 0.6213 - accuracy: 0.2303 - root_mean_squared_error: 0.2542 - val_loss: 0.6288 - val_accuracy: 0.2471 - val_root_mean_squared_error: 0.2599 - 6s/epoch - 4ms/step\n",
            "Epoch 7/100\n",
            "1563/1563 - 6s - loss: 0.6182 - accuracy: 0.2330 - root_mean_squared_error: 0.2514 - val_loss: 0.6252 - val_accuracy: 0.2486 - val_root_mean_squared_error: 0.2568 - 6s/epoch - 4ms/step\n",
            "Epoch 8/100\n",
            "1563/1563 - 6s - loss: 0.6155 - accuracy: 0.2358 - root_mean_squared_error: 0.2490 - val_loss: 0.6224 - val_accuracy: 0.2498 - val_root_mean_squared_error: 0.2542 - 6s/epoch - 4ms/step\n",
            "Epoch 9/100\n",
            "1563/1563 - 6s - loss: 0.6132 - accuracy: 0.2386 - root_mean_squared_error: 0.2470 - val_loss: 0.6198 - val_accuracy: 0.2510 - val_root_mean_squared_error: 0.2520 - 6s/epoch - 4ms/step\n",
            "Epoch 10/100\n",
            "1563/1563 - 6s - loss: 0.6110 - accuracy: 0.2411 - root_mean_squared_error: 0.2450 - val_loss: 0.6180 - val_accuracy: 0.2519 - val_root_mean_squared_error: 0.2504 - 6s/epoch - 4ms/step\n",
            "Epoch 11/100\n",
            "1563/1563 - 6s - loss: 0.6093 - accuracy: 0.2432 - root_mean_squared_error: 0.2434 - val_loss: 0.6158 - val_accuracy: 0.2522 - val_root_mean_squared_error: 0.2484 - 6s/epoch - 4ms/step\n",
            "Epoch 12/100\n",
            "1563/1563 - 7s - loss: 0.6076 - accuracy: 0.2452 - root_mean_squared_error: 0.2419 - val_loss: 0.6136 - val_accuracy: 0.2525 - val_root_mean_squared_error: 0.2465 - 7s/epoch - 4ms/step\n",
            "Epoch 13/100\n",
            "1563/1563 - 6s - loss: 0.6060 - accuracy: 0.2465 - root_mean_squared_error: 0.2404 - val_loss: 0.6129 - val_accuracy: 0.2532 - val_root_mean_squared_error: 0.2459 - 6s/epoch - 4ms/step\n",
            "Epoch 14/100\n",
            "1563/1563 - 7s - loss: 0.6048 - accuracy: 0.2480 - root_mean_squared_error: 0.2393 - val_loss: 0.6112 - val_accuracy: 0.2534 - val_root_mean_squared_error: 0.2444 - 7s/epoch - 4ms/step\n",
            "Epoch 15/100\n",
            "1563/1563 - 6s - loss: 0.6036 - accuracy: 0.2492 - root_mean_squared_error: 0.2383 - val_loss: 0.6103 - val_accuracy: 0.2535 - val_root_mean_squared_error: 0.2436 - 6s/epoch - 4ms/step\n",
            "Epoch 16/100\n",
            "1563/1563 - 7s - loss: 0.6025 - accuracy: 0.2502 - root_mean_squared_error: 0.2373 - val_loss: 0.6082 - val_accuracy: 0.2539 - val_root_mean_squared_error: 0.2418 - 7s/epoch - 4ms/step\n",
            "Epoch 17/100\n",
            "1563/1563 - 6s - loss: 0.6016 - accuracy: 0.2509 - root_mean_squared_error: 0.2365 - val_loss: 0.6079 - val_accuracy: 0.2542 - val_root_mean_squared_error: 0.2416 - 6s/epoch - 4ms/step\n",
            "Epoch 18/100\n",
            "1563/1563 - 7s - loss: 0.6007 - accuracy: 0.2517 - root_mean_squared_error: 0.2356 - val_loss: 0.6071 - val_accuracy: 0.2546 - val_root_mean_squared_error: 0.2409 - 7s/epoch - 4ms/step\n",
            "Epoch 19/100\n",
            "1563/1563 - 6s - loss: 0.6000 - accuracy: 0.2523 - root_mean_squared_error: 0.2350 - val_loss: 0.6059 - val_accuracy: 0.2546 - val_root_mean_squared_error: 0.2398 - 6s/epoch - 4ms/step\n",
            "Epoch 20/100\n",
            "1563/1563 - 6s - loss: 0.5993 - accuracy: 0.2529 - root_mean_squared_error: 0.2343 - val_loss: 0.6050 - val_accuracy: 0.2546 - val_root_mean_squared_error: 0.2391 - 6s/epoch - 4ms/step\n",
            "Epoch 21/100\n",
            "1563/1563 - 7s - loss: 0.5986 - accuracy: 0.2534 - root_mean_squared_error: 0.2337 - val_loss: 0.6043 - val_accuracy: 0.2548 - val_root_mean_squared_error: 0.2384 - 7s/epoch - 4ms/step\n",
            "Epoch 22/100\n",
            "1563/1563 - 6s - loss: 0.5981 - accuracy: 0.2538 - root_mean_squared_error: 0.2332 - val_loss: 0.6040 - val_accuracy: 0.2548 - val_root_mean_squared_error: 0.2382 - 6s/epoch - 4ms/step\n",
            "Epoch 23/100\n",
            "1563/1563 - 6s - loss: 0.5976 - accuracy: 0.2543 - root_mean_squared_error: 0.2328 - val_loss: 0.6031 - val_accuracy: 0.2551 - val_root_mean_squared_error: 0.2374 - 6s/epoch - 4ms/step\n",
            "Epoch 24/100\n",
            "1563/1563 - 6s - loss: 0.5970 - accuracy: 0.2545 - root_mean_squared_error: 0.2323 - val_loss: 0.6025 - val_accuracy: 0.2552 - val_root_mean_squared_error: 0.2369 - 6s/epoch - 4ms/step\n",
            "Epoch 25/100\n",
            "1563/1563 - 6s - loss: 0.5965 - accuracy: 0.2549 - root_mean_squared_error: 0.2318 - val_loss: 0.6027 - val_accuracy: 0.2552 - val_root_mean_squared_error: 0.2371 - 6s/epoch - 4ms/step\n",
            "Epoch 26/100\n",
            "1563/1563 - 7s - loss: 0.5962 - accuracy: 0.2551 - root_mean_squared_error: 0.2315 - val_loss: 0.6016 - val_accuracy: 0.2554 - val_root_mean_squared_error: 0.2361 - 7s/epoch - 4ms/step\n",
            "Epoch 27/100\n",
            "1563/1563 - 7s - loss: 0.5958 - accuracy: 0.2553 - root_mean_squared_error: 0.2312 - val_loss: 0.6004 - val_accuracy: 0.2556 - val_root_mean_squared_error: 0.2351 - 7s/epoch - 4ms/step\n",
            "Epoch 28/100\n",
            "1563/1563 - 7s - loss: 0.5954 - accuracy: 0.2557 - root_mean_squared_error: 0.2308 - val_loss: 0.6011 - val_accuracy: 0.2555 - val_root_mean_squared_error: 0.2357 - 7s/epoch - 4ms/step\n",
            "Epoch 29/100\n",
            "1563/1563 - 7s - loss: 0.5952 - accuracy: 0.2560 - root_mean_squared_error: 0.2306 - val_loss: 0.5997 - val_accuracy: 0.2557 - val_root_mean_squared_error: 0.2344 - 7s/epoch - 4ms/step\n",
            "Epoch 30/100\n",
            "1563/1563 - 6s - loss: 0.5948 - accuracy: 0.2559 - root_mean_squared_error: 0.2302 - val_loss: 0.5999 - val_accuracy: 0.2557 - val_root_mean_squared_error: 0.2346 - 6s/epoch - 4ms/step\n",
            "Epoch 31/100\n",
            "1563/1563 - 7s - loss: 0.5945 - accuracy: 0.2562 - root_mean_squared_error: 0.2300 - val_loss: 0.5994 - val_accuracy: 0.2559 - val_root_mean_squared_error: 0.2342 - 7s/epoch - 4ms/step\n",
            "Epoch 32/100\n",
            "1563/1563 - 7s - loss: 0.5941 - accuracy: 0.2564 - root_mean_squared_error: 0.2296 - val_loss: 0.5993 - val_accuracy: 0.2560 - val_root_mean_squared_error: 0.2342 - 7s/epoch - 4ms/step\n",
            "Epoch 33/100\n",
            "1563/1563 - 6s - loss: 0.5939 - accuracy: 0.2565 - root_mean_squared_error: 0.2294 - val_loss: 0.5982 - val_accuracy: 0.2560 - val_root_mean_squared_error: 0.2332 - 6s/epoch - 4ms/step\n",
            "Epoch 34/100\n",
            "1563/1563 - 6s - loss: 0.5937 - accuracy: 0.2566 - root_mean_squared_error: 0.2292 - val_loss: 0.5984 - val_accuracy: 0.2560 - val_root_mean_squared_error: 0.2334 - 6s/epoch - 4ms/step\n",
            "Epoch 35/100\n",
            "1563/1563 - 6s - loss: 0.5935 - accuracy: 0.2567 - root_mean_squared_error: 0.2290 - val_loss: 0.5981 - val_accuracy: 0.2560 - val_root_mean_squared_error: 0.2331 - 6s/epoch - 4ms/step\n",
            "Epoch 36/100\n",
            "1563/1563 - 6s - loss: 0.5933 - accuracy: 0.2568 - root_mean_squared_error: 0.2289 - val_loss: 0.5981 - val_accuracy: 0.2560 - val_root_mean_squared_error: 0.2331 - 6s/epoch - 4ms/step\n",
            "Epoch 37/100\n",
            "1563/1563 - 7s - loss: 0.5931 - accuracy: 0.2571 - root_mean_squared_error: 0.2287 - val_loss: 0.5979 - val_accuracy: 0.2561 - val_root_mean_squared_error: 0.2329 - 7s/epoch - 4ms/step\n",
            "Epoch 38/100\n",
            "1563/1563 - 7s - loss: 0.5930 - accuracy: 0.2571 - root_mean_squared_error: 0.2286 - val_loss: 0.5973 - val_accuracy: 0.2563 - val_root_mean_squared_error: 0.2324 - 7s/epoch - 4ms/step\n",
            "Epoch 39/100\n",
            "1563/1563 - 7s - loss: 0.5928 - accuracy: 0.2572 - root_mean_squared_error: 0.2285 - val_loss: 0.5972 - val_accuracy: 0.2564 - val_root_mean_squared_error: 0.2323 - 7s/epoch - 4ms/step\n",
            "Epoch 40/100\n",
            "1563/1563 - 6s - loss: 0.5926 - accuracy: 0.2573 - root_mean_squared_error: 0.2282 - val_loss: 0.5971 - val_accuracy: 0.2562 - val_root_mean_squared_error: 0.2322 - 6s/epoch - 4ms/step\n",
            "Epoch 41/100\n",
            "1563/1563 - 6s - loss: 0.5924 - accuracy: 0.2574 - root_mean_squared_error: 0.2281 - val_loss: 0.5964 - val_accuracy: 0.2566 - val_root_mean_squared_error: 0.2316 - 6s/epoch - 4ms/step\n",
            "Epoch 42/100\n",
            "1563/1563 - 7s - loss: 0.5923 - accuracy: 0.2574 - root_mean_squared_error: 0.2280 - val_loss: 0.5972 - val_accuracy: 0.2563 - val_root_mean_squared_error: 0.2323 - 7s/epoch - 4ms/step\n",
            "Epoch 43/100\n",
            "1563/1563 - 7s - loss: 0.5922 - accuracy: 0.2575 - root_mean_squared_error: 0.2279 - val_loss: 0.5963 - val_accuracy: 0.2566 - val_root_mean_squared_error: 0.2315 - 7s/epoch - 4ms/step\n",
            "Epoch 44/100\n",
            "1563/1563 - 6s - loss: 0.5920 - accuracy: 0.2576 - root_mean_squared_error: 0.2277 - val_loss: 0.5967 - val_accuracy: 0.2566 - val_root_mean_squared_error: 0.2319 - 6s/epoch - 4ms/step\n",
            "Epoch 45/100\n",
            "1563/1563 - 6s - loss: 0.5919 - accuracy: 0.2576 - root_mean_squared_error: 0.2276 - val_loss: 0.5958 - val_accuracy: 0.2567 - val_root_mean_squared_error: 0.2310 - 6s/epoch - 4ms/step\n",
            "Epoch 46/100\n",
            "1563/1563 - 7s - loss: 0.5918 - accuracy: 0.2577 - root_mean_squared_error: 0.2275 - val_loss: 0.5963 - val_accuracy: 0.2566 - val_root_mean_squared_error: 0.2316 - 7s/epoch - 4ms/step\n",
            "Epoch 47/100\n",
            "1563/1563 - 6s - loss: 0.5916 - accuracy: 0.2577 - root_mean_squared_error: 0.2274 - val_loss: 0.5957 - val_accuracy: 0.2567 - val_root_mean_squared_error: 0.2310 - 6s/epoch - 4ms/step\n",
            "Epoch 48/100\n",
            "1563/1563 - 6s - loss: 0.5916 - accuracy: 0.2578 - root_mean_squared_error: 0.2274 - val_loss: 0.5956 - val_accuracy: 0.2568 - val_root_mean_squared_error: 0.2309 - 6s/epoch - 4ms/step\n",
            "Epoch 49/100\n",
            "1563/1563 - 6s - loss: 0.5913 - accuracy: 0.2580 - root_mean_squared_error: 0.2271 - val_loss: 0.5954 - val_accuracy: 0.2569 - val_root_mean_squared_error: 0.2307 - 6s/epoch - 4ms/step\n",
            "Epoch 50/100\n",
            "1563/1563 - 7s - loss: 0.5914 - accuracy: 0.2578 - root_mean_squared_error: 0.2271 - val_loss: 0.5952 - val_accuracy: 0.2568 - val_root_mean_squared_error: 0.2305 - 7s/epoch - 4ms/step\n",
            "Epoch 51/100\n",
            "1563/1563 - 6s - loss: 0.5913 - accuracy: 0.2578 - root_mean_squared_error: 0.2271 - val_loss: 0.5951 - val_accuracy: 0.2568 - val_root_mean_squared_error: 0.2305 - 6s/epoch - 4ms/step\n",
            "Epoch 52/100\n",
            "1563/1563 - 7s - loss: 0.5911 - accuracy: 0.2580 - root_mean_squared_error: 0.2269 - val_loss: 0.5953 - val_accuracy: 0.2569 - val_root_mean_squared_error: 0.2306 - 7s/epoch - 4ms/step\n",
            "Epoch 53/100\n",
            "1563/1563 - 7s - loss: 0.5910 - accuracy: 0.2580 - root_mean_squared_error: 0.2268 - val_loss: 0.5952 - val_accuracy: 0.2569 - val_root_mean_squared_error: 0.2306 - 7s/epoch - 4ms/step\n",
            "Epoch 54/100\n",
            "1563/1563 - 6s - loss: 0.5909 - accuracy: 0.2581 - root_mean_squared_error: 0.2267 - val_loss: 0.5946 - val_accuracy: 0.2571 - val_root_mean_squared_error: 0.2300 - 6s/epoch - 4ms/step\n",
            "Epoch 55/100\n",
            "1563/1563 - 7s - loss: 0.5909 - accuracy: 0.2581 - root_mean_squared_error: 0.2267 - val_loss: 0.5947 - val_accuracy: 0.2571 - val_root_mean_squared_error: 0.2301 - 7s/epoch - 4ms/step\n",
            "Epoch 56/100\n",
            "1563/1563 - 6s - loss: 0.5908 - accuracy: 0.2583 - root_mean_squared_error: 0.2266 - val_loss: 0.5952 - val_accuracy: 0.2570 - val_root_mean_squared_error: 0.2306 - 6s/epoch - 4ms/step\n",
            "Epoch 57/100\n",
            "1563/1563 - 6s - loss: 0.5907 - accuracy: 0.2582 - root_mean_squared_error: 0.2265 - val_loss: 0.5949 - val_accuracy: 0.2570 - val_root_mean_squared_error: 0.2303 - 6s/epoch - 4ms/step\n",
            "Epoch 58/100\n",
            "1563/1563 - 7s - loss: 0.5907 - accuracy: 0.2581 - root_mean_squared_error: 0.2265 - val_loss: 0.5948 - val_accuracy: 0.2570 - val_root_mean_squared_error: 0.2302 - 7s/epoch - 4ms/step\n",
            "Epoch 59/100\n",
            "1563/1563 - 7s - loss: 0.5906 - accuracy: 0.2583 - root_mean_squared_error: 0.2264 - val_loss: 0.5948 - val_accuracy: 0.2570 - val_root_mean_squared_error: 0.2302 - 7s/epoch - 4ms/step\n",
            "Epoch 60/100\n",
            "1563/1563 - 6s - loss: 0.5906 - accuracy: 0.2583 - root_mean_squared_error: 0.2264 - val_loss: 0.5942 - val_accuracy: 0.2572 - val_root_mean_squared_error: 0.2297 - 6s/epoch - 4ms/step\n",
            "Epoch 61/100\n",
            "1563/1563 - 7s - loss: 0.5905 - accuracy: 0.2584 - root_mean_squared_error: 0.2264 - val_loss: 0.5946 - val_accuracy: 0.2571 - val_root_mean_squared_error: 0.2301 - 7s/epoch - 4ms/step\n",
            "Epoch 62/100\n",
            "1563/1563 - 7s - loss: 0.5904 - accuracy: 0.2583 - root_mean_squared_error: 0.2263 - val_loss: 0.5941 - val_accuracy: 0.2572 - val_root_mean_squared_error: 0.2295 - 7s/epoch - 4ms/step\n",
            "Epoch 63/100\n",
            "1563/1563 - 6s - loss: 0.5903 - accuracy: 0.2584 - root_mean_squared_error: 0.2262 - val_loss: 0.5945 - val_accuracy: 0.2572 - val_root_mean_squared_error: 0.2300 - 6s/epoch - 4ms/step\n",
            "Epoch 64/100\n",
            "1563/1563 - 7s - loss: 0.5904 - accuracy: 0.2584 - root_mean_squared_error: 0.2262 - val_loss: 0.5946 - val_accuracy: 0.2572 - val_root_mean_squared_error: 0.2301 - 7s/epoch - 4ms/step\n",
            "Epoch 65/100\n",
            "1563/1563 - 7s - loss: 0.5903 - accuracy: 0.2584 - root_mean_squared_error: 0.2262 - val_loss: 0.5941 - val_accuracy: 0.2573 - val_root_mean_squared_error: 0.2296 - 7s/epoch - 4ms/step\n",
            "Epoch 66/100\n",
            "1563/1563 - 7s - loss: 0.5903 - accuracy: 0.2584 - root_mean_squared_error: 0.2262 - val_loss: 0.5941 - val_accuracy: 0.2573 - val_root_mean_squared_error: 0.2295 - 7s/epoch - 4ms/step\n",
            "Epoch 67/100\n",
            "1563/1563 - 7s - loss: 0.5901 - accuracy: 0.2586 - root_mean_squared_error: 0.2260 - val_loss: 0.5945 - val_accuracy: 0.2573 - val_root_mean_squared_error: 0.2300 - 7s/epoch - 4ms/step\n",
            "Epoch 68/100\n",
            "1563/1563 - 6s - loss: 0.5903 - accuracy: 0.2585 - root_mean_squared_error: 0.2261 - val_loss: 0.5939 - val_accuracy: 0.2573 - val_root_mean_squared_error: 0.2294 - 6s/epoch - 4ms/step\n",
            "Epoch 69/100\n",
            "1563/1563 - 6s - loss: 0.5902 - accuracy: 0.2585 - root_mean_squared_error: 0.2261 - val_loss: 0.5939 - val_accuracy: 0.2573 - val_root_mean_squared_error: 0.2294 - 6s/epoch - 4ms/step\n",
            "Epoch 70/100\n",
            "1563/1563 - 7s - loss: 0.5900 - accuracy: 0.2586 - root_mean_squared_error: 0.2259 - val_loss: 0.5942 - val_accuracy: 0.2573 - val_root_mean_squared_error: 0.2297 - 7s/epoch - 4ms/step\n",
            "Epoch 71/100\n",
            "1563/1563 - 6s - loss: 0.5901 - accuracy: 0.2585 - root_mean_squared_error: 0.2260 - val_loss: 0.5937 - val_accuracy: 0.2573 - val_root_mean_squared_error: 0.2293 - 6s/epoch - 4ms/step\n",
            "Epoch 72/100\n",
            "1563/1563 - 6s - loss: 0.5901 - accuracy: 0.2586 - root_mean_squared_error: 0.2259 - val_loss: 0.5937 - val_accuracy: 0.2573 - val_root_mean_squared_error: 0.2292 - 6s/epoch - 4ms/step\n",
            "Epoch 73/100\n",
            "1563/1563 - 6s - loss: 0.5901 - accuracy: 0.2586 - root_mean_squared_error: 0.2260 - val_loss: 0.5939 - val_accuracy: 0.2573 - val_root_mean_squared_error: 0.2294 - 6s/epoch - 4ms/step\n",
            "Epoch 74/100\n",
            "1563/1563 - 6s - loss: 0.5899 - accuracy: 0.2586 - root_mean_squared_error: 0.2258 - val_loss: 0.5936 - val_accuracy: 0.2573 - val_root_mean_squared_error: 0.2291 - 6s/epoch - 4ms/step\n",
            "Epoch 75/100\n",
            "1563/1563 - 6s - loss: 0.5898 - accuracy: 0.2587 - root_mean_squared_error: 0.2257 - val_loss: 0.5940 - val_accuracy: 0.2573 - val_root_mean_squared_error: 0.2295 - 6s/epoch - 4ms/step\n",
            "Epoch 76/100\n",
            "1563/1563 - 7s - loss: 0.5898 - accuracy: 0.2587 - root_mean_squared_error: 0.2257 - val_loss: 0.5938 - val_accuracy: 0.2574 - val_root_mean_squared_error: 0.2293 - 7s/epoch - 4ms/step\n",
            "Epoch 77/100\n",
            "1563/1563 - 6s - loss: 0.5899 - accuracy: 0.2588 - root_mean_squared_error: 0.2258 - val_loss: 0.5937 - val_accuracy: 0.2575 - val_root_mean_squared_error: 0.2292 - 6s/epoch - 4ms/step\n",
            "Epoch 78/100\n",
            "1563/1563 - 6s - loss: 0.5898 - accuracy: 0.2586 - root_mean_squared_error: 0.2257 - val_loss: 0.5941 - val_accuracy: 0.2574 - val_root_mean_squared_error: 0.2297 - 6s/epoch - 4ms/step\n",
            "Epoch 79/100\n",
            "1563/1563 - 7s - loss: 0.5898 - accuracy: 0.2588 - root_mean_squared_error: 0.2257 - val_loss: 0.5936 - val_accuracy: 0.2575 - val_root_mean_squared_error: 0.2291 - 7s/epoch - 4ms/step\n",
            "Epoch 80/100\n",
            "1563/1563 - 6s - loss: 0.5897 - accuracy: 0.2589 - root_mean_squared_error: 0.2256 - val_loss: 0.5938 - val_accuracy: 0.2574 - val_root_mean_squared_error: 0.2293 - 6s/epoch - 4ms/step\n",
            "Epoch 81/100\n",
            "1563/1563 - 7s - loss: 0.5897 - accuracy: 0.2588 - root_mean_squared_error: 0.2256 - val_loss: 0.5938 - val_accuracy: 0.2575 - val_root_mean_squared_error: 0.2293 - 7s/epoch - 4ms/step\n",
            "Epoch 82/100\n",
            "1563/1563 - 6s - loss: 0.5896 - accuracy: 0.2588 - root_mean_squared_error: 0.2256 - val_loss: 0.5935 - val_accuracy: 0.2576 - val_root_mean_squared_error: 0.2290 - 6s/epoch - 4ms/step\n",
            "Epoch 83/100\n",
            "1563/1563 - 6s - loss: 0.5898 - accuracy: 0.2586 - root_mean_squared_error: 0.2257 - val_loss: 0.5933 - val_accuracy: 0.2576 - val_root_mean_squared_error: 0.2289 - 6s/epoch - 4ms/step\n",
            "Epoch 84/100\n",
            "1563/1563 - 7s - loss: 0.5897 - accuracy: 0.2588 - root_mean_squared_error: 0.2256 - val_loss: 0.5936 - val_accuracy: 0.2575 - val_root_mean_squared_error: 0.2291 - 7s/epoch - 4ms/step\n",
            "Epoch 85/100\n",
            "1563/1563 - 7s - loss: 0.5895 - accuracy: 0.2588 - root_mean_squared_error: 0.2254 - val_loss: 0.5933 - val_accuracy: 0.2576 - val_root_mean_squared_error: 0.2288 - 7s/epoch - 4ms/step\n",
            "Epoch 86/100\n",
            "1563/1563 - 6s - loss: 0.5896 - accuracy: 0.2589 - root_mean_squared_error: 0.2255 - val_loss: 0.5938 - val_accuracy: 0.2575 - val_root_mean_squared_error: 0.2293 - 6s/epoch - 4ms/step\n",
            "Epoch 87/100\n",
            "1563/1563 - 6s - loss: 0.5896 - accuracy: 0.2589 - root_mean_squared_error: 0.2255 - val_loss: 0.5934 - val_accuracy: 0.2576 - val_root_mean_squared_error: 0.2289 - 6s/epoch - 4ms/step\n",
            "Epoch 88/100\n",
            "1563/1563 - 6s - loss: 0.5896 - accuracy: 0.2589 - root_mean_squared_error: 0.2255 - val_loss: 0.5936 - val_accuracy: 0.2576 - val_root_mean_squared_error: 0.2291 - 6s/epoch - 4ms/step\n",
            "Epoch 89/100\n",
            "1563/1563 - 6s - loss: 0.5897 - accuracy: 0.2589 - root_mean_squared_error: 0.2256 - val_loss: 0.5935 - val_accuracy: 0.2575 - val_root_mean_squared_error: 0.2290 - 6s/epoch - 4ms/step\n",
            "Epoch 90/100\n",
            "1563/1563 - 6s - loss: 0.5896 - accuracy: 0.2589 - root_mean_squared_error: 0.2255 - val_loss: 0.5934 - val_accuracy: 0.2576 - val_root_mean_squared_error: 0.2290 - 6s/epoch - 4ms/step\n",
            "Epoch 91/100\n",
            "1563/1563 - 7s - loss: 0.5896 - accuracy: 0.2589 - root_mean_squared_error: 0.2255 - val_loss: 0.5935 - val_accuracy: 0.2575 - val_root_mean_squared_error: 0.2290 - 7s/epoch - 4ms/step\n",
            "Epoch 92/100\n",
            "1563/1563 - 6s - loss: 0.5896 - accuracy: 0.2590 - root_mean_squared_error: 0.2255 - val_loss: 0.5934 - val_accuracy: 0.2576 - val_root_mean_squared_error: 0.2289 - 6s/epoch - 4ms/step\n",
            "Epoch 93/100\n",
            "1563/1563 - 6s - loss: 0.5895 - accuracy: 0.2589 - root_mean_squared_error: 0.2255 - val_loss: 0.5932 - val_accuracy: 0.2575 - val_root_mean_squared_error: 0.2288 - 6s/epoch - 4ms/step\n",
            "Epoch 94/100\n",
            "1563/1563 - 7s - loss: 0.5895 - accuracy: 0.2589 - root_mean_squared_error: 0.2255 - val_loss: 0.5934 - val_accuracy: 0.2574 - val_root_mean_squared_error: 0.2289 - 7s/epoch - 4ms/step\n",
            "Epoch 95/100\n",
            "1563/1563 - 6s - loss: 0.5894 - accuracy: 0.2590 - root_mean_squared_error: 0.2253 - val_loss: 0.5935 - val_accuracy: 0.2574 - val_root_mean_squared_error: 0.2290 - 6s/epoch - 4ms/step\n",
            "Epoch 96/100\n",
            "1563/1563 - 6s - loss: 0.5895 - accuracy: 0.2589 - root_mean_squared_error: 0.2254 - val_loss: 0.5937 - val_accuracy: 0.2574 - val_root_mean_squared_error: 0.2292 - 6s/epoch - 4ms/step\n",
            "Epoch 97/100\n",
            "1563/1563 - 7s - loss: 0.5894 - accuracy: 0.2591 - root_mean_squared_error: 0.2254 - val_loss: 0.5932 - val_accuracy: 0.2575 - val_root_mean_squared_error: 0.2288 - 7s/epoch - 4ms/step\n",
            "Epoch 98/100\n",
            "1563/1563 - 7s - loss: 0.5895 - accuracy: 0.2590 - root_mean_squared_error: 0.2255 - val_loss: 0.5934 - val_accuracy: 0.2575 - val_root_mean_squared_error: 0.2289 - 7s/epoch - 4ms/step\n",
            "Epoch 99/100\n",
            "1563/1563 - 7s - loss: 0.5894 - accuracy: 0.2589 - root_mean_squared_error: 0.2254 - val_loss: 0.5931 - val_accuracy: 0.2574 - val_root_mean_squared_error: 0.2287 - 7s/epoch - 4ms/step\n",
            "Epoch 100/100\n",
            "1563/1563 - 6s - loss: 0.5895 - accuracy: 0.2589 - root_mean_squared_error: 0.2254 - val_loss: 0.5936 - val_accuracy: 0.2574 - val_root_mean_squared_error: 0.2292 - 6s/epoch - 4ms/step\n",
            "dict_keys(['loss', 'accuracy', 'root_mean_squared_error', 'val_loss', 'val_accuracy', 'val_root_mean_squared_error'])\n"
          ]
        },
        {
          "output_type": "display_data",
          "data": {
            "image/png": "[encoded data removed]",
            "text/plain": [
              "<Figure size 432x288 with 1 Axes>"
            ]
          },
          "metadata": {
            "needs_background": "light"
          }
        },
        {
          "output_type": "display_data",
          "data": {
            "image/png": "[encoded data removed]",
            "text/plain": [
              "<Figure size 432x288 with 1 Axes>"
            ]
          },
          "metadata": {
            "needs_background": "light"
          }
        },
        {
          "output_type": "display_data",
          "data": {
            "image/png": "[encoded data removed]",
            "text/plain": [
              "<Figure size 432x288 with 1 Axes>"
            ]
          },
          "metadata": {
            "needs_background": "light"
          }
        }
      ],
      "source": [
        "history = model.fit(\n",
        "    x=x_train,\n",
        "    y=y_train,\n",
        "    batch_size=512,\n",
        "    epochs=100,\n",
        "    verbose=2,\n",
        "    validation_data=(x_val, y_val),\n",
        ")\n",
        "print(history.history.keys())\n",
        "# summarize history for accuracy\n",
        "plt.plot(history.history['accuracy'])\n",
        "plt.plot(history.history['val_accuracy'])\n",
        "plt.title('model accuracy')\n",
        "plt.ylabel('accuracy')\n",
        "plt.xlabel('epoch')\n",
        "plt.legend(['train', 'test'], loc='upper left')\n",
        "plt.show()\n",
        "# summarize history for loss\n",
        "plt.plot(history.history['loss'])\n",
        "plt.plot(history.history['val_loss'])\n",
        "plt.title('model loss')\n",
        "plt.ylabel('loss')\n",
        "plt.xlabel('epoch')\n",
        "plt.legend(['train', 'test'], loc='upper left')\n",
        "plt.show()\n",
        "# summarize history for loss\n",
        "plt.plot(history.history['root_mean_squared_error'])\n",
        "plt.plot(history.history['val_root_mean_squared_error'])\n",
        "plt.title('model root_mean_squared_error')\n",
        "plt.ylabel('root_mean_squared_error')\n",
        "plt.xlabel('epoch')\n",
        "plt.legend(['train', 'test'], loc='upper left')\n",
        "plt.show()"
      ]
    },
    {
      "cell_type": "code",
      "execution_count": null,
      "metadata": {
        "id": "-2aEjsivTNFB"
      },
      "outputs": [],
      "source": [
        "print(history.history.keys())\n",
        "# summarize history for accuracy\n",
        "plt.plot(history.history['accuracy'])\n",
        "plt.plot(history.history['val_accuracy'])\n",
        "plt.title('model accuracy')\n",
        "plt.ylabel('accuracy')\n",
        "plt.xlabel('epoch')\n",
        "plt.legend(['train', 'test'], loc='upper left')\n",
        "plt.show()\n",
        "# summarize history for loss\n",
        "plt.plot(history.history['loss'])\n",
        "plt.plot(history.history['val_loss'])\n",
        "plt.title('model loss')\n",
        "plt.ylabel('loss')\n",
        "plt.xlabel('epoch')\n",
        "plt.legend(['train', 'test'], loc='upper left')\n",
        "plt.show()\n",
        "# summarize history for loss\n",
        "plt.plot(history.history['root_mean_squared_error'])\n",
        "plt.plot(history.history['val_root_mean_squared_error'])\n",
        "plt.title('model root_mean_squared_error')\n",
        "plt.ylabel('root_mean_squared_error')\n",
        "plt.xlabel('epoch')\n",
        "plt.legend(['train', 'test'], loc='upper left')\n",
        "plt.show()"
      ]
    },
    {
      "cell_type": "code",
      "source": [
        "history = model.fit(\n",
        "    x=x_train,\n",
        "    y=y_train,\n",
        "    batch_size=512,\n",
        "    epochs=100,\n",
        "    verbose=1,\n",
        "    validation_data=(x_val, y_val),\n",
        ")\n",
        "print(history.history.keys())\n",
        "# summarize history for accuracy\n",
        "plt.plot(history.history['accuracy'])\n",
        "plt.plot(history.history['val_accuracy'])\n",
        "plt.title('model accuracy')\n",
        "plt.ylabel('accuracy')\n",
        "plt.xlabel('epoch')\n",
        "plt.legend(['train', 'test'], loc='upper left')\n",
        "plt.show()\n",
        "# summarize history for loss\n",
        "plt.plot(history.history['loss'])\n",
        "plt.plot(history.history['val_loss'])\n",
        "plt.title('model loss')\n",
        "plt.ylabel('loss')\n",
        "plt.xlabel('epoch')\n",
        "plt.legend(['train', 'test'], loc='upper left')\n",
        "plt.show()\n"
      ],
      "metadata": {
        "id": "92rV9VHcdwLk"
      },
      "execution_count": null,
      "outputs": []
    }
  ],
  "metadata": {
    "accelerator": "GPU",
    "colab": {
      "name": "recommender-tf.ipynb",
      "provenance": [],
      "collapsed_sections": [],
      "mount_file_id": "13PUtIc02yNHhD3-G4ltfLz1fk9_Yajoc",
      "authorship_tag": "ABX9TyO35cZOzeRXvRf2jpmfo6ei",
      "include_colab_link": true
    },
    "kernelspec": {
      "display_name": "Python 3",
      "name": "python3"
    },
    "language_info": {
      "name": "python"
    }
  },
  "nbformat": 4,
  "nbformat_minor": 0
}
