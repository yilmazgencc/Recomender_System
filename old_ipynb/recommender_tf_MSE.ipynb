{
  "cells": [
    {
      "cell_type": "markdown",
      "metadata": {
        "id": "view-in-github",
        "colab_type": "text"
      },
      "source": [
        "<a href=\"https://colab.research.google.com/github/yilmazgencc/recomender_system/blob/main/recommender_tf_MSE.ipynb\" target=\"_parent\"><img src=\"https://colab.research.google.com/assets/colab-badge.svg\" alt=\"Open In Colab\"/></a>"
      ]
    },
    {
      "cell_type": "code",
      "execution_count": null,
      "metadata": {
        "id": "PEiRqjESDROU"
      },
      "outputs": [],
      "source": [
        "import pandas as pd\n",
        "import numpy as np\n",
        "from zipfile import ZipFile\n",
        "import tensorflow as tf\n",
        "from tensorflow import keras\n",
        "from tensorflow.keras import layers\n",
        "from pathlib import Path\n",
        "import matplotlib.pyplot as plt\n",
        "import os"
      ]
    },
    {
      "cell_type": "code",
      "execution_count": null,
      "metadata": {
        "colab": {
          "base_uri": "https://localhost:8080/"
        },
        "id": "dBCdKSaUGxaj",
        "outputId": "49287003-ff91-433a-fa70-cc77123811ac"
      },
      "outputs": [
        {
          "output_type": "stream",
          "name": "stdout",
          "text": [
            "Num GPUs Available:  1\n"
          ]
        }
      ],
      "source": [
        "print(\"Num GPUs Available: \", len(tf.config.list_physical_devices('GPU')))\n",
        "#tf.debugging.set_log_device_placement(True)"
      ]
    },
    {
      "cell_type": "code",
      "execution_count": null,
      "metadata": {
        "id": "uEofxZhxFFOK"
      },
      "outputs": [],
      "source": [
        "def dataset_prep(df):\n",
        "    user_ids = df[\"userId\"].unique().tolist()\n",
        "    user2user_encoded = {x: i for i, x in enumerate(user_ids)}\n",
        "    userencoded2user = {i: x for i, x in enumerate(user_ids)}\n",
        "    movie_ids = df[\"movieId\"].unique().tolist()\n",
        "    movie2movie_encoded = {x: i for i, x in enumerate(movie_ids)}\n",
        "    movie_encoded2movie = {i: x for i, x in enumerate(movie_ids)}\n",
        "    df[\"user\"] = df[\"userId\"].map(user2user_encoded)\n",
        "    df[\"movie\"] = df[\"movieId\"].map(movie2movie_encoded)\n",
        "\n",
        "    num_users = len(user2user_encoded)\n",
        "    num_movies = len(movie_encoded2movie)\n",
        "    df[\"rating\"] = df[\"rating\"].values.astype(np.float32)\n",
        "    # min and max ratings will be used to normalize the ratings later\n",
        "    min_rating = min(df[\"rating\"])\n",
        "    max_rating = max(df[\"rating\"])\n",
        "\n",
        "    print(\n",
        "        \"Number of users: {}, Number of Movies: {}, Min rating: {}, Max rating: {}\".format(\n",
        "            num_users, num_movies, min_rating, max_rating\n",
        "        )\n",
        "    )\n",
        "    return num_users, num_movies, df ,min_rating, max_rating"
      ]
    },
    {
      "cell_type": "code",
      "execution_count": null,
      "metadata": {
        "colab": {
          "base_uri": "https://localhost:8080/"
        },
        "id": "vcQfKjKyEkuQ",
        "outputId": "4442809f-c80a-40b8-9add-b6423de3c6bd"
      },
      "outputs": [
        {
          "output_type": "stream",
          "name": "stdout",
          "text": [
            "Number of users: 6040, Number of Movies: 3706, Min rating: 1.0, Max rating: 5.0\n"
          ]
        }
      ],
      "source": [
        "movielens_zipped_file=\"/content/drive/MyDrive/ml-1m.zip\"\n",
        "movielens_dir=movielens_zipped_file[:-4]\n",
        "if not os.path.isdir(movielens_dir):\n",
        "    with ZipFile(movielens_zipped_file, \"r\") as zip:\n",
        "        # Extract files\n",
        "        print(\"Extracting all the files now...\")\n",
        "        zip.extractall(Path(movielens_dir).parents[0])\n",
        "        print(\"Done!\")\n",
        "\n",
        "pd.options.display.max_rows = 10\n",
        "# unames = ['userId', 'gender', 'age', 'occupation', 'zip']\n",
        "# users = pd.read_table(os.path.join(movielens_dir, \"users.dat\"), sep='::', header=None, names=unames, engine='python')\n",
        "rnames = ['userId', 'movieId', 'rating', 'timestamp']\n",
        "df = pd.read_table(os.path.join(movielens_dir, \"ratings.dat\"), sep='::', header=None, names=rnames, engine='python')\n",
        "#ratings\n",
        "# mnames = ['movieId', 'title', 'genres']\n",
        "# movies = pd.read_table(os.path.join(movielens_dir, \"movies.dat\"), sep='::', header=None, names=mnames, engine='python')\n",
        "\n",
        "num_users, num_movies, df, min_rating, max_rating=dataset_prep(df)"
      ]
    },
    {
      "cell_type": "code",
      "execution_count": null,
      "metadata": {
        "id": "5YHyWOTgFRl0"
      },
      "outputs": [],
      "source": [
        "df = df.sample(frac=1, random_state=42)\n",
        "x = df[[\"user\", \"movie\"]].values\n",
        "# Normalize the targets between 0 and 1. Makes it easy to train.\n",
        "y = df[\"rating\"].apply(lambda x: (x - min_rating) / (max_rating - min_rating)).values\n",
        "# Assuming training on 90% of the data and validating on 10%.\n",
        "train_indices = int(0.8 * df.shape[0])\n",
        "x_train, x_val, y_train, y_val = (\n",
        "    x[:train_indices],\n",
        "    x[train_indices:],\n",
        "    y[:train_indices],\n",
        "    y[train_indices:],\n",
        ")"
      ]
    },
    {
      "cell_type": "code",
      "execution_count": null,
      "metadata": {
        "colab": {
          "base_uri": "https://localhost:8080/"
        },
        "id": "ldpG2n7aFVQK",
        "outputId": "e8b30938-ebf7-41e2-9c7f-31ea0f09e3d6"
      },
      "outputs": [
        {
          "output_type": "stream",
          "name": "stderr",
          "text": [
            "/usr/local/lib/python3.7/dist-packages/keras/optimizer_v2/gradient_descent.py:102: UserWarning: The `lr` argument is deprecated, use `learning_rate` instead.\n",
            "  super(SGD, self).__init__(name, **kwargs)\n"
          ]
        }
      ],
      "source": [
        "EMBEDDING_SIZE = 100\n",
        "class RecommenderNet(keras.Model):\n",
        "    def __init__(self, num_users, num_movies, embedding_size, **kwargs):\n",
        "        super(RecommenderNet, self).__init__(**kwargs)\n",
        "        self.num_users = num_users\n",
        "        self.num_movies = num_movies\n",
        "        self.embedding_size = embedding_size\n",
        "        self.user_embedding = layers.Embedding(\n",
        "            num_users,\n",
        "            embedding_size,\n",
        "            embeddings_initializer=\"he_normal\",\n",
        "            embeddings_regularizer=keras.regularizers.l2(1e-6),\n",
        "        )\n",
        "        self.user_bias = layers.Embedding(num_users, 1)\n",
        "        self.movie_embedding = layers.Embedding(\n",
        "            num_movies,\n",
        "            embedding_size,\n",
        "            embeddings_initializer=\"he_normal\",\n",
        "            embeddings_regularizer=keras.regularizers.l2(1e-6),\n",
        "        )\n",
        "        self.movie_bias = layers.Embedding(num_movies, 1)\n",
        "\n",
        "    def call(self, inputs):\n",
        "        user_vector = self.user_embedding(inputs[:, 0])\n",
        "        user_bias = self.user_bias(inputs[:, 0])\n",
        "        movie_vector = self.movie_embedding(inputs[:, 1])\n",
        "        movie_bias = self.movie_bias(inputs[:, 1])\n",
        "        dot_user_movie = tf.tensordot(user_vector, movie_vector, 2)\n",
        "        # Add all the components (including bias)\n",
        "        x = dot_user_movie + user_bias + movie_bias\n",
        "        # The sigmoid activation forces the rating to between 0 and 1\n",
        "        return tf.nn.sigmoid(x)\n",
        "\n",
        "\n",
        "model = RecommenderNet(num_users, num_movies, EMBEDDING_SIZE)\n",
        "model.compile(\n",
        "    loss=tf.keras.losses.MeanSquaredError(), optimizer=keras.optimizers.SGD(lr=0.001) , metrics=['accuracy', 'mse']\n",
        ")"
      ]
    },
    {
      "cell_type": "code",
      "source": [
        "EMBEDDING_SIZE = 100\n",
        "class RecommenderNet_withNN(keras.Model):\n",
        "    def __init__(self, num_users, num_movies, embedding_size, H1, D_out, **kwargs):\n",
        "        super(RecommenderNet, self).__init__(**kwargs)\n",
        "        self.num_users = num_users\n",
        "        self.num_movies = num_movies\n",
        "        self.embedding_size = embedding_size\n",
        "        self.user_embedding = layers.Embedding(\n",
        "            num_users,\n",
        "            embedding_size,\n",
        "            embeddings_initializer=\"he_normal\",\n",
        "            embeddings_regularizer=keras.regularizers.l2(1e-6),\n",
        "        )\n",
        "        self.user_bias = layers.Embedding(num_users, 1)\n",
        "        self.movie_embedding = layers.Embedding(\n",
        "            num_movies,\n",
        "            embedding_size,\n",
        "            embeddings_initializer=\"he_normal\",\n",
        "            embeddings_regularizer=keras.regularizers.l2(1e-6),\n",
        "        )\n",
        "        self.movie_bias = layers.Embedding(num_movies, 1)\n",
        "\n",
        "        #linear layer adding\n",
        "\n",
        "        self.linear1=layers.Dense(embedding_size*2, H1)\n",
        "        self.linear2=layers.Dense(H1, D_out)\n",
        "\n",
        "    def call(self, inputs):\n",
        "        user_vector = self.user_embedding(inputs[:, 0])\n",
        "        user_bias = self.user_bias(inputs[:, 0])\n",
        "        movie_vector = self.movie_embedding(inputs[:, 1])\n",
        "        movie_bias = self.movie_bias(inputs[:, 1])\n",
        "        dot_user_movie = tf.tensordot(user_vector, movie_vector, 2)\n",
        "        # Add all the components (including bias)\n",
        "        x = dot_user_movie + user_bias + movie_bias\n",
        "        # The sigmoid activation forces the rating to between 0 and 1\n",
        "        return tf.nn.sigmoid(x)\n",
        "\n",
        "\n",
        "model = RecommenderNet(num_users, num_movies, EMBEDDING_SIZE)\n",
        "model.compile(\n",
        "    loss=tf.keras.losses.MeanSquaredError(), optimizer=keras.optimizers.Adam(lr=0.0001) , metrics=['accuracy', tf.keras.metrics.RootMeanSquaredError()]\n",
        ")"
      ],
      "metadata": {
        "colab": {
          "base_uri": "https://localhost:8080/"
        },
        "id": "a_XZ51IrigpB",
        "outputId": "9bb28462-4a3c-48d1-fb12-c24f0f2f7f21"
      },
      "execution_count": null,
      "outputs": [
        {
          "output_type": "stream",
          "name": "stderr",
          "text": [
            "/usr/local/lib/python3.7/dist-packages/keras/optimizer_v2/adam.py:105: UserWarning: The `lr` argument is deprecated, use `learning_rate` instead.\n",
            "  super(Adam, self).__init__(name, **kwargs)\n"
          ]
        }
      ]
    },
    {
      "cell_type": "code",
      "execution_count": null,
      "metadata": {
        "colab": {
          "base_uri": "https://localhost:8080/"
        },
        "id": "E-2Qyd3_FdLM",
        "outputId": "dfea1d3e-5da6-4108-87ab-ab65d3ef0dba"
      },
      "outputs": [
        {
          "output_type": "stream",
          "name": "stdout",
          "text": [
            "Epoch 1/100\n",
            "1563/1563 [==============================] - 16s 6ms/step - loss: 0.0888 - accuracy: 0.1979 - root_mean_squared_error: 0.2973 - val_loss: 0.0763 - val_accuracy: 0.2262 - val_root_mean_squared_error: 0.2756\n",
            "Epoch 2/100\n",
            "1563/1563 [==============================] - 7s 5ms/step - loss: 0.0755 - accuracy: 0.2263 - root_mean_squared_error: 0.2741 - val_loss: 0.0813 - val_accuracy: 0.2319 - val_root_mean_squared_error: 0.2845\n",
            "Epoch 3/100\n",
            "1563/1563 [==============================] - 7s 4ms/step - loss: 0.0725 - accuracy: 0.2263 - root_mean_squared_error: 0.2686 - val_loss: 0.0763 - val_accuracy: 0.2330 - val_root_mean_squared_error: 0.2755\n",
            "Epoch 4/100\n",
            "1563/1563 [==============================] - 7s 4ms/step - loss: 0.0702 - accuracy: 0.2264 - root_mean_squared_error: 0.2643 - val_loss: 0.0739 - val_accuracy: 0.2379 - val_root_mean_squared_error: 0.2712\n",
            "Epoch 5/100\n",
            "1563/1563 [==============================] - 7s 5ms/step - loss: 0.0683 - accuracy: 0.2271 - root_mean_squared_error: 0.2605 - val_loss: 0.0725 - val_accuracy: 0.2438 - val_root_mean_squared_error: 0.2685\n",
            "Epoch 6/100\n",
            "1563/1563 [==============================] - 7s 4ms/step - loss: 0.0665 - accuracy: 0.2286 - root_mean_squared_error: 0.2571 - val_loss: 0.0702 - val_accuracy: 0.2464 - val_root_mean_squared_error: 0.2643\n",
            "Epoch 7/100\n",
            "1563/1563 [==============================] - 7s 5ms/step - loss: 0.0649 - accuracy: 0.2310 - root_mean_squared_error: 0.2540 - val_loss: 0.0688 - val_accuracy: 0.2490 - val_root_mean_squared_error: 0.2616\n",
            "Epoch 8/100\n",
            "1563/1563 [==============================] - 7s 4ms/step - loss: 0.0636 - accuracy: 0.2343 - root_mean_squared_error: 0.2514 - val_loss: 0.0665 - val_accuracy: 0.2491 - val_root_mean_squared_error: 0.2572\n",
            "Epoch 9/100\n",
            "1563/1563 [==============================] - 7s 5ms/step - loss: 0.0624 - accuracy: 0.2371 - root_mean_squared_error: 0.2490 - val_loss: 0.0658 - val_accuracy: 0.2511 - val_root_mean_squared_error: 0.2557\n",
            "Epoch 10/100\n",
            "1563/1563 [==============================] - 7s 4ms/step - loss: 0.0613 - accuracy: 0.2401 - root_mean_squared_error: 0.2468 - val_loss: 0.0642 - val_accuracy: 0.2516 - val_root_mean_squared_error: 0.2525\n",
            "Epoch 11/100\n",
            "1563/1563 [==============================] - 8s 5ms/step - loss: 0.0604 - accuracy: 0.2425 - root_mean_squared_error: 0.2449 - val_loss: 0.0639 - val_accuracy: 0.2528 - val_root_mean_squared_error: 0.2521\n",
            "Epoch 12/100\n",
            "1563/1563 [==============================] - 7s 5ms/step - loss: 0.0596 - accuracy: 0.2449 - root_mean_squared_error: 0.2432 - val_loss: 0.0623 - val_accuracy: 0.2528 - val_root_mean_squared_error: 0.2488\n",
            "Epoch 13/100\n",
            "1563/1563 [==============================] - 7s 5ms/step - loss: 0.0588 - accuracy: 0.2464 - root_mean_squared_error: 0.2418 - val_loss: 0.0616 - val_accuracy: 0.2534 - val_root_mean_squared_error: 0.2475\n",
            "Epoch 14/100\n",
            "1563/1563 [==============================] - 9s 6ms/step - loss: 0.0582 - accuracy: 0.2479 - root_mean_squared_error: 0.2405 - val_loss: 0.0616 - val_accuracy: 0.2537 - val_root_mean_squared_error: 0.2474\n",
            "Epoch 15/100\n",
            "1563/1563 [==============================] - 7s 4ms/step - loss: 0.0576 - accuracy: 0.2492 - root_mean_squared_error: 0.2392 - val_loss: 0.0606 - val_accuracy: 0.2539 - val_root_mean_squared_error: 0.2453\n",
            "Epoch 16/100\n",
            "1563/1563 [==============================] - 7s 5ms/step - loss: 0.0571 - accuracy: 0.2505 - root_mean_squared_error: 0.2382 - val_loss: 0.0596 - val_accuracy: 0.2542 - val_root_mean_squared_error: 0.2433\n",
            "Epoch 17/100\n",
            "1563/1563 [==============================] - 7s 5ms/step - loss: 0.0567 - accuracy: 0.2512 - root_mean_squared_error: 0.2372 - val_loss: 0.0592 - val_accuracy: 0.2545 - val_root_mean_squared_error: 0.2426\n",
            "Epoch 18/100\n",
            "1563/1563 [==============================] - 7s 4ms/step - loss: 0.0563 - accuracy: 0.2518 - root_mean_squared_error: 0.2364 - val_loss: 0.0585 - val_accuracy: 0.2548 - val_root_mean_squared_error: 0.2410\n",
            "Epoch 19/100\n",
            "1563/1563 [==============================] - 7s 5ms/step - loss: 0.0559 - accuracy: 0.2525 - root_mean_squared_error: 0.2357 - val_loss: 0.0588 - val_accuracy: 0.2547 - val_root_mean_squared_error: 0.2416\n",
            "Epoch 20/100\n",
            "1563/1563 [==============================] - 7s 5ms/step - loss: 0.0556 - accuracy: 0.2532 - root_mean_squared_error: 0.2349 - val_loss: 0.0575 - val_accuracy: 0.2550 - val_root_mean_squared_error: 0.2390\n",
            "Epoch 21/100\n",
            "1563/1563 [==============================] - 7s 4ms/step - loss: 0.0552 - accuracy: 0.2537 - root_mean_squared_error: 0.2342 - val_loss: 0.0571 - val_accuracy: 0.2553 - val_root_mean_squared_error: 0.2382\n",
            "Epoch 22/100\n",
            "1563/1563 [==============================] - 7s 4ms/step - loss: 0.0550 - accuracy: 0.2541 - root_mean_squared_error: 0.2337 - val_loss: 0.0570 - val_accuracy: 0.2552 - val_root_mean_squared_error: 0.2380\n",
            "Epoch 23/100\n",
            "1563/1563 [==============================] - 7s 5ms/step - loss: 0.0547 - accuracy: 0.2547 - root_mean_squared_error: 0.2330 - val_loss: 0.0564 - val_accuracy: 0.2555 - val_root_mean_squared_error: 0.2367\n",
            "Epoch 24/100\n",
            "1563/1563 [==============================] - 7s 4ms/step - loss: 0.0544 - accuracy: 0.2550 - root_mean_squared_error: 0.2325 - val_loss: 0.0562 - val_accuracy: 0.2556 - val_root_mean_squared_error: 0.2363\n",
            "Epoch 25/100\n",
            "1563/1563 [==============================] - 7s 4ms/step - loss: 0.0543 - accuracy: 0.2551 - root_mean_squared_error: 0.2323 - val_loss: 0.0565 - val_accuracy: 0.2557 - val_root_mean_squared_error: 0.2370\n",
            "Epoch 26/100\n",
            "1563/1563 [==============================] - 7s 5ms/step - loss: 0.0541 - accuracy: 0.2555 - root_mean_squared_error: 0.2317 - val_loss: 0.0557 - val_accuracy: 0.2559 - val_root_mean_squared_error: 0.2351\n",
            "Epoch 27/100\n",
            "1563/1563 [==============================] - 7s 4ms/step - loss: 0.0539 - accuracy: 0.2558 - root_mean_squared_error: 0.2313 - val_loss: 0.0557 - val_accuracy: 0.2559 - val_root_mean_squared_error: 0.2351\n",
            "Epoch 28/100\n",
            "1563/1563 [==============================] - 7s 4ms/step - loss: 0.0537 - accuracy: 0.2560 - root_mean_squared_error: 0.2309 - val_loss: 0.0557 - val_accuracy: 0.2560 - val_root_mean_squared_error: 0.2352\n",
            "Epoch 29/100\n",
            "1563/1563 [==============================] - 8s 5ms/step - loss: 0.0536 - accuracy: 0.2561 - root_mean_squared_error: 0.2306 - val_loss: 0.0554 - val_accuracy: 0.2559 - val_root_mean_squared_error: 0.2345\n",
            "Epoch 30/100\n",
            "1563/1563 [==============================] - 7s 4ms/step - loss: 0.0534 - accuracy: 0.2564 - root_mean_squared_error: 0.2303 - val_loss: 0.0551 - val_accuracy: 0.2562 - val_root_mean_squared_error: 0.2339\n",
            "Epoch 31/100\n",
            "1563/1563 [==============================] - 7s 5ms/step - loss: 0.0533 - accuracy: 0.2565 - root_mean_squared_error: 0.2299 - val_loss: 0.0551 - val_accuracy: 0.2562 - val_root_mean_squared_error: 0.2339\n",
            "Epoch 32/100\n",
            "1563/1563 [==============================] - 7s 4ms/step - loss: 0.0532 - accuracy: 0.2568 - root_mean_squared_error: 0.2297 - val_loss: 0.0547 - val_accuracy: 0.2563 - val_root_mean_squared_error: 0.2330\n",
            "Epoch 33/100\n",
            "1563/1563 [==============================] - 7s 5ms/step - loss: 0.0531 - accuracy: 0.2567 - root_mean_squared_error: 0.2296 - val_loss: 0.0548 - val_accuracy: 0.2564 - val_root_mean_squared_error: 0.2333\n",
            "Epoch 34/100\n",
            "1563/1563 [==============================] - 7s 5ms/step - loss: 0.0530 - accuracy: 0.2570 - root_mean_squared_error: 0.2293 - val_loss: 0.0544 - val_accuracy: 0.2563 - val_root_mean_squared_error: 0.2324\n",
            "Epoch 35/100\n",
            "1563/1563 [==============================] - 7s 5ms/step - loss: 0.0528 - accuracy: 0.2571 - root_mean_squared_error: 0.2290 - val_loss: 0.0545 - val_accuracy: 0.2564 - val_root_mean_squared_error: 0.2327\n",
            "Epoch 36/100\n",
            "1563/1563 [==============================] - 7s 4ms/step - loss: 0.0527 - accuracy: 0.2571 - root_mean_squared_error: 0.2289 - val_loss: 0.0541 - val_accuracy: 0.2567 - val_root_mean_squared_error: 0.2318\n",
            "Epoch 37/100\n",
            "1563/1563 [==============================] - 7s 5ms/step - loss: 0.0526 - accuracy: 0.2574 - root_mean_squared_error: 0.2285 - val_loss: 0.0540 - val_accuracy: 0.2565 - val_root_mean_squared_error: 0.2316\n",
            "Epoch 38/100\n",
            "1563/1563 [==============================] - 7s 4ms/step - loss: 0.0525 - accuracy: 0.2574 - root_mean_squared_error: 0.2284 - val_loss: 0.0539 - val_accuracy: 0.2566 - val_root_mean_squared_error: 0.2314\n",
            "Epoch 39/100\n",
            "1563/1563 [==============================] - 7s 4ms/step - loss: 0.0525 - accuracy: 0.2576 - root_mean_squared_error: 0.2283 - val_loss: 0.0539 - val_accuracy: 0.2567 - val_root_mean_squared_error: 0.2313\n",
            "Epoch 40/100\n",
            "1563/1563 [==============================] - 7s 4ms/step - loss: 0.0524 - accuracy: 0.2577 - root_mean_squared_error: 0.2281 - val_loss: 0.0537 - val_accuracy: 0.2568 - val_root_mean_squared_error: 0.2308\n",
            "Epoch 41/100\n",
            "1563/1563 [==============================] - 7s 4ms/step - loss: 0.0523 - accuracy: 0.2577 - root_mean_squared_error: 0.2279 - val_loss: 0.0538 - val_accuracy: 0.2568 - val_root_mean_squared_error: 0.2313\n",
            "Epoch 42/100\n",
            "1563/1563 [==============================] - 7s 5ms/step - loss: 0.0522 - accuracy: 0.2579 - root_mean_squared_error: 0.2277 - val_loss: 0.0536 - val_accuracy: 0.2569 - val_root_mean_squared_error: 0.2308\n",
            "Epoch 43/100\n",
            "1563/1563 [==============================] - 7s 4ms/step - loss: 0.0522 - accuracy: 0.2579 - root_mean_squared_error: 0.2276 - val_loss: 0.0537 - val_accuracy: 0.2569 - val_root_mean_squared_error: 0.2310\n",
            "Epoch 44/100\n",
            "1563/1563 [==============================] - 7s 5ms/step - loss: 0.0521 - accuracy: 0.2580 - root_mean_squared_error: 0.2275 - val_loss: 0.0535 - val_accuracy: 0.2570 - val_root_mean_squared_error: 0.2305\n",
            "Epoch 45/100\n",
            "1563/1563 [==============================] - 7s 4ms/step - loss: 0.0520 - accuracy: 0.2581 - root_mean_squared_error: 0.2273 - val_loss: 0.0535 - val_accuracy: 0.2569 - val_root_mean_squared_error: 0.2305\n",
            "Epoch 46/100\n",
            "1563/1563 [==============================] - 7s 5ms/step - loss: 0.0520 - accuracy: 0.2581 - root_mean_squared_error: 0.2272 - val_loss: 0.0536 - val_accuracy: 0.2570 - val_root_mean_squared_error: 0.2307\n",
            "Epoch 47/100\n",
            "1563/1563 [==============================] - 7s 4ms/step - loss: 0.0519 - accuracy: 0.2582 - root_mean_squared_error: 0.2271 - val_loss: 0.0535 - val_accuracy: 0.2571 - val_root_mean_squared_error: 0.2305\n",
            "Epoch 48/100\n",
            "1563/1563 [==============================] - 7s 5ms/step - loss: 0.0519 - accuracy: 0.2582 - root_mean_squared_error: 0.2269 - val_loss: 0.0534 - val_accuracy: 0.2572 - val_root_mean_squared_error: 0.2303\n",
            "Epoch 49/100\n",
            "1563/1563 [==============================] - 8s 5ms/step - loss: 0.0518 - accuracy: 0.2583 - root_mean_squared_error: 0.2269 - val_loss: 0.0532 - val_accuracy: 0.2571 - val_root_mean_squared_error: 0.2299\n",
            "Epoch 50/100\n",
            "1563/1563 [==============================] - 8s 5ms/step - loss: 0.0518 - accuracy: 0.2584 - root_mean_squared_error: 0.2268 - val_loss: 0.0532 - val_accuracy: 0.2571 - val_root_mean_squared_error: 0.2299\n",
            "Epoch 51/100\n",
            "1563/1563 [==============================] - 7s 4ms/step - loss: 0.0518 - accuracy: 0.2584 - root_mean_squared_error: 0.2267 - val_loss: 0.0532 - val_accuracy: 0.2572 - val_root_mean_squared_error: 0.2299\n",
            "Epoch 52/100\n",
            "1563/1563 [==============================] - 7s 5ms/step - loss: 0.0517 - accuracy: 0.2585 - root_mean_squared_error: 0.2266 - val_loss: 0.0530 - val_accuracy: 0.2573 - val_root_mean_squared_error: 0.2295\n",
            "Epoch 53/100\n",
            "1563/1563 [==============================] - 7s 5ms/step - loss: 0.0517 - accuracy: 0.2585 - root_mean_squared_error: 0.2265 - val_loss: 0.0531 - val_accuracy: 0.2573 - val_root_mean_squared_error: 0.2297\n",
            "Epoch 54/100\n",
            "1563/1563 [==============================] - 7s 5ms/step - loss: 0.0516 - accuracy: 0.2584 - root_mean_squared_error: 0.2265 - val_loss: 0.0531 - val_accuracy: 0.2572 - val_root_mean_squared_error: 0.2296\n",
            "Epoch 55/100\n",
            "1563/1563 [==============================] - 7s 5ms/step - loss: 0.0516 - accuracy: 0.2585 - root_mean_squared_error: 0.2264 - val_loss: 0.0530 - val_accuracy: 0.2573 - val_root_mean_squared_error: 0.2294\n",
            "Epoch 56/100\n",
            "1563/1563 [==============================] - 7s 5ms/step - loss: 0.0515 - accuracy: 0.2586 - root_mean_squared_error: 0.2263 - val_loss: 0.0530 - val_accuracy: 0.2573 - val_root_mean_squared_error: 0.2294\n",
            "Epoch 57/100\n",
            "1563/1563 [==============================] - 7s 5ms/step - loss: 0.0515 - accuracy: 0.2587 - root_mean_squared_error: 0.2262 - val_loss: 0.0528 - val_accuracy: 0.2575 - val_root_mean_squared_error: 0.2291\n",
            "Epoch 58/100\n",
            "1563/1563 [==============================] - 7s 5ms/step - loss: 0.0515 - accuracy: 0.2588 - root_mean_squared_error: 0.2262 - val_loss: 0.0529 - val_accuracy: 0.2575 - val_root_mean_squared_error: 0.2293\n",
            "Epoch 59/100\n",
            "1563/1563 [==============================] - 7s 4ms/step - loss: 0.0515 - accuracy: 0.2587 - root_mean_squared_error: 0.2261 - val_loss: 0.0528 - val_accuracy: 0.2576 - val_root_mean_squared_error: 0.2290\n",
            "Epoch 60/100\n",
            "1563/1563 [==============================] - 7s 5ms/step - loss: 0.0514 - accuracy: 0.2587 - root_mean_squared_error: 0.2260 - val_loss: 0.0528 - val_accuracy: 0.2577 - val_root_mean_squared_error: 0.2290\n",
            "Epoch 61/100\n",
            "1563/1563 [==============================] - 7s 4ms/step - loss: 0.0514 - accuracy: 0.2589 - root_mean_squared_error: 0.2259 - val_loss: 0.0529 - val_accuracy: 0.2576 - val_root_mean_squared_error: 0.2292\n",
            "Epoch 62/100\n",
            "1563/1563 [==============================] - 7s 4ms/step - loss: 0.0513 - accuracy: 0.2589 - root_mean_squared_error: 0.2258 - val_loss: 0.0526 - val_accuracy: 0.2577 - val_root_mean_squared_error: 0.2286\n",
            "Epoch 63/100\n",
            "1563/1563 [==============================] - 7s 5ms/step - loss: 0.0513 - accuracy: 0.2588 - root_mean_squared_error: 0.2258 - val_loss: 0.0527 - val_accuracy: 0.2578 - val_root_mean_squared_error: 0.2288\n",
            "Epoch 64/100\n",
            "1563/1563 [==============================] - 7s 4ms/step - loss: 0.0513 - accuracy: 0.2588 - root_mean_squared_error: 0.2258 - val_loss: 0.0529 - val_accuracy: 0.2576 - val_root_mean_squared_error: 0.2292\n",
            "Epoch 65/100\n",
            "1563/1563 [==============================] - 7s 4ms/step - loss: 0.0513 - accuracy: 0.2589 - root_mean_squared_error: 0.2257 - val_loss: 0.0528 - val_accuracy: 0.2577 - val_root_mean_squared_error: 0.2289\n",
            "Epoch 66/100\n",
            "1563/1563 [==============================] - 7s 4ms/step - loss: 0.0512 - accuracy: 0.2590 - root_mean_squared_error: 0.2256 - val_loss: 0.0526 - val_accuracy: 0.2578 - val_root_mean_squared_error: 0.2286\n",
            "Epoch 67/100\n",
            "1563/1563 [==============================] - 7s 4ms/step - loss: 0.0512 - accuracy: 0.2590 - root_mean_squared_error: 0.2256 - val_loss: 0.0528 - val_accuracy: 0.2578 - val_root_mean_squared_error: 0.2289\n",
            "Epoch 68/100\n",
            "1563/1563 [==============================] - 7s 5ms/step - loss: 0.0512 - accuracy: 0.2591 - root_mean_squared_error: 0.2255 - val_loss: 0.0526 - val_accuracy: 0.2578 - val_root_mean_squared_error: 0.2286\n",
            "Epoch 69/100\n",
            "1563/1563 [==============================] - 7s 4ms/step - loss: 0.0512 - accuracy: 0.2591 - root_mean_squared_error: 0.2255 - val_loss: 0.0527 - val_accuracy: 0.2577 - val_root_mean_squared_error: 0.2289\n",
            "Epoch 70/100\n",
            "1563/1563 [==============================] - 7s 4ms/step - loss: 0.0512 - accuracy: 0.2591 - root_mean_squared_error: 0.2255 - val_loss: 0.0526 - val_accuracy: 0.2578 - val_root_mean_squared_error: 0.2286\n",
            "Epoch 71/100\n",
            "1563/1563 [==============================] - 7s 4ms/step - loss: 0.0512 - accuracy: 0.2590 - root_mean_squared_error: 0.2255 - val_loss: 0.0527 - val_accuracy: 0.2578 - val_root_mean_squared_error: 0.2288\n",
            "Epoch 72/100\n",
            "1563/1563 [==============================] - 7s 4ms/step - loss: 0.0512 - accuracy: 0.2590 - root_mean_squared_error: 0.2254 - val_loss: 0.0525 - val_accuracy: 0.2577 - val_root_mean_squared_error: 0.2284\n",
            "Epoch 73/100\n",
            "1563/1563 [==============================] - 7s 4ms/step - loss: 0.0511 - accuracy: 0.2591 - root_mean_squared_error: 0.2254 - val_loss: 0.0526 - val_accuracy: 0.2577 - val_root_mean_squared_error: 0.2286\n",
            "Epoch 74/100\n",
            "1563/1563 [==============================] - 7s 5ms/step - loss: 0.0511 - accuracy: 0.2592 - root_mean_squared_error: 0.2253 - val_loss: 0.0526 - val_accuracy: 0.2578 - val_root_mean_squared_error: 0.2286\n",
            "Epoch 75/100\n",
            "1563/1563 [==============================] - 7s 4ms/step - loss: 0.0511 - accuracy: 0.2593 - root_mean_squared_error: 0.2253 - val_loss: 0.0525 - val_accuracy: 0.2578 - val_root_mean_squared_error: 0.2284\n",
            "Epoch 76/100\n",
            "1563/1563 [==============================] - 7s 4ms/step - loss: 0.0511 - accuracy: 0.2593 - root_mean_squared_error: 0.2253 - val_loss: 0.0525 - val_accuracy: 0.2578 - val_root_mean_squared_error: 0.2283\n",
            "Epoch 77/100\n",
            "1563/1563 [==============================] - 7s 5ms/step - loss: 0.0511 - accuracy: 0.2592 - root_mean_squared_error: 0.2253 - val_loss: 0.0526 - val_accuracy: 0.2578 - val_root_mean_squared_error: 0.2285\n",
            "Epoch 78/100\n",
            "1563/1563 [==============================] - 7s 5ms/step - loss: 0.0511 - accuracy: 0.2592 - root_mean_squared_error: 0.2253 - val_loss: 0.0524 - val_accuracy: 0.2578 - val_root_mean_squared_error: 0.2283\n",
            "Epoch 79/100\n",
            "1563/1563 [==============================] - 7s 5ms/step - loss: 0.0510 - accuracy: 0.2592 - root_mean_squared_error: 0.2252 - val_loss: 0.0525 - val_accuracy: 0.2578 - val_root_mean_squared_error: 0.2283\n",
            "Epoch 80/100\n",
            "1563/1563 [==============================] - 7s 5ms/step - loss: 0.0510 - accuracy: 0.2594 - root_mean_squared_error: 0.2252 - val_loss: 0.0523 - val_accuracy: 0.2578 - val_root_mean_squared_error: 0.2279\n",
            "Epoch 81/100\n",
            "1563/1563 [==============================] - 7s 4ms/step - loss: 0.0510 - accuracy: 0.2593 - root_mean_squared_error: 0.2251 - val_loss: 0.0524 - val_accuracy: 0.2577 - val_root_mean_squared_error: 0.2282\n",
            "Epoch 82/100\n",
            "1563/1563 [==============================] - 7s 4ms/step - loss: 0.0510 - accuracy: 0.2592 - root_mean_squared_error: 0.2251 - val_loss: 0.0524 - val_accuracy: 0.2579 - val_root_mean_squared_error: 0.2282\n",
            "Epoch 83/100\n",
            "1563/1563 [==============================] - 7s 5ms/step - loss: 0.0510 - accuracy: 0.2594 - root_mean_squared_error: 0.2251 - val_loss: 0.0523 - val_accuracy: 0.2578 - val_root_mean_squared_error: 0.2280\n",
            "Epoch 84/100\n",
            "1563/1563 [==============================] - 7s 5ms/step - loss: 0.0510 - accuracy: 0.2593 - root_mean_squared_error: 0.2251 - val_loss: 0.0524 - val_accuracy: 0.2578 - val_root_mean_squared_error: 0.2282\n",
            "Epoch 85/100\n",
            "1563/1563 [==============================] - 7s 5ms/step - loss: 0.0509 - accuracy: 0.2594 - root_mean_squared_error: 0.2250 - val_loss: 0.0525 - val_accuracy: 0.2578 - val_root_mean_squared_error: 0.2284\n",
            "Epoch 86/100\n",
            "1563/1563 [==============================] - 7s 5ms/step - loss: 0.0509 - accuracy: 0.2593 - root_mean_squared_error: 0.2250 - val_loss: 0.0523 - val_accuracy: 0.2579 - val_root_mean_squared_error: 0.2280\n",
            "Epoch 87/100\n",
            "1563/1563 [==============================] - 7s 5ms/step - loss: 0.0509 - accuracy: 0.2593 - root_mean_squared_error: 0.2250 - val_loss: 0.0524 - val_accuracy: 0.2579 - val_root_mean_squared_error: 0.2282\n",
            "Epoch 88/100\n",
            "1563/1563 [==============================] - 7s 4ms/step - loss: 0.0509 - accuracy: 0.2594 - root_mean_squared_error: 0.2250 - val_loss: 0.0522 - val_accuracy: 0.2580 - val_root_mean_squared_error: 0.2278\n",
            "Epoch 89/100\n",
            "1563/1563 [==============================] - 7s 5ms/step - loss: 0.0509 - accuracy: 0.2595 - root_mean_squared_error: 0.2249 - val_loss: 0.0524 - val_accuracy: 0.2580 - val_root_mean_squared_error: 0.2281\n",
            "Epoch 90/100\n",
            "1563/1563 [==============================] - 7s 4ms/step - loss: 0.0509 - accuracy: 0.2594 - root_mean_squared_error: 0.2248 - val_loss: 0.0522 - val_accuracy: 0.2580 - val_root_mean_squared_error: 0.2279\n",
            "Epoch 91/100\n",
            "1563/1563 [==============================] - 7s 5ms/step - loss: 0.0509 - accuracy: 0.2594 - root_mean_squared_error: 0.2249 - val_loss: 0.0523 - val_accuracy: 0.2579 - val_root_mean_squared_error: 0.2280\n",
            "Epoch 92/100\n",
            "1563/1563 [==============================] - 7s 4ms/step - loss: 0.0509 - accuracy: 0.2595 - root_mean_squared_error: 0.2248 - val_loss: 0.0523 - val_accuracy: 0.2580 - val_root_mean_squared_error: 0.2280\n",
            "Epoch 93/100\n",
            "1563/1563 [==============================] - 7s 5ms/step - loss: 0.0509 - accuracy: 0.2595 - root_mean_squared_error: 0.2248 - val_loss: 0.0523 - val_accuracy: 0.2580 - val_root_mean_squared_error: 0.2280\n",
            "Epoch 94/100\n",
            "1563/1563 [==============================] - 7s 4ms/step - loss: 0.0508 - accuracy: 0.2595 - root_mean_squared_error: 0.2248 - val_loss: 0.0522 - val_accuracy: 0.2580 - val_root_mean_squared_error: 0.2279\n",
            "Epoch 95/100\n",
            "1563/1563 [==============================] - 7s 5ms/step - loss: 0.0508 - accuracy: 0.2595 - root_mean_squared_error: 0.2247 - val_loss: 0.0523 - val_accuracy: 0.2579 - val_root_mean_squared_error: 0.2281\n",
            "Epoch 96/100\n",
            "1563/1563 [==============================] - 7s 5ms/step - loss: 0.0508 - accuracy: 0.2594 - root_mean_squared_error: 0.2248 - val_loss: 0.0523 - val_accuracy: 0.2579 - val_root_mean_squared_error: 0.2280\n",
            "Epoch 97/100\n",
            "1563/1563 [==============================] - 7s 5ms/step - loss: 0.0508 - accuracy: 0.2596 - root_mean_squared_error: 0.2248 - val_loss: 0.0524 - val_accuracy: 0.2579 - val_root_mean_squared_error: 0.2282\n",
            "Epoch 98/100\n",
            "1563/1563 [==============================] - 8s 5ms/step - loss: 0.0508 - accuracy: 0.2596 - root_mean_squared_error: 0.2247 - val_loss: 0.0523 - val_accuracy: 0.2579 - val_root_mean_squared_error: 0.2280\n",
            "Epoch 99/100\n",
            "1563/1563 [==============================] - 7s 4ms/step - loss: 0.0508 - accuracy: 0.2596 - root_mean_squared_error: 0.2247 - val_loss: 0.0523 - val_accuracy: 0.2579 - val_root_mean_squared_error: 0.2280\n",
            "Epoch 100/100\n",
            "1563/1563 [==============================] - 7s 4ms/step - loss: 0.0508 - accuracy: 0.2595 - root_mean_squared_error: 0.2247 - val_loss: 0.0524 - val_accuracy: 0.2580 - val_root_mean_squared_error: 0.2281\n"
          ]
        }
      ],
      "source": [
        "history = model.fit(\n",
        "    x=x_train,\n",
        "    y=y_train,\n",
        "    batch_size=512,\n",
        "    epochs=100,\n",
        "    verbose=1,\n",
        "    validation_data=(x_val, y_val),\n",
        ")\n"
      ]
    },
    {
      "cell_type": "code",
      "execution_count": null,
      "metadata": {
        "id": "-2aEjsivTNFB",
        "colab": {
          "base_uri": "https://localhost:8080/",
          "height": 869
        },
        "outputId": "7ca8d4fa-aef4-47d3-b75a-ed07af139ddc"
      },
      "outputs": [
        {
          "output_type": "stream",
          "name": "stdout",
          "text": [
            "dict_keys(['loss', 'accuracy', 'root_mean_squared_error', 'val_loss', 'val_accuracy', 'val_root_mean_squared_error'])\n"
          ]
        },
        {
          "output_type": "display_data",
          "data": {
            "image/png": "[encoded data removed]",
            "text/plain": [
              "<Figure size 432x288 with 1 Axes>"
            ]
          },
          "metadata": {
            "needs_background": "light"
          }
        },
        {
          "output_type": "display_data",
          "data": {
            "image/png": "[encoded data removed]",
            "text/plain": [
              "<Figure size 432x288 with 1 Axes>"
            ]
          },
          "metadata": {
            "needs_background": "light"
          }
        },
        {
          "output_type": "display_data",
          "data": {
            "image/png": "[encoded data removed]",
            "text/plain": [
              "<Figure size 432x288 with 1 Axes>"
            ]
          },
          "metadata": {
            "needs_background": "light"
          }
        }
      ],
      "source": [
        "print(history.history.keys())\n",
        "# summarize history for accuracy\n",
        "plt.plot(history.history['accuracy'])\n",
        "plt.plot(history.history['val_accuracy'])\n",
        "plt.title('model accuracy')\n",
        "plt.ylabel('accuracy')\n",
        "plt.xlabel('epoch')\n",
        "plt.legend(['train', 'test'], loc='upper left')\n",
        "plt.show()\n",
        "# summarize history for loss\n",
        "plt.plot(history.history['loss'])\n",
        "plt.plot(history.history['val_loss'])\n",
        "plt.title('model loss')\n",
        "plt.ylabel('loss')\n",
        "plt.xlabel('epoch')\n",
        "plt.legend(['train', 'test'], loc='upper left')\n",
        "plt.show()\n",
        "# summarize history for loss\n",
        "plt.plot(history.history['root_mean_squared_error'])\n",
        "plt.plot(history.history['val_root_mean_squared_error'])\n",
        "plt.title('model root_mean_squared_error')\n",
        "plt.ylabel('root_mean_squared_error')\n",
        "plt.xlabel('epoch')\n",
        "plt.legend(['train', 'test'], loc='upper left')\n",
        "plt.show()"
      ]
    },
    {
      "cell_type": "code",
      "source": [
        "history = model.fit(\n",
        "    x=x_train,\n",
        "    y=y_train,\n",
        "    batch_size=512,\n",
        "    epochs=100,\n",
        "    verbose=1,\n",
        "    validation_data=(x_val, y_val),\n",
        ")\n",
        "print(history.history.keys())\n",
        "# summarize history for accuracy\n",
        "plt.plot(history.history['accuracy'])\n",
        "plt.plot(history.history['val_accuracy'])\n",
        "plt.title('model accuracy')\n",
        "plt.ylabel('accuracy')\n",
        "plt.xlabel('epoch')\n",
        "plt.legend(['train', 'test'], loc='upper left')\n",
        "plt.show()\n",
        "# summarize history for loss\n",
        "plt.plot(history.history['loss'])\n",
        "plt.plot(history.history['val_loss'])\n",
        "plt.title('model loss')\n",
        "plt.ylabel('loss')\n",
        "plt.xlabel('epoch')\n",
        "plt.legend(['train', 'test'], loc='upper left')\n",
        "plt.show()\n"
      ],
      "metadata": {
        "id": "92rV9VHcdwLk"
      },
      "execution_count": null,
      "outputs": []
    }
  ],
  "metadata": {
    "accelerator": "GPU",
    "colab": {
      "name": "recommender-tf.ipynb",
      "provenance": [],
      "collapsed_sections": [],
      "mount_file_id": "13PUtIc02yNHhD3-G4ltfLz1fk9_Yajoc",
      "authorship_tag": "ABX9TyO335nOVZmNXTRs+o+adQIM",
      "include_colab_link": true
    },
    "kernelspec": {
      "display_name": "Python 3",
      "name": "python3"
    },
    "language_info": {
      "name": "python"
    }
  },
  "nbformat": 4,
  "nbformat_minor": 0
}
